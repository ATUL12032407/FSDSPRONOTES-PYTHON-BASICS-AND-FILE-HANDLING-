{
 "cells": [
  {
   "cell_type": "code",
   "execution_count": 1,
   "id": "589bff46-b447-439d-8621-9823610b02b6",
   "metadata": {},
   "outputs": [
    {
     "name": "stdin",
     "output_type": "stream",
     "text": [
      "Enter the amount. 100\n"
     ]
    },
    {
     "name": "stdout",
     "output_type": "stream",
     "text": [
      "I can buy shoes.\n"
     ]
    }
   ],
   "source": [
    "price=int(input(\"Enter the amount.\"))\n",
    "\n",
    "if price<=500:\n",
    "    print(\"I can buy shoes.\")\n"
   ]
  },
  {
   "cell_type": "code",
   "execution_count": 2,
   "id": "1510af1e-b5e7-447f-9780-420edcdffc13",
   "metadata": {},
   "outputs": [
    {
     "data": {
      "text/plain": [
       "True"
      ]
     },
     "execution_count": 2,
     "metadata": {},
     "output_type": "execute_result"
    }
   ],
   "source": [
    "price<=500"
   ]
  },
  {
   "cell_type": "code",
   "execution_count": 3,
   "id": "ffd2059f-bd98-4d0c-a10d-5ce78423b25b",
   "metadata": {},
   "outputs": [
    {
     "name": "stdin",
     "output_type": "stream",
     "text": [
      "Enter the amount. 100\n"
     ]
    }
   ],
   "source": [
    "price=int(input(\"Enter the amount.\"))\n",
    "\n",
    "if price<=500:\n",
    "    pass"
   ]
  },
  {
   "cell_type": "raw",
   "id": "754ed0be-de76-406b-a847-f938995290e1",
   "metadata": {},
   "source": [
    "pass keyword"
   ]
  },
  {
   "cell_type": "code",
   "execution_count": 4,
   "id": "cddc4b75-095e-4279-bae9-106704598a9f",
   "metadata": {},
   "outputs": [
    {
     "name": "stdin",
     "output_type": "stream",
     "text": [
      "Enter the amount. 200\n"
     ]
    },
    {
     "name": "stdout",
     "output_type": "stream",
     "text": [
      "I can buy shoes.\n"
     ]
    }
   ],
   "source": [
    "price=int(input(\"Enter the amount.\"))\n",
    "\n",
    "if price<=500:\n",
    "    print(\"I can buy shoes.\")\n",
    "else:\n",
    "    print(\" I cannot  buy shoes.\")"
   ]
  },
  {
   "cell_type": "code",
   "execution_count": 9,
   "id": "b6c49877-9c3d-4331-9b81-0c05858c3bb2",
   "metadata": {},
   "outputs": [
    {
     "name": "stdout",
     "output_type": "stream",
     "text": [
      "I can buy shirt.\n"
     ]
    }
   ],
   "source": [
    "a=500\n",
    "shirt_price=200\n",
    "pant_price=500\n",
    "coat_price=800\n",
    "\n",
    "if coat_price<=a:\n",
    "    print(\"I can buy coat.\")\n",
    "    \n",
    "elif pant_price<500:\n",
    "        print(\"I can buy pant.\")\n",
    "elif shirt_price<500:\n",
    "       print(\"I can buy shirt.\")        \n",
    "else:\n",
    "      print(\" I cannot  buy shoes.\")"
   ]
  },
  {
   "cell_type": "code",
   "execution_count": 11,
   "id": "c4879c3e-4032-4ee6-b7a1-a07e482ad5b9",
   "metadata": {},
   "outputs": [
    {
     "name": "stdout",
     "output_type": "stream",
     "text": [
      "yes its available under my budget\n",
      "I will try to buy shirt.\n",
      "Yes i will try to choose it.\n"
     ]
    }
   ],
   "source": [
    "a=500\n",
    "shirt_price=200\n",
    "pant_price=500\n",
    "coat_price=800\n",
    "my_size='L'\n",
    "my_fav_clr='White'\n",
    "store_clr=['White','red','blue','orange']\n",
    "size_store=['L','XL','S','XXL','XXXL']\n",
    "if coat_price<=a:\n",
    "    print(\"I can buy coat.\")\n",
    "    \n",
    "elif pant_price<500:\n",
    "        print(\"I can buy pant.\")\n",
    "elif shirt_price<500:\n",
    "        print(\"yes its available under my budget\")\n",
    "        if my_size in size_store:\n",
    "            print(\"I will try to buy shirt.\")\n",
    "            if my_fav_clr in store_clr:\n",
    "                print(\"Yes i will try to choose it.\")\n",
    "            else:\n",
    "                print(\"My favorate clr is not available i will move to another store\")\n",
    "                \n",
    "        else :\n",
    "            print(\"my size is not available.\") \n",
    "else:\n",
    "      print(\" I cannot  buy shoes.\")"
   ]
  },
  {
   "cell_type": "code",
   "execution_count": 7,
   "id": "95654828-3690-46e7-944b-c7dc3a0be647",
   "metadata": {},
   "outputs": [
    {
     "data": {
      "text/plain": [
       "False"
      ]
     },
     "execution_count": 7,
     "metadata": {},
     "output_type": "execute_result"
    }
   ],
   "source": [
    "my_size==size_store"
   ]
  },
  {
   "cell_type": "code",
   "execution_count": 24,
   "id": "7a108667-e0d4-44fc-b8d6-427660810dc8",
   "metadata": {},
   "outputs": [
    {
     "data": {
      "text/plain": [
       "False"
      ]
     },
     "execution_count": 24,
     "metadata": {},
     "output_type": "execute_result"
    }
   ],
   "source": [
    "'M' in size_store"
   ]
  },
  {
   "cell_type": "code",
   "execution_count": 30,
   "id": "771badc8-1e0c-4053-8a21-3b1dc74533eb",
   "metadata": {},
   "outputs": [],
   "source": [
    "course=['DSM','DSA','java','big data','DA']\n",
    "price= 20000\n",
    "mentor = \"sudhanshu kumar\"\n",
    "\n",
    "if 'DSM' in course and price == 1000 and \"sudhanshu kumar\" == mentor:\n",
    "    print(\"yes i am doing this course\")\n",
    "\n",
    "\n"
   ]
  },
  {
   "cell_type": "code",
   "execution_count": 31,
   "id": "8012ec0e-60ce-4028-af7a-61a46324d94a",
   "metadata": {},
   "outputs": [
    {
     "name": "stdout",
     "output_type": "stream",
     "text": [
      "It's out of my budget\n"
     ]
    }
   ],
   "source": [
    "course_price=20000\n",
    "\n",
    "if 10000<=course_price<=15000:\n",
    "    print(\"I will try  to  buy a course.\")\n",
    "else:\n",
    "    print(\"It's out of my budget\")"
   ]
  },
  {
   "cell_type": "code",
   "execution_count": 33,
   "id": "0dc480a0-4be0-440c-ad19-ac822a47fa67",
   "metadata": {},
   "outputs": [
    {
     "data": {
      "text/plain": [
       "False"
      ]
     },
     "execution_count": 33,
     "metadata": {},
     "output_type": "execute_result"
    }
   ],
   "source": [
    "10000<=course_price<=15000"
   ]
  },
  {
   "cell_type": "code",
   "execution_count": 37,
   "id": "6f952379-7c62-49db-8769-f54ea088c510",
   "metadata": {},
   "outputs": [
    {
     "name": "stdin",
     "output_type": "stream",
     "text": [
      "Enter your username: sudh\n",
      "enter your password sudh@1234\n"
     ]
    },
    {
     "name": "stdout",
     "output_type": "stream",
     "text": [
      "you haved loged in sucesfully\n"
     ]
    }
   ],
   "source": [
    "user_name='sudh'\n",
    "password=\"sudh@1234\"\n",
    "\n",
    "if user_name == input(\"Enter your username:\") and password==input(\"enter your password\"):\n",
    "    print(\"you haved loged in sucesfully\")\n",
    "else:\n",
    "    print(\"enter correct username and password \")\n"
   ]
  },
  {
   "cell_type": "code",
   "execution_count": 45,
   "id": "1c70f9d3-6ee0-4c69-938c-603ad46b27d3",
   "metadata": {},
   "outputs": [
    {
     "name": "stdin",
     "output_type": "stream",
     "text": [
      "enter your registered mobile no. 45432\n"
     ]
    },
    {
     "name": "stdout",
     "output_type": "stream",
     "text": [
      "You are a registered user \n"
     ]
    },
    {
     "name": "stdin",
     "output_type": "stream",
     "text": [
      "enter your otp that we have sent on your mobile no 1234\n"
     ]
    },
    {
     "name": "stdout",
     "output_type": "stream",
     "text": [
      "You have logged in sucessfully\n"
     ]
    }
   ],
   "source": [
    "mobile_no={123456,23454,345432123,56543,45432,234543243,344323452}\n",
    "otp=1234\n",
    "if int(input(\"enter your registered mobile no.\")) in mobile_no:\n",
    "    print(\"You are a registered user \")\n",
    "    if otp== int(input(\"enter your otp that we have sent on your mobile no\")):\n",
    "        print(\"You have logged in sucessfully\")\n",
    "    else:\n",
    "        print(\"you have entered incorrect otp please try again\")\n",
    "        \n",
    "else:\n",
    "    print(\"you have not entered a valid mo no\")"
   ]
  },
  {
   "cell_type": "markdown",
   "id": "45da379c-49d6-4ba2-b908-ed382c68f47a",
   "metadata": {},
   "source": [
    "Looping Statements  "
   ]
  },
  {
   "cell_type": "code",
   "execution_count": 6,
   "id": "8459b10a-ad3c-42a6-b883-3fb4e4d52385",
   "metadata": {},
   "outputs": [
    {
     "name": "stdout",
     "output_type": "stream",
     "text": [
      "23432\n",
      "yes user is registered.\n",
      "yes student details are available in D8\n",
      "course accessed to this user is  ['dsa', 'dsm', 'big data']\n",
      "23454\n",
      "345432123\n",
      "56543\n",
      "45432\n",
      "234543243\n",
      "344323452\n"
     ]
    }
   ],
   "source": [
    "l=[12,232,3,24,23,45,565,53,4,3,65]\n",
    "mobile_no=[23432,23454,345432123,56543,45432,234543243,344323452]\n",
    "stud_mo=23432\n",
    "stud_details={'mobile_no':23432,'course':['dsa','dsm','big data']}\n",
    "for i in mobile_no:\n",
    "    print(i)\n",
    "    if i==stud_mo:\n",
    "        print(\"yes user is registered.\")\n",
    "        if i==stud_details['mobile_no']:\n",
    "            print(\"yes student details are available in D8\")\n",
    "            print(\"course accessed to this user is \",stud_details['course'])"
   ]
  },
  {
   "cell_type": "code",
   "execution_count": 9,
   "id": "67d4379a-46b4-4c53-86f2-02549553d2cb",
   "metadata": {},
   "outputs": [
    {
     "name": "stdout",
     "output_type": "stream",
     "text": [
      "[12, 3, 4, 5, 56]\n",
      "['sudh', 'kumar']\n"
     ]
    }
   ],
   "source": [
    "t=(12,3,4,5,56,\"sudh\",\"kumar\")\n",
    "l_int=[]\n",
    "l_str=[]\n",
    "for i in t:\n",
    "    if type(i)==str:\n",
    "        l_str.append(i)\n",
    "    elif type(i)==int:\n",
    "        l_int.append(i)\n",
    "print(l_int)\n",
    "print(l_str)"
   ]
  },
  {
   "cell_type": "code",
   "execution_count": 10,
   "id": "b9e22c75-66f8-4d3e-b081-b316e0d1308e",
   "metadata": {},
   "outputs": [],
   "source": [
    "s={3,4,5,56,76,7,7,8,8}"
   ]
  },
  {
   "cell_type": "code",
   "execution_count": 11,
   "id": "4130a208-aec1-4671-be7f-147af5a1ea7a",
   "metadata": {},
   "outputs": [
    {
     "data": {
      "text/plain": [
       "{3, 4, 5, 7, 8, 56, 76}"
      ]
     },
     "execution_count": 11,
     "metadata": {},
     "output_type": "execute_result"
    }
   ],
   "source": [
    "s"
   ]
  },
  {
   "cell_type": "code",
   "execution_count": 12,
   "id": "9756a41e-f052-4ad0-8001-ba9bc1ad61fb",
   "metadata": {},
   "outputs": [
    {
     "name": "stdout",
     "output_type": "stream",
     "text": [
      "3\n",
      "4\n",
      "5\n",
      "7\n",
      "8\n",
      "56\n",
      "76\n"
     ]
    }
   ],
   "source": [
    "for i in s:\n",
    "    print(i)"
   ]
  },
  {
   "cell_type": "code",
   "execution_count": 16,
   "id": "c3ef795f-d382-4c80-9e6b-6ea7f0162e62",
   "metadata": {},
   "outputs": [],
   "source": [
    "d={\"name\":\"sudh\",'class':[\"big data\",\"data analytics\",\"data science\",\"dsa\",\"architecture\",\"system design\"], 'mobile no':345353453,\"email_id\":'sskumari787y@gmail.com'}"
   ]
  },
  {
   "cell_type": "code",
   "execution_count": 17,
   "id": "cbc79d18-950e-4dc5-998a-5a03701ab2be",
   "metadata": {},
   "outputs": [
    {
     "data": {
      "text/plain": [
       "{'name': 'sudh',\n",
       " 'class': ['big data',\n",
       "  'data analytics',\n",
       "  'data science',\n",
       "  'dsa',\n",
       "  'architecture',\n",
       "  'system design'],\n",
       " 'mobile no': 345353453,\n",
       " 'email_id': 'sskumari787y@gmail.com'}"
      ]
     },
     "execution_count": 17,
     "metadata": {},
     "output_type": "execute_result"
    }
   ],
   "source": [
    "d"
   ]
  },
  {
   "cell_type": "code",
   "execution_count": 18,
   "id": "039558a2-08f0-46c0-9900-49047fda48ca",
   "metadata": {},
   "outputs": [
    {
     "data": {
      "text/plain": [
       "dict_values(['sudh', ['big data', 'data analytics', 'data science', 'dsa', 'architecture', 'system design'], 345353453, 'sskumari787y@gmail.com'])"
      ]
     },
     "execution_count": 18,
     "metadata": {},
     "output_type": "execute_result"
    }
   ],
   "source": [
    "d.values()"
   ]
  },
  {
   "cell_type": "code",
   "execution_count": 24,
   "id": "17f5592b-a951-4adf-aad0-cec893d4133d",
   "metadata": {},
   "outputs": [
    {
     "name": "stdout",
     "output_type": "stream",
     "text": [
      "yes this mentor is teaching system design.\n"
     ]
    }
   ],
   "source": [
    "for i in d.values():\n",
    "    if type(i)==list:\n",
    "        if 'system design' in i:\n",
    "            print(\"yes this mentor is teaching system design.\")\n",
    "       "
   ]
  },
  {
   "cell_type": "code",
   "execution_count": null,
   "id": "49c96cff-6bda-4cfa-b82b-75cf11cc2c43",
   "metadata": {},
   "outputs": [],
   "source": []
  }
 ],
 "metadata": {
  "kernelspec": {
   "display_name": "Python 3 (ipykernel)",
   "language": "python",
   "name": "python3"
  },
  "language_info": {
   "codemirror_mode": {
    "name": "ipython",
    "version": 3
   },
   "file_extension": ".py",
   "mimetype": "text/x-python",
   "name": "python",
   "nbconvert_exporter": "python",
   "pygments_lexer": "ipython3",
   "version": "3.10.8"
  }
 },
 "nbformat": 4,
 "nbformat_minor": 5
}
