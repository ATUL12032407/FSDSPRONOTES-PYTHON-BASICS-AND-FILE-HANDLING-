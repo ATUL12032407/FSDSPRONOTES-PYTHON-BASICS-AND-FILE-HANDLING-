{
 "cells": [
  {
   "cell_type": "markdown",
   "id": "acc04096-d4b4-4149-9239-70acc2f19096",
   "metadata": {},
   "source": [
    "File Handling and Exception Handling and Logging"
   ]
  },
  {
   "cell_type": "code",
   "execution_count": 5,
   "id": "9f8309f7-f13d-4d40-ac73-5227be1f1d38",
   "metadata": {},
   "outputs": [],
   "source": [
    "a=10\n",
    "b=0"
   ]
  },
  {
   "cell_type": "code",
   "execution_count": 6,
   "id": "7339acd9-b256-4684-99eb-6ea30e1f73d5",
   "metadata": {},
   "outputs": [
    {
     "data": {
      "text/plain": [
       "0"
      ]
     },
     "execution_count": 6,
     "metadata": {},
     "output_type": "execute_result"
    }
   ],
   "source": [
    "a*b"
   ]
  },
  {
   "cell_type": "code",
   "execution_count": 7,
   "id": "f49428b1-9c1d-4c9a-a84b-916cbbc7da08",
   "metadata": {},
   "outputs": [
    {
     "data": {
      "text/plain": [
       "0"
      ]
     },
     "execution_count": 7,
     "metadata": {},
     "output_type": "execute_result"
    }
   ],
   "source": [
    "a*b"
   ]
  },
  {
   "cell_type": "code",
   "execution_count": 8,
   "id": "0846863e-eaa1-446f-a302-72f756562075",
   "metadata": {},
   "outputs": [
    {
     "ename": "ZeroDivisionError",
     "evalue": "division by zero",
     "output_type": "error",
     "traceback": [
      "\u001b[0;31m---------------------------------------------------------------------------\u001b[0m",
      "\u001b[0;31mZeroDivisionError\u001b[0m                         Traceback (most recent call last)",
      "Cell \u001b[0;32mIn[8], line 1\u001b[0m\n\u001b[0;32m----> 1\u001b[0m \u001b[43ma\u001b[49m\u001b[38;5;241;43m/\u001b[39;49m\u001b[43mb\u001b[49m\n",
      "\u001b[0;31mZeroDivisionError\u001b[0m: division by zero"
     ]
    }
   ],
   "source": [
    "a/b"
   ]
  },
  {
   "cell_type": "code",
   "execution_count": 9,
   "id": "86311520-1010-457f-b5fa-41703f6e1bfa",
   "metadata": {},
   "outputs": [
    {
     "name": "stdin",
     "output_type": "stream",
     "text": [
      "Enter a value for a 1\n",
      "Enter a value for b 2\n"
     ]
    }
   ],
   "source": [
    "a=int(input(\"Enter a value for a\"))\n",
    "b=int(input(\"Enter a value for b\"))"
   ]
  },
  {
   "cell_type": "code",
   "execution_count": 10,
   "id": "61eb4b83-ec6a-4003-afac-a8bbc3caddb5",
   "metadata": {},
   "outputs": [
    {
     "data": {
      "text/plain": [
       "2"
      ]
     },
     "execution_count": 10,
     "metadata": {},
     "output_type": "execute_result"
    }
   ],
   "source": [
    "a*b"
   ]
  },
  {
   "cell_type": "code",
   "execution_count": 11,
   "id": "cd1d02ac-65b4-4d5d-ac3a-148d58fcd074",
   "metadata": {},
   "outputs": [
    {
     "name": "stdout",
     "output_type": "stream",
     "text": [
      "sometthing\n"
     ]
    }
   ],
   "source": [
    "a/b\n",
    "print(\"sometthing\")"
   ]
  },
  {
   "cell_type": "code",
   "execution_count": 12,
   "id": "1f669768-b0bd-4dd2-88da-09452312cf74",
   "metadata": {},
   "outputs": [
    {
     "data": {
      "text/plain": [
       "3"
      ]
     },
     "execution_count": 12,
     "metadata": {},
     "output_type": "execute_result"
    }
   ],
   "source": [
    "a+b"
   ]
  },
  {
   "cell_type": "markdown",
   "id": "f77c4781-dce1-45dd-9a85-4c1df16ec2eb",
   "metadata": {},
   "source": [
    "We try to handle error at the time of writing the code."
   ]
  },
  {
   "cell_type": "markdown",
   "id": "47724957-638c-41e9-9773-6889a5810fe5",
   "metadata": {},
   "source": [
    "A piece of code which may produce an error we try to handle all these kind of errors."
   ]
  },
  {
   "cell_type": "markdown",
   "id": "75b64042-f1b6-4377-a959-d2da5585a025",
   "metadata": {},
   "source": [
    "It's a coding convention that we are going to follow "
   ]
  },
  {
   "cell_type": "markdown",
   "id": "9fb1a526-ad9d-4d26-ba64-dd030ebc6d21",
   "metadata": {},
   "source": [
    "How we can try to do implementation of exception handling?"
   ]
  },
  {
   "cell_type": "code",
   "execution_count": 14,
   "id": "34451e07-79d4-47d5-bd5e-ea81250835f0",
   "metadata": {},
   "outputs": [],
   "source": [
    "l=[4,5,6,7,8,9,0]\n",
    "l1=[]\n",
    "def even_parser(l):\n",
    "    for i in l :\n",
    "        if i%2==0 :\n",
    "            l1.append(i)\n",
    "    return l1       \n"
   ]
  },
  {
   "cell_type": "code",
   "execution_count": 15,
   "id": "4d9ec438-002f-4c16-8c34-c5b2f6bab8a4",
   "metadata": {},
   "outputs": [
    {
     "ename": "TypeError",
     "evalue": "not all arguments converted during string formatting",
     "output_type": "error",
     "traceback": [
      "\u001b[0;31m---------------------------------------------------------------------------\u001b[0m",
      "\u001b[0;31mTypeError\u001b[0m                                 Traceback (most recent call last)",
      "Cell \u001b[0;32mIn[15], line 1\u001b[0m\n\u001b[0;32m----> 1\u001b[0m \u001b[43meven_parser\u001b[49m\u001b[43m(\u001b[49m\u001b[38;5;124;43m\"\u001b[39;49m\u001b[38;5;124;43msudh\u001b[39;49m\u001b[38;5;124;43m\"\u001b[39;49m\u001b[43m)\u001b[49m\n",
      "Cell \u001b[0;32mIn[14], line 5\u001b[0m, in \u001b[0;36meven_parser\u001b[0;34m(l)\u001b[0m\n\u001b[1;32m      3\u001b[0m \u001b[38;5;28;01mdef\u001b[39;00m \u001b[38;5;21meven_parser\u001b[39m(l):\n\u001b[1;32m      4\u001b[0m     \u001b[38;5;28;01mfor\u001b[39;00m i \u001b[38;5;129;01min\u001b[39;00m l :\n\u001b[0;32m----> 5\u001b[0m         \u001b[38;5;28;01mif\u001b[39;00m \u001b[43mi\u001b[49m\u001b[38;5;241;43m%\u001b[39;49m\u001b[38;5;241;43m2\u001b[39;49m\u001b[38;5;241m==\u001b[39m\u001b[38;5;241m0\u001b[39m :\n\u001b[1;32m      6\u001b[0m             l1\u001b[38;5;241m.\u001b[39mappend(i)\n\u001b[1;32m      7\u001b[0m     \u001b[38;5;28;01mreturn\u001b[39;00m l1\n",
      "\u001b[0;31mTypeError\u001b[0m: not all arguments converted during string formatting"
     ]
    }
   ],
   "source": [
    "even_parser(\"sudh\")"
   ]
  },
  {
   "cell_type": "code",
   "execution_count": 16,
   "id": "43be935c-b648-47bc-b645-b831d20c6c45",
   "metadata": {},
   "outputs": [
    {
     "ename": "TypeError",
     "evalue": "'int' object is not iterable",
     "output_type": "error",
     "traceback": [
      "\u001b[0;31m---------------------------------------------------------------------------\u001b[0m",
      "\u001b[0;31mTypeError\u001b[0m                                 Traceback (most recent call last)",
      "Cell \u001b[0;32mIn[16], line 1\u001b[0m\n\u001b[0;32m----> 1\u001b[0m \u001b[43meven_parser\u001b[49m\u001b[43m(\u001b[49m\u001b[38;5;241;43m1\u001b[39;49m\u001b[43m)\u001b[49m\n",
      "Cell \u001b[0;32mIn[14], line 4\u001b[0m, in \u001b[0;36meven_parser\u001b[0;34m(l)\u001b[0m\n\u001b[1;32m      3\u001b[0m \u001b[38;5;28;01mdef\u001b[39;00m \u001b[38;5;21meven_parser\u001b[39m(l):\n\u001b[0;32m----> 4\u001b[0m     \u001b[38;5;28;01mfor\u001b[39;00m i \u001b[38;5;129;01min\u001b[39;00m l :\n\u001b[1;32m      5\u001b[0m         \u001b[38;5;28;01mif\u001b[39;00m i\u001b[38;5;241m%\u001b[39m\u001b[38;5;241m2\u001b[39m\u001b[38;5;241m==\u001b[39m\u001b[38;5;241m0\u001b[39m :\n\u001b[1;32m      6\u001b[0m             l1\u001b[38;5;241m.\u001b[39mappend(i)\n",
      "\u001b[0;31mTypeError\u001b[0m: 'int' object is not iterable"
     ]
    }
   ],
   "source": [
    "even_parser(1)"
   ]
  },
  {
   "cell_type": "code",
   "execution_count": 17,
   "id": "2caa5391-fd9c-4cf5-bc3e-5266e1988bf4",
   "metadata": {},
   "outputs": [
    {
     "name": "stdout",
     "output_type": "stream",
     "text": [
      "print\n"
     ]
    }
   ],
   "source": [
    "even_parser(l)\n",
    "print(\"print\")"
   ]
  },
  {
   "cell_type": "code",
   "execution_count": 18,
   "id": "3333b84d-1af9-4cc2-992b-e02feda7fc48",
   "metadata": {},
   "outputs": [
    {
     "ename": "TypeError",
     "evalue": "not all arguments converted during string formatting",
     "output_type": "error",
     "traceback": [
      "\u001b[0;31m---------------------------------------------------------------------------\u001b[0m",
      "\u001b[0;31mTypeError\u001b[0m                                 Traceback (most recent call last)",
      "Cell \u001b[0;32mIn[18], line 1\u001b[0m\n\u001b[0;32m----> 1\u001b[0m \u001b[43meven_parser\u001b[49m\u001b[43m(\u001b[49m\u001b[38;5;124;43m\"\u001b[39;49m\u001b[38;5;124;43ma\u001b[39;49m\u001b[38;5;124;43m\"\u001b[39;49m\u001b[43m)\u001b[49m\n\u001b[1;32m      2\u001b[0m \u001b[38;5;28mprint\u001b[39m(\u001b[38;5;124m\"\u001b[39m\u001b[38;5;124mprint\u001b[39m\u001b[38;5;124m\"\u001b[39m)\n",
      "Cell \u001b[0;32mIn[14], line 5\u001b[0m, in \u001b[0;36meven_parser\u001b[0;34m(l)\u001b[0m\n\u001b[1;32m      3\u001b[0m \u001b[38;5;28;01mdef\u001b[39;00m \u001b[38;5;21meven_parser\u001b[39m(l):\n\u001b[1;32m      4\u001b[0m     \u001b[38;5;28;01mfor\u001b[39;00m i \u001b[38;5;129;01min\u001b[39;00m l :\n\u001b[0;32m----> 5\u001b[0m         \u001b[38;5;28;01mif\u001b[39;00m \u001b[43mi\u001b[49m\u001b[38;5;241;43m%\u001b[39;49m\u001b[38;5;241;43m2\u001b[39;49m\u001b[38;5;241m==\u001b[39m\u001b[38;5;241m0\u001b[39m :\n\u001b[1;32m      6\u001b[0m             l1\u001b[38;5;241m.\u001b[39mappend(i)\n\u001b[1;32m      7\u001b[0m     \u001b[38;5;28;01mreturn\u001b[39;00m l1\n",
      "\u001b[0;31mTypeError\u001b[0m: not all arguments converted during string formatting"
     ]
    }
   ],
   "source": [
    "even_parser(\"a\")\n",
    "print(\"print\")"
   ]
  },
  {
   "cell_type": "markdown",
   "id": "bcf028eb-70f4-44e1-aae6-d098ca8229f0",
   "metadata": {},
   "source": [
    "How to handle thiese kind of errors ?"
   ]
  },
  {
   "cell_type": "markdown",
   "id": "5ac64792-40db-4475-becb-42c3d23019de",
   "metadata": {},
   "source": [
    "Some  Blocks : Try Block "
   ]
  },
  {
   "cell_type": "markdown",
   "id": "09d98eb0-c0f0-4b7c-b6aa-e35b0bb0067d",
   "metadata": {},
   "source": [
    "Try block always executes so that if there is error it will try to handle it.\n",
    " There are three blocks try,except,finally."
   ]
  },
  {
   "cell_type": "code",
   "execution_count": 19,
   "id": "9fe5e09b-d867-4497-855c-6bb8afccad12",
   "metadata": {},
   "outputs": [
    {
     "name": "stdin",
     "output_type": "stream",
     "text": [
      "Enter a value for a sdfg\n"
     ]
    },
    {
     "name": "stdout",
     "output_type": "stream",
     "text": [
      "print something\n"
     ]
    }
   ],
   "source": [
    "try :\n",
    "    a=int(input(\"Enter a value for a\"))\n",
    "    b=int(input(\"Enter a value for b\"))\n",
    "    c=a/b\n",
    "    print(c)\n",
    "    \n",
    "    \n",
    "except :\n",
    "    pass\n",
    "print(\"print something\")\n"
   ]
  },
  {
   "cell_type": "code",
   "execution_count": 20,
   "id": "c280afc1-5122-4aa5-815d-93711313becd",
   "metadata": {},
   "outputs": [
    {
     "name": "stdin",
     "output_type": "stream",
     "text": [
      "Enter a value for a 0\n",
      "Enter a value for b 0\n"
     ]
    },
    {
     "name": "stdout",
     "output_type": "stream",
     "text": [
      "print something\n"
     ]
    }
   ],
   "source": [
    "try :\n",
    "    a=int(input(\"Enter a value for a\"))\n",
    "    b=int(input(\"Enter a value for b\"))\n",
    "    c=a/b\n",
    "    print(c)\n",
    "    \n",
    "    \n",
    "except :\n",
    "    pass\n",
    "print(\"print something\")\n"
   ]
  },
  {
   "cell_type": "code",
   "execution_count": null,
   "id": "5c8a4965-2a3f-4d66-8c20-0d5b146ad126",
   "metadata": {},
   "outputs": [],
   "source": [
    "a=int(input(\"Enter a value for a\"))"
   ]
  },
  {
   "cell_type": "markdown",
   "id": "9654ee4a-950c-4c3e-8f81-0f00681c8bc1",
   "metadata": {},
   "source": [
    "It is not blocking the error. "
   ]
  },
  {
   "cell_type": "code",
   "execution_count": 21,
   "id": "00c44ace-a071-4168-a8b0-db746d0427d2",
   "metadata": {},
   "outputs": [],
   "source": [
    "l=[4,5,6,7,8,9,0]\n",
    "l1=[]\n",
    "def even_parser1(l):\n",
    "    try :\n",
    "        for i in l :\n",
    "            if i%2==0 :\n",
    "                l1.append(i)\n",
    "        return l1\n",
    "    except :\n",
    "        pass"
   ]
  },
  {
   "cell_type": "code",
   "execution_count": 22,
   "id": "72ab7f77-1601-49e6-ae60-1e652d5e1d31",
   "metadata": {},
   "outputs": [],
   "source": [
    "even_parser1(5)"
   ]
  },
  {
   "cell_type": "markdown",
   "id": "02423c68-b9a3-4674-b5bc-758a6d96f602",
   "metadata": {},
   "source": [
    "No error given"
   ]
  },
  {
   "cell_type": "code",
   "execution_count": 23,
   "id": "e4bfb00d-a76b-49c4-b2c9-9d44a2b165e6",
   "metadata": {},
   "outputs": [
    {
     "ename": "TypeError",
     "evalue": "'int' object is not iterable",
     "output_type": "error",
     "traceback": [
      "\u001b[0;31m---------------------------------------------------------------------------\u001b[0m",
      "\u001b[0;31mTypeError\u001b[0m                                 Traceback (most recent call last)",
      "Cell \u001b[0;32mIn[23], line 1\u001b[0m\n\u001b[0;32m----> 1\u001b[0m \u001b[43meven_parser\u001b[49m\u001b[43m(\u001b[49m\u001b[38;5;241;43m1\u001b[39;49m\u001b[43m)\u001b[49m\n",
      "Cell \u001b[0;32mIn[14], line 4\u001b[0m, in \u001b[0;36meven_parser\u001b[0;34m(l)\u001b[0m\n\u001b[1;32m      3\u001b[0m \u001b[38;5;28;01mdef\u001b[39;00m \u001b[38;5;21meven_parser\u001b[39m(l):\n\u001b[0;32m----> 4\u001b[0m     \u001b[38;5;28;01mfor\u001b[39;00m i \u001b[38;5;129;01min\u001b[39;00m l :\n\u001b[1;32m      5\u001b[0m         \u001b[38;5;28;01mif\u001b[39;00m i\u001b[38;5;241m%\u001b[39m\u001b[38;5;241m2\u001b[39m\u001b[38;5;241m==\u001b[39m\u001b[38;5;241m0\u001b[39m :\n\u001b[1;32m      6\u001b[0m             l1\u001b[38;5;241m.\u001b[39mappend(i)\n",
      "\u001b[0;31mTypeError\u001b[0m: 'int' object is not iterable"
     ]
    }
   ],
   "source": [
    "even_parser(1)"
   ]
  },
  {
   "cell_type": "code",
   "execution_count": 24,
   "id": "9ebb2923-be38-4b0e-8967-4ac599cb5aa2",
   "metadata": {},
   "outputs": [
    {
     "name": "stdout",
     "output_type": "stream",
     "text": [
      "asdjfds\n"
     ]
    }
   ],
   "source": [
    "even_parser1(5)\n",
    "print(\"asdjfds\")"
   ]
  },
  {
   "cell_type": "markdown",
   "id": "8205feb3-d279-45bd-8877-29719c56726d",
   "metadata": {},
   "source": [
    "How i am going to know what kind of error this code is producing ?"
   ]
  },
  {
   "cell_type": "markdown",
   "id": "7a91d183-92ca-411f-8810-579c3370f2a3",
   "metadata": {},
   "source": [
    "We have to use exception handling by default. "
   ]
  },
  {
   "cell_type": "code",
   "execution_count": 25,
   "id": "d2849d79-5abe-4fa0-a5f9-87ebe53c7bbd",
   "metadata": {},
   "outputs": [
    {
     "name": "stdin",
     "output_type": "stream",
     "text": [
      " 0\n",
      " 0\n"
     ]
    },
    {
     "name": "stdout",
     "output_type": "stream",
     "text": [
      "division by zero\n"
     ]
    }
   ],
   "source": [
    "try :\n",
    "    a=int(input())\n",
    "    b=int(input())\n",
    "    c=6/0\n",
    "except Exception as e :\n",
    "    print(e)"
   ]
  },
  {
   "cell_type": "markdown",
   "id": "af410282-d9a4-4550-a135-412366d109a2",
   "metadata": {},
   "source": [
    "Exception is a package or module  in python."
   ]
  },
  {
   "cell_type": "code",
   "execution_count": null,
   "id": "9a6a469b-b1ec-4e90-ad39-5a71e3c279c5",
   "metadata": {},
   "outputs": [],
   "source": [
    "c=6/0"
   ]
  },
  {
   "cell_type": "markdown",
   "id": "fcc91eb6-22b0-4ed5-840f-7bfad1b52d49",
   "metadata": {},
   "source": [
    "As a good coder Instead of writing generic class  for handling and exception we should always write specific class for handling and exception  "
   ]
  },
  {
   "cell_type": "markdown",
   "id": "79af55c6-4255-4585-9def-01efaf28ad42",
   "metadata": {},
   "source": [
    "So instead of writing a super class we can go with specific class."
   ]
  },
  {
   "cell_type": "code",
   "execution_count": 26,
   "id": "31f59ef3-464a-4fb2-a463-bbdd3443578e",
   "metadata": {},
   "outputs": [
    {
     "name": "stdin",
     "output_type": "stream",
     "text": [
      " 0\n",
      " 0\n"
     ]
    },
    {
     "name": "stdout",
     "output_type": "stream",
     "text": [
      "division by zero\n"
     ]
    }
   ],
   "source": [
    "try :\n",
    "    a=int(input())\n",
    "    b=int(input())\n",
    "    c=6/0\n",
    "except TypeError as t :\n",
    "    print(t)\n",
    "except ZeroDivisionError as z:\n",
    "    print(z)"
   ]
  },
  {
   "cell_type": "code",
   "execution_count": 27,
   "id": "01ab9701-344b-4f93-962d-c9bfaa32e850",
   "metadata": {},
   "outputs": [
    {
     "name": "stdin",
     "output_type": "stream",
     "text": [
      " 9\n",
      " 0\n"
     ]
    },
    {
     "name": "stdout",
     "output_type": "stream",
     "text": [
      "division by zero\n"
     ]
    }
   ],
   "source": [
    "try :\n",
    "    a=int(input())\n",
    "    b=int(input())\n",
    "    c=6/0\n",
    "except TypeError as t :\n",
    "    print(t)\n",
    "except ZeroDivisionError as z:\n",
    "    print(z)\n",
    "except ValueError as v :\n",
    "    print(v)\n",
    "    "
   ]
  },
  {
   "cell_type": "code",
   "execution_count": 28,
   "id": "a1ce608a-9bb9-4c49-8506-1d3f6fb1c3da",
   "metadata": {},
   "outputs": [
    {
     "ename": "SyntaxError",
     "evalue": "expected 'except' or 'finally' block (1087232178.py, line 8)",
     "output_type": "error",
     "traceback": [
      "\u001b[0;36m  Cell \u001b[0;32mIn[28], line 8\u001b[0;36m\u001b[0m\n\u001b[0;31m    except ValueError as v :\u001b[0m\n\u001b[0m                            ^\u001b[0m\n\u001b[0;31mSyntaxError\u001b[0m\u001b[0;31m:\u001b[0m expected 'except' or 'finally' block\n"
     ]
    }
   ],
   "source": [
    "try :\n",
    "    \n",
    "    c=6/0\n",
    "except ZeroDivisionError as z:\n",
    "    print(z)\n",
    "    try :\n",
    "        y=int(\"sudh\")\n",
    "except ValueError as v :\n",
    "    print(v)"
   ]
  },
  {
   "cell_type": "code",
   "execution_count": 29,
   "id": "332d9f76-5b0a-436b-835c-35c940a6ceb9",
   "metadata": {},
   "outputs": [
    {
     "name": "stdout",
     "output_type": "stream",
     "text": [
      "division by zero\n"
     ]
    }
   ],
   "source": [
    "try :\n",
    "    c=6/0\n",
    "except ZeroDivisionError as z:\n",
    "    print(z)\n",
    "else :\n",
    "    print(\"this will execute itself once try will execute without any error\")"
   ]
  },
  {
   "cell_type": "code",
   "execution_count": 30,
   "id": "d67f9698-c7ec-4b84-9353-511dd8e863da",
   "metadata": {},
   "outputs": [
    {
     "name": "stdout",
     "output_type": "stream",
     "text": [
      "this will execute itself once try will execute without any error\n",
      "this will always be executed.\n"
     ]
    }
   ],
   "source": [
    "try :\n",
    "    c=6/2\n",
    "except ZeroDivisionError as z:\n",
    "    print(z)\n",
    "else :\n",
    "    print(\"this will execute itself once try will execute without any error\")\n",
    "finally :\n",
    "    print(\"this will always be executed.\")\n",
    "    "
   ]
  },
  {
   "cell_type": "markdown",
   "id": "9a920d0c-1a37-4ad0-b22a-e7fc26a69e78",
   "metadata": {},
   "source": [
    "Only 4-blocks exists."
   ]
  },
  {
   "cell_type": "markdown",
   "id": "c028a9d0-3818-4ea1-8883-89b1813b562f",
   "metadata": {},
   "source": [
    "Concept situation exception :-"
   ]
  },
  {
   "cell_type": "code",
   "execution_count": 31,
   "id": "2797aec9-ad99-47bd-b277-191bb158f9a4",
   "metadata": {},
   "outputs": [
    {
     "ename": "KeyError",
     "evalue": "'course'",
     "output_type": "error",
     "traceback": [
      "\u001b[0;31m---------------------------------------------------------------------------\u001b[0m",
      "\u001b[0;31mKeyError\u001b[0m                                  Traceback (most recent call last)",
      "Cell \u001b[0;32mIn[31], line 2\u001b[0m\n\u001b[1;32m      1\u001b[0m d\u001b[38;5;241m=\u001b[39m{\u001b[38;5;124m\"\u001b[39m\u001b[38;5;124mname\u001b[39m\u001b[38;5;124m\"\u001b[39m:\u001b[38;5;124m\"\u001b[39m\u001b[38;5;124msudh\u001b[39m\u001b[38;5;124m\"\u001b[39m,\u001b[38;5;124m\"\u001b[39m\u001b[38;5;124mmobile_no\u001b[39m\u001b[38;5;124m\"\u001b[39m:\u001b[38;5;241m23432\u001b[39m,\u001b[38;5;124m\"\u001b[39m\u001b[38;5;124memail_id\u001b[39m\u001b[38;5;124m\"\u001b[39m:\u001b[38;5;124m\"\u001b[39m\u001b[38;5;124msudh@gmail.com\u001b[39m\u001b[38;5;124m\"\u001b[39m}\n\u001b[0;32m----> 2\u001b[0m \u001b[43md\u001b[49m\u001b[43m[\u001b[49m\u001b[38;5;124;43m\"\u001b[39;49m\u001b[38;5;124;43mcourse\u001b[39;49m\u001b[38;5;124;43m\"\u001b[39;49m\u001b[43m]\u001b[49m\n",
      "\u001b[0;31mKeyError\u001b[0m: 'course'"
     ]
    }
   ],
   "source": [
    "\n",
    "    d={\"name\":\"sudh\",\"mobile_no\":23432,\"email_id\":\"sudh@gmail.com\"}\n",
    "    d[\"course\"]\n",
    "\n",
    "    "
   ]
  },
  {
   "cell_type": "code",
   "execution_count": 32,
   "id": "eeb00c2b-ec19-423f-b846-92e6bfbfefa0",
   "metadata": {},
   "outputs": [
    {
     "data": {
      "text/plain": [
       "{'name': 'sudh', 'mobile_no': 23432, 'email_id': 'sudh@gmail.com'}"
      ]
     },
     "execution_count": 32,
     "metadata": {},
     "output_type": "execute_result"
    }
   ],
   "source": [
    "d"
   ]
  },
  {
   "cell_type": "code",
   "execution_count": 33,
   "id": "79f29404-4cf3-43c2-bbb3-d4e7bfc864da",
   "metadata": {},
   "outputs": [
    {
     "name": "stdout",
     "output_type": "stream",
     "text": [
      "This is a key Error.\n"
     ]
    }
   ],
   "source": [
    "try :\n",
    "    d={\"name\":\"sudh\",\"mobile_no\":23432,\"email_id\":\"sudh@gmail.com\"}\n",
    "    d[\"course\"]\n",
    "except Exception :\n",
    "    print(\"This is a key Error.\")"
   ]
  },
  {
   "cell_type": "code",
   "execution_count": 34,
   "id": "1958651d-74c9-4446-9bab-5d0eb85de99c",
   "metadata": {},
   "outputs": [
    {
     "ename": "IndexError",
     "evalue": "list index out of range",
     "output_type": "error",
     "traceback": [
      "\u001b[0;31m---------------------------------------------------------------------------\u001b[0m",
      "\u001b[0;31mIndexError\u001b[0m                                Traceback (most recent call last)",
      "Cell \u001b[0;32mIn[34], line 2\u001b[0m\n\u001b[1;32m      1\u001b[0m l\u001b[38;5;241m=\u001b[39m[\u001b[38;5;241m4\u001b[39m,\u001b[38;5;241m5\u001b[39m,\u001b[38;5;241m6\u001b[39m,\u001b[38;5;241m7\u001b[39m,\u001b[38;5;241m7\u001b[39m,\u001b[38;5;241m8\u001b[39m]\n\u001b[0;32m----> 2\u001b[0m \u001b[43ml\u001b[49m\u001b[43m[\u001b[49m\u001b[38;5;241;43m10\u001b[39;49m\u001b[43m]\u001b[49m\n",
      "\u001b[0;31mIndexError\u001b[0m: list index out of range"
     ]
    }
   ],
   "source": [
    "l=[4,5,6,7,7,8]\n",
    "l[10]"
   ]
  },
  {
   "cell_type": "code",
   "execution_count": 35,
   "id": "afce88cc-c584-42b4-92de-f4e692940e6b",
   "metadata": {},
   "outputs": [
    {
     "name": "stdout",
     "output_type": "stream",
     "text": [
      "This is index out of range error.\n"
     ]
    }
   ],
   "source": [
    "try :\n",
    "    l=[4,5,6,7,7,8]\n",
    "    l[10]\n",
    "except Exception as e:\n",
    "    print(\"This is index out of range error.\")"
   ]
  },
  {
   "cell_type": "code",
   "execution_count": 36,
   "id": "9b7d5752-cebf-4ad4-ad99-3a01d7800b1a",
   "metadata": {},
   "outputs": [
    {
     "ename": "ValueError",
     "evalue": "invalid literal for int() with base 10: 'sudh'",
     "output_type": "error",
     "traceback": [
      "\u001b[0;31m---------------------------------------------------------------------------\u001b[0m",
      "\u001b[0;31mValueError\u001b[0m                                Traceback (most recent call last)",
      "Cell \u001b[0;32mIn[36], line 2\u001b[0m\n\u001b[1;32m      1\u001b[0m a\u001b[38;5;241m=\u001b[39m\u001b[38;5;124m\"\u001b[39m\u001b[38;5;124msudh\u001b[39m\u001b[38;5;124m\"\u001b[39m\n\u001b[0;32m----> 2\u001b[0m \u001b[38;5;28;43mint\u001b[39;49m\u001b[43m(\u001b[49m\u001b[43ma\u001b[49m\u001b[43m)\u001b[49m\n",
      "\u001b[0;31mValueError\u001b[0m: invalid literal for int() with base 10: 'sudh'"
     ]
    }
   ],
   "source": [
    "a=\"sudh\"\n",
    "int(a)"
   ]
  },
  {
   "cell_type": "code",
   "execution_count": 37,
   "id": "82855522-a6fd-47f1-a4a0-8a1a4d1d5079",
   "metadata": {},
   "outputs": [
    {
     "name": "stdout",
     "output_type": "stream",
     "text": [
      "invalid literal for int() with base 10: 'sudh'\n"
     ]
    }
   ],
   "source": [
    "try :\n",
    "    a=\"sudh\"\n",
    "    int(a)\n",
    "except Exception as e:\n",
    "    print(e)    "
   ]
  },
  {
   "cell_type": "code",
   "execution_count": 38,
   "id": "6580e416-381b-413c-bc01-6af1f5b24852",
   "metadata": {},
   "outputs": [
    {
     "data": {
      "text/plain": [
       "'From Wikipedia, the free encyclopedia\\nFor the parent company with the stock tickers GOOG and GOOGL, see Alphabet Inc.\\nThis article is about the company. For the search engine provided by the company, see Google Search. For other uses, see Google (disambiguation).\\nGoogle LLC\\nEach letter of \"Google\" is colored (from left to right) in blue, red, yellow, blue, green, and red.\\nThe Google logo used since 2015\\n\\nGoogle\\'s headquarters, the Googleplex\\nFormerly\\tGoogle Inc. (1998–2017)\\nType\\tSubsidiary\\nTraded as\\tNASDAQ: GOOGL, GOOG\\nIndustry\\t\\nInternet\\nCloud computing\\nComputer software\\nComputer hardware\\nArtificial intelligence\\nAdvertising\\nFounded\\tSeptember 4, 1998; 25 years ago[a] in Menlo Park, California, United States\\nFounders\\t\\nLarry Page\\nSergey Brin\\nHeadquarters\\tGoogleplex, Mountain View, California, U.S.\\nArea served\\tWorldwide\\nKey people\\t\\nSundar Pichai (CEO)\\nRuth Porat (CFO)\\nThomas Kurian (CEO of Google Cloud)\\nProducts\\t\\nSearch\\nWorkspace\\nAndroid\\nWaze\\nPixel\\nNest\\nFull list\\nNumber of employees\\t139,995 (2021) \\nParent\\tAlphabet Inc.\\nSubsidiaries\\t\\nAdscape\\nAndroid\\nDeepMind\\nEndoxon\\nFeedBurner\\nFitbit\\nImageAmerica\\nKaltix\\nNest Labs\\nYouTube\\nZipDash\\nX Development\\nASN\\t\\n15169\\nWebsite\\tabout.google\\nFootnotes / references\\n[5][6][7][8]\\nEric Schmidt, Sergey Brin, and Larry Page sitting together\\nThen Chairman and CEO Eric Schmidt (left) with co-founders Sergey Brin (center) and Larry Page (right) in 2008\\nGoogle LLC (/ˈɡuːɡəl/ ⓘ) is an American multinational technology company focusing on artificial intelligence,[9] online advertising, search engine technology, cloud computing, computer software, quantum computing, e-commerce, and consumer electronics. It has been referred to as \"the most powerful company in the world\"[10] and as one of the world\\'s most valuable brands due to its market dominance, data collection, and technological advantages in the field of artificial intelligence.[11][12][13] Google\\'s parent company Alphabet Inc. is one of the five Big Tech companies, alongside Amazon, Apple Inc., Meta, and Microsoft.\\n\\nGoogle was founded on September 4, 1998, by American computer scientists Larry Page and Sergey Brin while they were PhD students at Stanford University in California. Together they own about 14% of its publicly listed shares and control 56% of its stockholder voting power through super-voting stock. The company went public via an initial public offering (IPO) in 2004. In 2015, Google was reorganized as a wholly owned subsidiary of Alphabet Inc. Google is Alphabet\\'s largest subsidiary and is a holding company for Alphabet\\'s internet properties and interests. Sundar Pichai was appointed CEO of Google on October 24, 2015, replacing Larry Page, who became the CEO of Alphabet. On December 3, 2019, Pichai also became the CEO of Alphabet.[14]\\n\\nThe company has since rapidly grown to offer a multitude of products and services beyond Google Search, many of which hold dominant market positions. These products address a wide range of use cases, including email (Gmail), navigation (Waze & Maps), cloud computing (Cloud), web browsing (Chrome), video sharing (YouTube), productivity (Workspace), operating systems (Android), cloud storage (Drive), language translation (Translate), photo storage (Photos), video calling (Meet), smart home (Nest), smartphones (Pixel), wearable technology (Pixel Watch & Fitbit), music streaming (YouTube Music), video on demand (YouTube TV), artificial intelligence (Google Assistant & Bard), machine learning APIs (TensorFlow), AI chips (TPU), and more. Discontinued Google products include gaming (Stadia), Glass, Google+, Reader, Play Music, Nexus, Hangouts, and Inbox by Gmail.[15][16]\\n\\nGoogle\\'s other ventures outside of Internet services and consumer electronics include quantum computing (Sycamore), self-driving cars (Waymo, formerly the Google Self-Driving Car Project), smart cities (Sidewalk Labs), and transformer models (Google Deepmind).[17]\\n\\nGoogle and YouTube are the two most visited websites worldwide followed by Facebook and X (formerly known as Twitter). Google is also the largest search engine, mapping and navigation application, email provider, office suite, video sharing platform, photo and cloud storage provider, mobile operating system, web browser, ML framework, and AI virtual assistant provider in the world as measured by market share.[18] On the list of most valuable brands, Google is ranked second by Forbes[19] and fourth by Interbrand.[20] It has received significant criticism involving issues such as privacy concerns, tax avoidance, censorship, search neutrality, antitrust and abuse of its monopoly position.\\n\\nHistory\\nMain articles: History of Google and List of mergers and acquisitions by Alphabet\\nSee also: Alphabet Inc.\\nEarly years\\n\\nLarry Page and Sergey Brin in 2003\\nGoogle began in January 1996 as a research project by Larry Page and Sergey Brin when they were both PhD students at Stanford University in California.[21][22][23] The project initially involved an unofficial \"third founder\", Scott Hassan, the original lead programmer who wrote much of the code for the original Google Search engine, but he left before Google was officially founded as a company;[24][25] Hassan went on to pursue a career in robotics and founded the company Willow Garage in 2006.[26][27]\\n\\nWhile conventional search engines ranked results by counting how many times the search terms appeared on the page, they theorized about a better system that analyzed the relationships among websites.[28] They called this algorithm PageRank; it determined a website\\'s relevance by the number of pages, and the importance of those pages that linked back to the original site.[29][30] Page told his ideas to Hassan, who began writing the code to implement Page\\'s ideas.[24]\\n\\nPage and Brin originally nicknamed the new search engine \"BackRub\", because the system checked backlinks to estimate the importance of a site.[21][31][32] Hassan as well as Alan Steremberg were cited by Page and Brin as being critical to the development of Google. Rajeev Motwani and Terry Winograd later co-authored with Page and Brin the first paper about the project, describing PageRank and the initial prototype of the Google search engine, published in 1998. Héctor García-Molina and Jeff Ullman were also cited as contributors to the project.[33] PageRank was influenced by a similar page-ranking and site-scoring algorithm earlier used for RankDex, developed by Robin Li in 1996, with Larry Page\\'s PageRank patent including a citation to Li\\'s earlier RankDex patent; Li later went on to create the Chinese search engine Baidu.[34][35]\\n\\nEventually, they changed the name to Google; the name of the search engine was a misspelling of the word googol,[21][36][37] a very large number written 10100 (1 followed by 100 zeros), picked to signify that the search engine was intended to provide large quantities of information.[38]\\n\\nGoogle\\'s homepage in 1998\\nGoogle\\'s original homepage had a simple design because the company founders had little experience in HTML, the markup language used for designing web pages.[39]\\nGoogle was initially funded by an August 1998 investment of $100,000 from Andy Bechtolsheim,[21] co-founder of Sun Microsystems. This initial investment served as a motivation to incorporate the company to be able to use the funds.[40][41] Page and Brin initially approached David Cheriton for advice because he had a nearby office in Stanford, and they knew he had startup experience, having recently sold the company he co-founded, Granite Systems, to Cisco for $220 million. David arranged a meeting with Page and Brin and his Granite co-founder Andy Bechtolsheim. The meeting was set for 8 a.m. at the front porch of David\\'s home in Palo Alto and it had to be brief because Andy had another meeting at Cisco, where he now worked after the acquisition, at 9 a.m. Andy briefly tested a demo of the website, liked what he saw, and then went back to his car to grab the check. David Cheriton later also joined in with a $250,000 investment.[42][43]\\n\\nGoogle received money from two other angel investors in 1998: Amazon.com founder Jeff Bezos, and entrepreneur Ram Shriram.[44] Page and Brin had first approached Shriram, who was a venture capitalist, for funding and counsel, and Shriram invested $250,000 in Google in February 1998. Shriram knew Bezos because Amazon had acquired Junglee, at which Shriram was the president. It was Shriram who told Bezos about Google. Bezos asked Shriram to meet Google\\'s founders and they met six months after Shriram had made his investment when Bezos and his wife were on a vacation trip to the Bay Area. Google\\'s initial funding round had already formally closed but Bezos\\' status as CEO of Amazon was enough to persuade Page and Brin to extend the round and accept his investment.[45][46]\\n\\nBetween these initial investors, friends, and family Google raised around $1,000,000, which is what allowed them to open up their original shop in Menlo Park, California.[47] Craig Silverstein, a fellow PhD student at Stanford, was hired as the first employee.[23][48][49]\\n\\nAfter some additional, small investments through the end of 1998 to early 1999,[44] a new $25 million round of funding was announced on June 7, 1999,[50] with major investors including the venture capital firms Kleiner Perkins and Sequoia Capital.[41] Both firms were initially reticent about investing jointly in Google, as each wanted to retain a larger percentage of control over the company to themselves. Larry and Sergey however insisted in taking investments from both. Both venture companies finally agreed to investing jointly $12.5 million each due to their belief in Google\\'s great potential and through the mediation of earlier angel investors Ron Conway and Ram Shriram who had contacts in the venture companies.[51]\\n\\nGrowth\\nIn March 1999, the company moved its offices to Palo Alto, California,[52] which is home to several prominent Silicon Valley technology start-ups.[53] The next year, Google began selling advertisements associated with search keywords against Page and Brin\\'s initial opposition toward an advertising-funded search engine.[54][23] To maintain an uncluttered page design, advertisements were solely text-based.[55] In June 2000, it was announced that Google would become the default search engine provider for Yahoo!, one of the most popular websites at the time, replacing Inktomi.[56][57]\\n\\nGoogle\\'s first servers, showing lots of exposed wiring and circuit boards\\nGoogle\\'s first production server[58]\\nIn 2003, after outgrowing two other locations, the company leased an office complex from Silicon Graphics, at 1600 Amphitheatre Parkway in Mountain View, California.[59] The complex became known as the Googleplex, a play on the word googolplex, the number one followed by a googol of zeroes. Three years later, Google bought the property from SGI for $319 million.[60] By that time, the name \"Google\" had found its way into everyday language, causing the verb \"google\" to be added to the Merriam-Webster Collegiate Dictionary and the Oxford English Dictionary, denoted as: \"to use the Google search engine to obtain information on the Internet\".[61][62] The first use of the verb on television appeared in an October 2002 episode of Buffy the Vampire Slayer.[63]\\n\\nAdditionally, in 2001 Google\\'s investors felt the need to have a strong internal management, and they agreed to hire Eric Schmidt as the chairman and CEO of Google.[47] Eric was proposed by John Doerr from Kleiner Perkins. He had been trying to find a CEO that Sergey and Larry would accept for several months, but they rejected several candidates because they wanted to retain control over the company. Michael Moritz from Sequoia Capital at one point even menaced requesting Google to immediately pay back Sequoia\\'s $12.5m investment if they did not fulfill their promise to hire a chief executive officer, which had been made verbally during investment negotiations. Eric was not initially enthusiastic about joining Google either, as the company\\'s full potential had not yet been widely recognized at the time, and as he was occupied with his responsibilities at Novell where he was CEO. As part of him joining, Eric agreed to buy $1 million of Google preferred stocks as a way to show his commitment and to provide funds Google needed.[64]'"
      ]
     },
     "execution_count": 38,
     "metadata": {},
     "output_type": "execute_result"
    }
   ],
   "source": [
    "file_name=\"ATUL.txt\"\n",
    "f=open(file_name)\n",
    "f.read()"
   ]
  },
  {
   "cell_type": "code",
   "execution_count": 39,
   "id": "704e1ecf-5050-4ff9-b086-17b486c1b74d",
   "metadata": {},
   "outputs": [
    {
     "ename": "FileNotFoundError",
     "evalue": "[Errno 2] No such file or directory: 'aTUL.txt'",
     "output_type": "error",
     "traceback": [
      "\u001b[0;31m---------------------------------------------------------------------------\u001b[0m",
      "\u001b[0;31mFileNotFoundError\u001b[0m                         Traceback (most recent call last)",
      "Cell \u001b[0;32mIn[39], line 2\u001b[0m\n\u001b[1;32m      1\u001b[0m file_name\u001b[38;5;241m=\u001b[39m\u001b[38;5;124m\"\u001b[39m\u001b[38;5;124maTUL.txt\u001b[39m\u001b[38;5;124m\"\u001b[39m\n\u001b[0;32m----> 2\u001b[0m f\u001b[38;5;241m=\u001b[39m\u001b[38;5;28;43mopen\u001b[39;49m\u001b[43m(\u001b[49m\u001b[43mfile_name\u001b[49m\u001b[43m)\u001b[49m\n\u001b[1;32m      3\u001b[0m f\u001b[38;5;241m.\u001b[39mread()\n",
      "File \u001b[0;32m/opt/conda/lib/python3.10/site-packages/IPython/core/interactiveshell.py:282\u001b[0m, in \u001b[0;36m_modified_open\u001b[0;34m(file, *args, **kwargs)\u001b[0m\n\u001b[1;32m    275\u001b[0m \u001b[38;5;28;01mif\u001b[39;00m file \u001b[38;5;129;01min\u001b[39;00m {\u001b[38;5;241m0\u001b[39m, \u001b[38;5;241m1\u001b[39m, \u001b[38;5;241m2\u001b[39m}:\n\u001b[1;32m    276\u001b[0m     \u001b[38;5;28;01mraise\u001b[39;00m \u001b[38;5;167;01mValueError\u001b[39;00m(\n\u001b[1;32m    277\u001b[0m         \u001b[38;5;124mf\u001b[39m\u001b[38;5;124m\"\u001b[39m\u001b[38;5;124mIPython won\u001b[39m\u001b[38;5;124m'\u001b[39m\u001b[38;5;124mt let you open fd=\u001b[39m\u001b[38;5;132;01m{\u001b[39;00mfile\u001b[38;5;132;01m}\u001b[39;00m\u001b[38;5;124m by default \u001b[39m\u001b[38;5;124m\"\u001b[39m\n\u001b[1;32m    278\u001b[0m         \u001b[38;5;124m\"\u001b[39m\u001b[38;5;124mas it is likely to crash IPython. If you know what you are doing, \u001b[39m\u001b[38;5;124m\"\u001b[39m\n\u001b[1;32m    279\u001b[0m         \u001b[38;5;124m\"\u001b[39m\u001b[38;5;124myou can use builtins\u001b[39m\u001b[38;5;124m'\u001b[39m\u001b[38;5;124m open.\u001b[39m\u001b[38;5;124m\"\u001b[39m\n\u001b[1;32m    280\u001b[0m     )\n\u001b[0;32m--> 282\u001b[0m \u001b[38;5;28;01mreturn\u001b[39;00m \u001b[43mio_open\u001b[49m\u001b[43m(\u001b[49m\u001b[43mfile\u001b[49m\u001b[43m,\u001b[49m\u001b[43m \u001b[49m\u001b[38;5;241;43m*\u001b[39;49m\u001b[43margs\u001b[49m\u001b[43m,\u001b[49m\u001b[43m \u001b[49m\u001b[38;5;241;43m*\u001b[39;49m\u001b[38;5;241;43m*\u001b[39;49m\u001b[43mkwargs\u001b[49m\u001b[43m)\u001b[49m\n",
      "\u001b[0;31mFileNotFoundError\u001b[0m: [Errno 2] No such file or directory: 'aTUL.txt'"
     ]
    }
   ],
   "source": [
    "file_name=\"aTUL.txt\"\n",
    "f=open(file_name)\n",
    "f.read()"
   ]
  },
  {
   "cell_type": "code",
   "execution_count": 40,
   "id": "27fc982a-4bb5-44bb-b453-e9b53f2c59e5",
   "metadata": {},
   "outputs": [
    {
     "ename": "FileNotFoundError",
     "evalue": "[Errno 2] No such file or directory: 'Text.txt'",
     "output_type": "error",
     "traceback": [
      "\u001b[0;31m---------------------------------------------------------------------------\u001b[0m",
      "\u001b[0;31mFileNotFoundError\u001b[0m                         Traceback (most recent call last)",
      "Cell \u001b[0;32mIn[40], line 2\u001b[0m\n\u001b[1;32m      1\u001b[0m file_name\u001b[38;5;241m=\u001b[39m\u001b[38;5;124m\"\u001b[39m\u001b[38;5;124mText.txt\u001b[39m\u001b[38;5;124m\"\u001b[39m\n\u001b[0;32m----> 2\u001b[0m f\u001b[38;5;241m=\u001b[39m\u001b[38;5;28;43mopen\u001b[39;49m\u001b[43m(\u001b[49m\u001b[43mfile_name\u001b[49m\u001b[43m)\u001b[49m\n\u001b[1;32m      3\u001b[0m f\u001b[38;5;241m.\u001b[39mread()\n",
      "File \u001b[0;32m/opt/conda/lib/python3.10/site-packages/IPython/core/interactiveshell.py:282\u001b[0m, in \u001b[0;36m_modified_open\u001b[0;34m(file, *args, **kwargs)\u001b[0m\n\u001b[1;32m    275\u001b[0m \u001b[38;5;28;01mif\u001b[39;00m file \u001b[38;5;129;01min\u001b[39;00m {\u001b[38;5;241m0\u001b[39m, \u001b[38;5;241m1\u001b[39m, \u001b[38;5;241m2\u001b[39m}:\n\u001b[1;32m    276\u001b[0m     \u001b[38;5;28;01mraise\u001b[39;00m \u001b[38;5;167;01mValueError\u001b[39;00m(\n\u001b[1;32m    277\u001b[0m         \u001b[38;5;124mf\u001b[39m\u001b[38;5;124m\"\u001b[39m\u001b[38;5;124mIPython won\u001b[39m\u001b[38;5;124m'\u001b[39m\u001b[38;5;124mt let you open fd=\u001b[39m\u001b[38;5;132;01m{\u001b[39;00mfile\u001b[38;5;132;01m}\u001b[39;00m\u001b[38;5;124m by default \u001b[39m\u001b[38;5;124m\"\u001b[39m\n\u001b[1;32m    278\u001b[0m         \u001b[38;5;124m\"\u001b[39m\u001b[38;5;124mas it is likely to crash IPython. If you know what you are doing, \u001b[39m\u001b[38;5;124m\"\u001b[39m\n\u001b[1;32m    279\u001b[0m         \u001b[38;5;124m\"\u001b[39m\u001b[38;5;124myou can use builtins\u001b[39m\u001b[38;5;124m'\u001b[39m\u001b[38;5;124m open.\u001b[39m\u001b[38;5;124m\"\u001b[39m\n\u001b[1;32m    280\u001b[0m     )\n\u001b[0;32m--> 282\u001b[0m \u001b[38;5;28;01mreturn\u001b[39;00m \u001b[43mio_open\u001b[49m\u001b[43m(\u001b[49m\u001b[43mfile\u001b[49m\u001b[43m,\u001b[49m\u001b[43m \u001b[49m\u001b[38;5;241;43m*\u001b[39;49m\u001b[43margs\u001b[49m\u001b[43m,\u001b[49m\u001b[43m \u001b[49m\u001b[38;5;241;43m*\u001b[39;49m\u001b[38;5;241;43m*\u001b[39;49m\u001b[43mkwargs\u001b[49m\u001b[43m)\u001b[49m\n",
      "\u001b[0;31mFileNotFoundError\u001b[0m: [Errno 2] No such file or directory: 'Text.txt'"
     ]
    }
   ],
   "source": [
    "file_name=\"Text.txt\"\n",
    "f=open(file_name)\n",
    "f.read()"
   ]
  },
  {
   "cell_type": "code",
   "execution_count": 41,
   "id": "5fcd96cc-3a16-4c27-b342-f45c8f11c327",
   "metadata": {},
   "outputs": [
    {
     "ename": "FileNotFoundError",
     "evalue": "[Errno 2] No such file or directory: 'Text.txt'",
     "output_type": "error",
     "traceback": [
      "\u001b[0;31m---------------------------------------------------------------------------\u001b[0m",
      "\u001b[0;31mFileNotFoundError\u001b[0m                         Traceback (most recent call last)",
      "Cell \u001b[0;32mIn[41], line 2\u001b[0m\n\u001b[1;32m      1\u001b[0m file_name\u001b[38;5;241m=\u001b[39m\u001b[38;5;124m\"\u001b[39m\u001b[38;5;124mText.txt\u001b[39m\u001b[38;5;124m\"\u001b[39m\n\u001b[0;32m----> 2\u001b[0m f\u001b[38;5;241m=\u001b[39m\u001b[38;5;28;43mopen\u001b[39;49m\u001b[43m(\u001b[49m\u001b[43mfile_name\u001b[49m\u001b[43m)\u001b[49m\n\u001b[1;32m      3\u001b[0m f\u001b[38;5;241m.\u001b[39mread()\n",
      "File \u001b[0;32m/opt/conda/lib/python3.10/site-packages/IPython/core/interactiveshell.py:282\u001b[0m, in \u001b[0;36m_modified_open\u001b[0;34m(file, *args, **kwargs)\u001b[0m\n\u001b[1;32m    275\u001b[0m \u001b[38;5;28;01mif\u001b[39;00m file \u001b[38;5;129;01min\u001b[39;00m {\u001b[38;5;241m0\u001b[39m, \u001b[38;5;241m1\u001b[39m, \u001b[38;5;241m2\u001b[39m}:\n\u001b[1;32m    276\u001b[0m     \u001b[38;5;28;01mraise\u001b[39;00m \u001b[38;5;167;01mValueError\u001b[39;00m(\n\u001b[1;32m    277\u001b[0m         \u001b[38;5;124mf\u001b[39m\u001b[38;5;124m\"\u001b[39m\u001b[38;5;124mIPython won\u001b[39m\u001b[38;5;124m'\u001b[39m\u001b[38;5;124mt let you open fd=\u001b[39m\u001b[38;5;132;01m{\u001b[39;00mfile\u001b[38;5;132;01m}\u001b[39;00m\u001b[38;5;124m by default \u001b[39m\u001b[38;5;124m\"\u001b[39m\n\u001b[1;32m    278\u001b[0m         \u001b[38;5;124m\"\u001b[39m\u001b[38;5;124mas it is likely to crash IPython. If you know what you are doing, \u001b[39m\u001b[38;5;124m\"\u001b[39m\n\u001b[1;32m    279\u001b[0m         \u001b[38;5;124m\"\u001b[39m\u001b[38;5;124myou can use builtins\u001b[39m\u001b[38;5;124m'\u001b[39m\u001b[38;5;124m open.\u001b[39m\u001b[38;5;124m\"\u001b[39m\n\u001b[1;32m    280\u001b[0m     )\n\u001b[0;32m--> 282\u001b[0m \u001b[38;5;28;01mreturn\u001b[39;00m \u001b[43mio_open\u001b[49m\u001b[43m(\u001b[49m\u001b[43mfile\u001b[49m\u001b[43m,\u001b[49m\u001b[43m \u001b[49m\u001b[38;5;241;43m*\u001b[39;49m\u001b[43margs\u001b[49m\u001b[43m,\u001b[49m\u001b[43m \u001b[49m\u001b[38;5;241;43m*\u001b[39;49m\u001b[38;5;241;43m*\u001b[39;49m\u001b[43mkwargs\u001b[49m\u001b[43m)\u001b[49m\n",
      "\u001b[0;31mFileNotFoundError\u001b[0m: [Errno 2] No such file or directory: 'Text.txt'"
     ]
    }
   ],
   "source": [
    "file_name=\"Text.txt\"\n",
    "f=open(file_name)\n",
    "f.read()"
   ]
  },
  {
   "cell_type": "code",
   "execution_count": 42,
   "id": "3f90d97d-05fc-4f99-86b9-ae83fcdf147a",
   "metadata": {},
   "outputs": [
    {
     "name": "stdout",
     "output_type": "stream",
     "text": [
      "02_assign.ipynb           PYTHON01.ipynb                trytest.log\n",
      "02_PYTHON.ipynb           PYTHON02.ipynb                Untitled10.ipynb\n",
      "03_class1.ipynb           PYTHON03.ipynb                Untitled11.ipynb\n",
      "04_python.ipynb           PYTHON04.ipynb                Untitled12.ipynb\n",
      "atul.log                  PYTHON05.ipynb                Untitled13.ipynb\n",
      "ATUL.txt                  PYTHON06.ipynb                Untitled14.ipynb\n",
      "class1.ipynb              PYTHON07.ipynb                Untitled15.ipynb\n",
      "code_soft.ipynb           PYTHON08.ipynb                Untitled16.ipynb\n",
      "condi_state_loops.ipynb   PYTHON09_File_Handling.ipynb  Untitled17.ipynb\n",
      "exception_handling.ipynb  pythonbasic.ipynb             Untitled18.ipynb\n",
      "file.log                  python_for_loop.ipynb         Untitled19.ipynb\n",
      "FSDSASSIGNMENT2.ipynb     PYTHON_FUNCTION01.ipynb       Untitled1.ipynb\n",
      "FSDSPRO02.ipynb           README.md                     Untitled20.ipynb\n",
      "FSDSPRO1.ipynb            reduce_filter_rec.ipynb       Untitled2.ipynb\n",
      "FSDSPRO3.ipynb            REVISION01.ipynb              Untitled3.ipynb\n",
      "FSDSPRO4.ipynb            REVISION02.ipynb              Untitled4.ipynb\n",
      "FSDSPRO5.ipynb            REVISION03.ipynb              Untitled5.ipynb\n",
      "FSDSPRO6.ipynb            REVISION04.ipynb              Untitled6.ipynb\n",
      "FUNCTION02LAMBDA.ipynb    sample-code.ipynb             Untitled7.ipynb\n",
      "\u001b[0m\u001b[01;34mpro\u001b[0m/                      SOFTSKILLS.ipynb              Untitled8.ipynb\n",
      "\u001b[01;34mPro\u001b[0m/                      test.log                      Untitled.ipynb\n",
      "py_lambda_fun.ipynb       to_do_task.txt                while_loop_break.ipynb\n"
     ]
    }
   ],
   "source": [
    "ls"
   ]
  },
  {
   "cell_type": "code",
   "execution_count": 43,
   "id": "868f3d4e-69ce-4bf1-83d6-017b4123898a",
   "metadata": {},
   "outputs": [
    {
     "name": "stdout",
     "output_type": "stream",
     "text": [
      "total 1452\n",
      "-rw-r--r-- 1 jovyan users 41152 Jan 19 13:50 02_assign.ipynb\n",
      "-rw-r--r-- 1 jovyan users 82209 Dec  9 13:39 02_PYTHON.ipynb\n",
      "-rw-r--r-- 1 jovyan users 25959 Dec 13 11:34 03_class1.ipynb\n",
      "-rw-r--r-- 1 jovyan users 27124 Dec 18 18:07 04_python.ipynb\n",
      "-rw-r--r-- 1 jovyan users     0 Feb 10 03:39 atul.log\n",
      "-rw-r--r-- 1 jovyan users 12431 Jan 18 13:39 ATUL.txt\n",
      "-rw-r--r-- 1 jovyan users 25959 Dec 13 11:34 class1.ipynb\n",
      "-rw-r--r-- 1 jovyan users 11567 Jan 26 20:04 code_soft.ipynb\n",
      "-rw-r--r-- 1 jovyan users 11358 Dec 22 08:33 condi_state_loops.ipynb\n",
      "-rw-r--r-- 1 jovyan users 40146 Jan 23 19:33 exception_handling.ipynb\n",
      "-rw-r--r-- 1 jovyan users     1 Jan 20 12:53 file.log\n",
      "-rw-r--r-- 1 jovyan users 27447 Dec 13 18:36 FSDSASSIGNMENT2.ipynb\n",
      "-rw-r--r-- 1 jovyan users 88887 Dec  9 13:41 FSDSPRO02.ipynb\n",
      "-rw-r--r-- 1 jovyan users 35969 Dec  7 06:31 FSDSPRO1.ipynb\n",
      "-rw-r--r-- 1 jovyan users 31993 Dec 12 17:53 FSDSPRO3.ipynb\n",
      "-rw-r--r-- 1 jovyan users 31443 Dec 14 12:04 FSDSPRO4.ipynb\n",
      "-rw-r--r-- 1 jovyan users   793 Dec 18 13:37 FSDSPRO5.ipynb\n",
      "-rw-r--r-- 1 jovyan users 15367 Dec 19 06:00 FSDSPRO6.ipynb\n",
      "-rw-r--r-- 1 jovyan users 43209 Dec 21 10:49 FUNCTION02LAMBDA.ipynb\n",
      "drwxr-xr-x 3 jovyan users  4096 Feb  8 04:57 \u001b[0m\u001b[01;34mpro\u001b[0m/\n",
      "drwxr-xr-x 4 jovyan users  4096 Feb  8 04:02 \u001b[01;34mPro\u001b[0m/\n",
      "-rw-r--r-- 1 jovyan users 42897 Dec 21 07:11 py_lambda_fun.ipynb\n",
      "-rw-r--r-- 1 jovyan users 45363 Dec  7 07:21 PYTHON01.ipynb\n",
      "-rw-r--r-- 1 jovyan users 88887 Dec  9 13:41 PYTHON02.ipynb\n",
      "-rw-r--r-- 1 jovyan users 31993 Dec 12 17:53 PYTHON03.ipynb\n",
      "-rw-r--r-- 1 jovyan users 31443 Dec 14 12:04 PYTHON04.ipynb\n",
      "-rw-r--r-- 1 jovyan users 25959 Dec 13 11:34 PYTHON05.ipynb\n",
      "-rw-r--r-- 1 jovyan users 25959 Dec 13 11:34 PYTHON06.ipynb\n",
      "-rw-r--r-- 1 jovyan users 29869 Dec 19 08:46 PYTHON07.ipynb\n",
      "-rw-r--r-- 1 jovyan users 16513 Dec 19 06:33 PYTHON08.ipynb\n",
      "-rw-r--r-- 1 jovyan users 34481 Feb 10 03:42 PYTHON09_File_Handling.ipynb\n",
      "-rw-r--r-- 1 jovyan users 45363 Dec  7 07:21 pythonbasic.ipynb\n",
      "-rw-r--r-- 1 jovyan users 55015 Jan 13 10:03 python_for_loop.ipynb\n",
      "-rw-r--r-- 1 jovyan users 22699 Dec 19 10:07 PYTHON_FUNCTION01.ipynb\n",
      "-rw-r--r-- 1 jovyan users   198 Dec  2 10:57 README.md\n",
      "-rw-r--r-- 1 jovyan users 50352 Dec 25 12:33 reduce_filter_rec.ipynb\n",
      "-rw-r--r-- 1 jovyan users 13413 Jan  2 10:40 REVISION01.ipynb\n",
      "-rw-r--r-- 1 jovyan users 57697 Jan  6 14:17 REVISION02.ipynb\n",
      "-rw-r--r-- 1 jovyan users 22143 Jan  9 11:52 REVISION03.ipynb\n",
      "-rw-r--r-- 1 jovyan users 76992 Jan 18 14:33 REVISION04.ipynb\n",
      "-rw-r--r-- 1 jovyan users  3151 Dec 19 07:29 sample-code.ipynb\n",
      "-rw-r--r-- 1 jovyan users  2878 Dec 22 14:24 SOFTSKILLS.ipynb\n",
      "-rw-r--r-- 1 jovyan users   550 Jan 20 13:12 test.log\n",
      "-rw-r--r-- 1 jovyan users    26 Jan 26 19:41 to_do_task.txt\n",
      "-rw-r--r-- 1 jovyan users   925 Jan 23 19:33 trytest.log\n",
      "-rw-r--r-- 1 jovyan users   913 Jan  1 08:25 Untitled10.ipynb\n",
      "-rw-r--r-- 1 jovyan users   912 Jan  1 08:25 Untitled11.ipynb\n",
      "-rw-r--r-- 1 jovyan users   617 Jan 17 18:44 Untitled12.ipynb\n",
      "-rw-r--r-- 1 jovyan users   617 Dec 14 10:07 Untitled13.ipynb\n",
      "-rw-r--r-- 1 jovyan users   617 Dec 14 18:44 Untitled14.ipynb\n",
      "-rw-r--r-- 1 jovyan users   617 Jan 17 18:44 Untitled15.ipynb\n",
      "-rw-r--r-- 1 jovyan users   617 Jan 17 18:44 Untitled16.ipynb\n",
      "-rw-r--r-- 1 jovyan users   617 Jan 17 18:44 Untitled17.ipynb\n",
      "-rw-r--r-- 1 jovyan users   617 Jan 17 18:44 Untitled18.ipynb\n",
      "-rw-r--r-- 1 jovyan users   617 Jan 17 18:44 Untitled19.ipynb\n",
      "-rw-r--r-- 1 jovyan users  1888 Jan  1 08:25 Untitled1.ipynb\n",
      "-rw-r--r-- 1 jovyan users   617 Jan 20 10:22 Untitled20.ipynb\n",
      "-rw-r--r-- 1 jovyan users   617 Jan 17 18:44 Untitled2.ipynb\n",
      "-rw-r--r-- 1 jovyan users   617 Dec  6 11:03 Untitled3.ipynb\n",
      "-rw-r--r-- 1 jovyan users   617 Jan 17 18:43 Untitled4.ipynb\n",
      "-rw-r--r-- 1 jovyan users   617 Dec  7 06:07 Untitled5.ipynb\n",
      "-rw-r--r-- 1 jovyan users   617 Dec  8 05:45 Untitled6.ipynb\n",
      "-rw-r--r-- 1 jovyan users   617 Jan 17 18:43 Untitled7.ipynb\n",
      "-rw-r--r-- 1 jovyan users   617 Dec  9 10:06 Untitled8.ipynb\n",
      "-rw-r--r-- 1 jovyan users   617 Dec 18 17:08 Untitled.ipynb\n",
      "-rw-r--r-- 1 jovyan users 18022 Jan  7 12:49 while_loop_break.ipynb\n"
     ]
    }
   ],
   "source": [
    "ls-l"
   ]
  },
  {
   "cell_type": "code",
   "execution_count": 44,
   "id": "cfd33ec7-b4ba-4fbc-bad8-8f9a4c831e4b",
   "metadata": {},
   "outputs": [
    {
     "data": {
      "text/plain": [
       "'/home/jovyan/work'"
      ]
     },
     "execution_count": 44,
     "metadata": {},
     "output_type": "execute_result"
    }
   ],
   "source": [
    "pwd"
   ]
  },
  {
   "cell_type": "code",
   "execution_count": 45,
   "id": "7cedd3f4-a470-4289-af33-79215ee98d8d",
   "metadata": {},
   "outputs": [
    {
     "name": "stdout",
     "output_type": "stream",
     "text": [
      "total 1452\n",
      "-rw-r--r-- 1 jovyan users 41152 Jan 19 13:50 02_assign.ipynb\n",
      "-rw-r--r-- 1 jovyan users 82209 Dec  9 13:39 02_PYTHON.ipynb\n",
      "-rw-r--r-- 1 jovyan users 25959 Dec 13 11:34 03_class1.ipynb\n",
      "-rw-r--r-- 1 jovyan users 27124 Dec 18 18:07 04_python.ipynb\n",
      "-rw-r--r-- 1 jovyan users     0 Feb 10 03:39 atul.log\n",
      "-rw-r--r-- 1 jovyan users 12431 Jan 18 13:39 ATUL.txt\n",
      "-rw-r--r-- 1 jovyan users 25959 Dec 13 11:34 class1.ipynb\n",
      "-rw-r--r-- 1 jovyan users 11567 Jan 26 20:04 code_soft.ipynb\n",
      "-rw-r--r-- 1 jovyan users 11358 Dec 22 08:33 condi_state_loops.ipynb\n",
      "-rw-r--r-- 1 jovyan users 40146 Jan 23 19:33 exception_handling.ipynb\n",
      "-rw-r--r-- 1 jovyan users     1 Jan 20 12:53 file.log\n",
      "-rw-r--r-- 1 jovyan users 27447 Dec 13 18:36 FSDSASSIGNMENT2.ipynb\n",
      "-rw-r--r-- 1 jovyan users 88887 Dec  9 13:41 FSDSPRO02.ipynb\n",
      "-rw-r--r-- 1 jovyan users 35969 Dec  7 06:31 FSDSPRO1.ipynb\n",
      "-rw-r--r-- 1 jovyan users 31993 Dec 12 17:53 FSDSPRO3.ipynb\n",
      "-rw-r--r-- 1 jovyan users 31443 Dec 14 12:04 FSDSPRO4.ipynb\n",
      "-rw-r--r-- 1 jovyan users   793 Dec 18 13:37 FSDSPRO5.ipynb\n",
      "-rw-r--r-- 1 jovyan users 15367 Dec 19 06:00 FSDSPRO6.ipynb\n",
      "-rw-r--r-- 1 jovyan users 43209 Dec 21 10:49 FUNCTION02LAMBDA.ipynb\n",
      "drwxr-xr-x 3 jovyan users  4096 Feb  8 04:57 \u001b[0m\u001b[01;34mpro\u001b[0m/\n",
      "drwxr-xr-x 4 jovyan users  4096 Feb  8 04:02 \u001b[01;34mPro\u001b[0m/\n",
      "-rw-r--r-- 1 jovyan users 42897 Dec 21 07:11 py_lambda_fun.ipynb\n",
      "-rw-r--r-- 1 jovyan users 45363 Dec  7 07:21 PYTHON01.ipynb\n",
      "-rw-r--r-- 1 jovyan users 88887 Dec  9 13:41 PYTHON02.ipynb\n",
      "-rw-r--r-- 1 jovyan users 31993 Dec 12 17:53 PYTHON03.ipynb\n",
      "-rw-r--r-- 1 jovyan users 31443 Dec 14 12:04 PYTHON04.ipynb\n",
      "-rw-r--r-- 1 jovyan users 25959 Dec 13 11:34 PYTHON05.ipynb\n",
      "-rw-r--r-- 1 jovyan users 25959 Dec 13 11:34 PYTHON06.ipynb\n",
      "-rw-r--r-- 1 jovyan users 29869 Dec 19 08:46 PYTHON07.ipynb\n",
      "-rw-r--r-- 1 jovyan users 16513 Dec 19 06:33 PYTHON08.ipynb\n",
      "-rw-r--r-- 1 jovyan users 34481 Feb 10 03:42 PYTHON09_File_Handling.ipynb\n",
      "-rw-r--r-- 1 jovyan users 45363 Dec  7 07:21 pythonbasic.ipynb\n",
      "-rw-r--r-- 1 jovyan users 55015 Jan 13 10:03 python_for_loop.ipynb\n",
      "-rw-r--r-- 1 jovyan users 22699 Dec 19 10:07 PYTHON_FUNCTION01.ipynb\n",
      "-rw-r--r-- 1 jovyan users   198 Dec  2 10:57 README.md\n",
      "-rw-r--r-- 1 jovyan users 50352 Dec 25 12:33 reduce_filter_rec.ipynb\n",
      "-rw-r--r-- 1 jovyan users 13413 Jan  2 10:40 REVISION01.ipynb\n",
      "-rw-r--r-- 1 jovyan users 57697 Jan  6 14:17 REVISION02.ipynb\n",
      "-rw-r--r-- 1 jovyan users 22143 Jan  9 11:52 REVISION03.ipynb\n",
      "-rw-r--r-- 1 jovyan users 76992 Jan 18 14:33 REVISION04.ipynb\n",
      "-rw-r--r-- 1 jovyan users  3151 Dec 19 07:29 sample-code.ipynb\n",
      "-rw-r--r-- 1 jovyan users  2878 Dec 22 14:24 SOFTSKILLS.ipynb\n",
      "-rw-r--r-- 1 jovyan users   550 Jan 20 13:12 test.log\n",
      "-rw-r--r-- 1 jovyan users    26 Jan 26 19:41 to_do_task.txt\n",
      "-rw-r--r-- 1 jovyan users   925 Jan 23 19:33 trytest.log\n",
      "-rw-r--r-- 1 jovyan users   913 Jan  1 08:25 Untitled10.ipynb\n",
      "-rw-r--r-- 1 jovyan users   912 Jan  1 08:25 Untitled11.ipynb\n",
      "-rw-r--r-- 1 jovyan users   617 Jan 17 18:44 Untitled12.ipynb\n",
      "-rw-r--r-- 1 jovyan users   617 Dec 14 10:07 Untitled13.ipynb\n",
      "-rw-r--r-- 1 jovyan users   617 Dec 14 18:44 Untitled14.ipynb\n",
      "-rw-r--r-- 1 jovyan users   617 Jan 17 18:44 Untitled15.ipynb\n",
      "-rw-r--r-- 1 jovyan users   617 Jan 17 18:44 Untitled16.ipynb\n",
      "-rw-r--r-- 1 jovyan users   617 Jan 17 18:44 Untitled17.ipynb\n",
      "-rw-r--r-- 1 jovyan users   617 Jan 17 18:44 Untitled18.ipynb\n",
      "-rw-r--r-- 1 jovyan users   617 Jan 17 18:44 Untitled19.ipynb\n",
      "-rw-r--r-- 1 jovyan users  1888 Jan  1 08:25 Untitled1.ipynb\n",
      "-rw-r--r-- 1 jovyan users   617 Jan 20 10:22 Untitled20.ipynb\n",
      "-rw-r--r-- 1 jovyan users   617 Jan 17 18:44 Untitled2.ipynb\n",
      "-rw-r--r-- 1 jovyan users   617 Dec  6 11:03 Untitled3.ipynb\n",
      "-rw-r--r-- 1 jovyan users   617 Jan 17 18:43 Untitled4.ipynb\n",
      "-rw-r--r-- 1 jovyan users   617 Dec  7 06:07 Untitled5.ipynb\n",
      "-rw-r--r-- 1 jovyan users   617 Dec  8 05:45 Untitled6.ipynb\n",
      "-rw-r--r-- 1 jovyan users   617 Jan 17 18:43 Untitled7.ipynb\n",
      "-rw-r--r-- 1 jovyan users   617 Dec  9 10:06 Untitled8.ipynb\n",
      "-rw-r--r-- 1 jovyan users   617 Dec 18 17:08 Untitled.ipynb\n",
      "-rw-r--r-- 1 jovyan users 18022 Jan  7 12:49 while_loop_break.ipynb\n"
     ]
    }
   ],
   "source": [
    "ls-l"
   ]
  },
  {
   "cell_type": "code",
   "execution_count": 46,
   "id": "03da53df-72b8-42ec-b14f-ca989905c998",
   "metadata": {},
   "outputs": [
    {
     "ename": "FileNotFoundError",
     "evalue": "[Errno 2] No such file or directory: 'Text.txt'",
     "output_type": "error",
     "traceback": [
      "\u001b[0;31m---------------------------------------------------------------------------\u001b[0m",
      "\u001b[0;31mFileNotFoundError\u001b[0m                         Traceback (most recent call last)",
      "Cell \u001b[0;32mIn[46], line 2\u001b[0m\n\u001b[1;32m      1\u001b[0m file_name\u001b[38;5;241m=\u001b[39m\u001b[38;5;124m\"\u001b[39m\u001b[38;5;124mText.txt\u001b[39m\u001b[38;5;124m\"\u001b[39m\n\u001b[0;32m----> 2\u001b[0m f\u001b[38;5;241m=\u001b[39m\u001b[38;5;28;43mopen\u001b[39;49m\u001b[43m(\u001b[49m\u001b[43mfile_name\u001b[49m\u001b[43m)\u001b[49m\n\u001b[1;32m      3\u001b[0m f\u001b[38;5;241m.\u001b[39mread()\n",
      "File \u001b[0;32m/opt/conda/lib/python3.10/site-packages/IPython/core/interactiveshell.py:282\u001b[0m, in \u001b[0;36m_modified_open\u001b[0;34m(file, *args, **kwargs)\u001b[0m\n\u001b[1;32m    275\u001b[0m \u001b[38;5;28;01mif\u001b[39;00m file \u001b[38;5;129;01min\u001b[39;00m {\u001b[38;5;241m0\u001b[39m, \u001b[38;5;241m1\u001b[39m, \u001b[38;5;241m2\u001b[39m}:\n\u001b[1;32m    276\u001b[0m     \u001b[38;5;28;01mraise\u001b[39;00m \u001b[38;5;167;01mValueError\u001b[39;00m(\n\u001b[1;32m    277\u001b[0m         \u001b[38;5;124mf\u001b[39m\u001b[38;5;124m\"\u001b[39m\u001b[38;5;124mIPython won\u001b[39m\u001b[38;5;124m'\u001b[39m\u001b[38;5;124mt let you open fd=\u001b[39m\u001b[38;5;132;01m{\u001b[39;00mfile\u001b[38;5;132;01m}\u001b[39;00m\u001b[38;5;124m by default \u001b[39m\u001b[38;5;124m\"\u001b[39m\n\u001b[1;32m    278\u001b[0m         \u001b[38;5;124m\"\u001b[39m\u001b[38;5;124mas it is likely to crash IPython. If you know what you are doing, \u001b[39m\u001b[38;5;124m\"\u001b[39m\n\u001b[1;32m    279\u001b[0m         \u001b[38;5;124m\"\u001b[39m\u001b[38;5;124myou can use builtins\u001b[39m\u001b[38;5;124m'\u001b[39m\u001b[38;5;124m open.\u001b[39m\u001b[38;5;124m\"\u001b[39m\n\u001b[1;32m    280\u001b[0m     )\n\u001b[0;32m--> 282\u001b[0m \u001b[38;5;28;01mreturn\u001b[39;00m \u001b[43mio_open\u001b[49m\u001b[43m(\u001b[49m\u001b[43mfile\u001b[49m\u001b[43m,\u001b[49m\u001b[43m \u001b[49m\u001b[38;5;241;43m*\u001b[39;49m\u001b[43margs\u001b[49m\u001b[43m,\u001b[49m\u001b[43m \u001b[49m\u001b[38;5;241;43m*\u001b[39;49m\u001b[38;5;241;43m*\u001b[39;49m\u001b[43mkwargs\u001b[49m\u001b[43m)\u001b[49m\n",
      "\u001b[0;31mFileNotFoundError\u001b[0m: [Errno 2] No such file or directory: 'Text.txt'"
     ]
    }
   ],
   "source": [
    "file_name=\"Text.txt\"\n",
    "f=open(file_name)\n",
    "f.read()"
   ]
  },
  {
   "cell_type": "code",
   "execution_count": 47,
   "id": "d5c0cd58-8707-443c-82e6-361a13d3a34a",
   "metadata": {},
   "outputs": [
    {
     "ename": "FileNotFoundError",
     "evalue": "[Errno 2] No such file or directory: '/home/jovyan/work/Pro/Text.txt'",
     "output_type": "error",
     "traceback": [
      "\u001b[0;31m---------------------------------------------------------------------------\u001b[0m",
      "\u001b[0;31mFileNotFoundError\u001b[0m                         Traceback (most recent call last)",
      "Cell \u001b[0;32mIn[47], line 2\u001b[0m\n\u001b[1;32m      1\u001b[0m file_name\u001b[38;5;241m=\u001b[39m\u001b[38;5;124m\"\u001b[39m\u001b[38;5;124m/home/jovyan/work/Pro/Text.txt\u001b[39m\u001b[38;5;124m\"\u001b[39m\n\u001b[0;32m----> 2\u001b[0m f\u001b[38;5;241m=\u001b[39m\u001b[38;5;28;43mopen\u001b[39;49m\u001b[43m(\u001b[49m\u001b[43mfile_name\u001b[49m\u001b[43m)\u001b[49m\n\u001b[1;32m      3\u001b[0m f\u001b[38;5;241m.\u001b[39mread()\n",
      "File \u001b[0;32m/opt/conda/lib/python3.10/site-packages/IPython/core/interactiveshell.py:282\u001b[0m, in \u001b[0;36m_modified_open\u001b[0;34m(file, *args, **kwargs)\u001b[0m\n\u001b[1;32m    275\u001b[0m \u001b[38;5;28;01mif\u001b[39;00m file \u001b[38;5;129;01min\u001b[39;00m {\u001b[38;5;241m0\u001b[39m, \u001b[38;5;241m1\u001b[39m, \u001b[38;5;241m2\u001b[39m}:\n\u001b[1;32m    276\u001b[0m     \u001b[38;5;28;01mraise\u001b[39;00m \u001b[38;5;167;01mValueError\u001b[39;00m(\n\u001b[1;32m    277\u001b[0m         \u001b[38;5;124mf\u001b[39m\u001b[38;5;124m\"\u001b[39m\u001b[38;5;124mIPython won\u001b[39m\u001b[38;5;124m'\u001b[39m\u001b[38;5;124mt let you open fd=\u001b[39m\u001b[38;5;132;01m{\u001b[39;00mfile\u001b[38;5;132;01m}\u001b[39;00m\u001b[38;5;124m by default \u001b[39m\u001b[38;5;124m\"\u001b[39m\n\u001b[1;32m    278\u001b[0m         \u001b[38;5;124m\"\u001b[39m\u001b[38;5;124mas it is likely to crash IPython. If you know what you are doing, \u001b[39m\u001b[38;5;124m\"\u001b[39m\n\u001b[1;32m    279\u001b[0m         \u001b[38;5;124m\"\u001b[39m\u001b[38;5;124myou can use builtins\u001b[39m\u001b[38;5;124m'\u001b[39m\u001b[38;5;124m open.\u001b[39m\u001b[38;5;124m\"\u001b[39m\n\u001b[1;32m    280\u001b[0m     )\n\u001b[0;32m--> 282\u001b[0m \u001b[38;5;28;01mreturn\u001b[39;00m \u001b[43mio_open\u001b[49m\u001b[43m(\u001b[49m\u001b[43mfile\u001b[49m\u001b[43m,\u001b[49m\u001b[43m \u001b[49m\u001b[38;5;241;43m*\u001b[39;49m\u001b[43margs\u001b[49m\u001b[43m,\u001b[49m\u001b[43m \u001b[49m\u001b[38;5;241;43m*\u001b[39;49m\u001b[38;5;241;43m*\u001b[39;49m\u001b[43mkwargs\u001b[49m\u001b[43m)\u001b[49m\n",
      "\u001b[0;31mFileNotFoundError\u001b[0m: [Errno 2] No such file or directory: '/home/jovyan/work/Pro/Text.txt'"
     ]
    }
   ],
   "source": [
    "file_name=\"/home/jovyan/work/Pro/Text.txt\"\n",
    "f=open(file_name)\n",
    "f.read()"
   ]
  },
  {
   "cell_type": "code",
   "execution_count": 48,
   "id": "178f7f87-6323-44fc-995f-fdda82ce73c0",
   "metadata": {},
   "outputs": [
    {
     "data": {
      "text/plain": [
       "'/home/jovyan/work'"
      ]
     },
     "execution_count": 48,
     "metadata": {},
     "output_type": "execute_result"
    }
   ],
   "source": [
    "pwd"
   ]
  },
  {
   "cell_type": "code",
   "execution_count": 49,
   "id": "8fc6c5fb-13e2-467d-ac96-1159eec66505",
   "metadata": {},
   "outputs": [
    {
     "ename": "NameError",
     "evalue": "name 'work' is not defined",
     "output_type": "error",
     "traceback": [
      "\u001b[0;31m---------------------------------------------------------------------------\u001b[0m",
      "\u001b[0;31mNameError\u001b[0m                                 Traceback (most recent call last)",
      "Cell \u001b[0;32mIn[49], line 1\u001b[0m\n\u001b[0;32m----> 1\u001b[0m \u001b[43mwork\u001b[49m\u001b[38;5;241m/\u001b[39mPro\u001b[38;5;241m/\u001b[39mPro1\u001b[38;5;241m/\u001b[39mPro2\u001b[38;5;241m/\u001b[39mText\u001b[38;5;241m.\u001b[39mtxt\n",
      "\u001b[0;31mNameError\u001b[0m: name 'work' is not defined"
     ]
    }
   ],
   "source": [
    "work/Pro/Pro1/Pro2/Text.txt"
   ]
  },
  {
   "cell_type": "code",
   "execution_count": 50,
   "id": "1ec19fc8-e63e-4475-b660-c9832272664e",
   "metadata": {},
   "outputs": [
    {
     "data": {
      "text/plain": [
       "\"hello ,this is the class of exception handling.\\ni am using tripathiji's laptop,beaacuse i don't carry my laptop.\\ni realise now my laptop is better than his laptop,NO worry.\\ni think it's enough ,text for thois written file\\n\""
      ]
     },
     "execution_count": 50,
     "metadata": {},
     "output_type": "execute_result"
    }
   ],
   "source": [
    "file_name=\"/home/jovyan/work/Pro/Pro1/Pro2/Text.txt\"\n",
    "f=open(file_name)\n",
    "f.read()"
   ]
  },
  {
   "cell_type": "code",
   "execution_count": 51,
   "id": "738abd6f-b5c7-47bc-83e0-ee3db8927fc5",
   "metadata": {},
   "outputs": [
    {
     "name": "stdout",
     "output_type": "stream",
     "text": [
      "/home/jovyan/work/Pro\n"
     ]
    }
   ],
   "source": [
    "cd Pro"
   ]
  },
  {
   "cell_type": "code",
   "execution_count": 52,
   "id": "afb7823d-b007-4a26-950b-15d8460fe459",
   "metadata": {},
   "outputs": [
    {
     "data": {
      "text/plain": [
       "'/home/jovyan/work/Pro'"
      ]
     },
     "execution_count": 52,
     "metadata": {},
     "output_type": "execute_result"
    }
   ],
   "source": [
    "pwd"
   ]
  },
  {
   "cell_type": "markdown",
   "id": "f375e39c-6522-4f8d-8acb-e0dec0da2508",
   "metadata": {},
   "source": [
    "cd :- Change Directory "
   ]
  },
  {
   "cell_type": "code",
   "execution_count": 53,
   "id": "6c1fa3b6-2f1c-4d65-a878-6991021a64e7",
   "metadata": {},
   "outputs": [
    {
     "name": "stdout",
     "output_type": "stream",
     "text": [
      "/home/jovyan/work/Pro/Pro1\n"
     ]
    }
   ],
   "source": [
    "cd Pro1"
   ]
  },
  {
   "cell_type": "code",
   "execution_count": 54,
   "id": "14dda235-6434-44cf-9f56-f814b8d31668",
   "metadata": {},
   "outputs": [
    {
     "name": "stdout",
     "output_type": "stream",
     "text": [
      "/home/jovyan/work/Pro/Pro1/Pro2\n"
     ]
    }
   ],
   "source": [
    "cd Pro2"
   ]
  },
  {
   "cell_type": "code",
   "execution_count": 55,
   "id": "cc51ef1e-758c-48d6-ae5a-623381941a70",
   "metadata": {},
   "outputs": [
    {
     "data": {
      "text/plain": [
       "<_io.TextIOWrapper name='Text.txt' mode='r' encoding='UTF-8'>"
      ]
     },
     "execution_count": 55,
     "metadata": {},
     "output_type": "execute_result"
    }
   ],
   "source": [
    "open(\"Text.txt\")"
   ]
  },
  {
   "cell_type": "code",
   "execution_count": 56,
   "id": "019e8232-f4b0-4a8e-9cdb-ff69b5c51fff",
   "metadata": {},
   "outputs": [
    {
     "data": {
      "text/plain": [
       "'/home/jovyan/work/Pro/Pro1/Pro2'"
      ]
     },
     "execution_count": 56,
     "metadata": {},
     "output_type": "execute_result"
    }
   ],
   "source": [
    "pwd"
   ]
  },
  {
   "cell_type": "code",
   "execution_count": 57,
   "id": "a2c4cf6c-b54d-4933-940b-e7ae9226dcda",
   "metadata": {},
   "outputs": [
    {
     "name": "stdout",
     "output_type": "stream",
     "text": [
      "/home/jovyan/work/Pro/Pro1\n"
     ]
    }
   ],
   "source": [
    "cd .."
   ]
  },
  {
   "cell_type": "code",
   "execution_count": 58,
   "id": "818c16e7-67dc-44d9-bdad-6e9917c0eb60",
   "metadata": {},
   "outputs": [
    {
     "name": "stdout",
     "output_type": "stream",
     "text": [
      "/home/jovyan/work/Pro\n"
     ]
    }
   ],
   "source": [
    "cd .."
   ]
  },
  {
   "cell_type": "code",
   "execution_count": 59,
   "id": "988fa30f-e74a-4a01-a8a2-fc7cf3eb8482",
   "metadata": {},
   "outputs": [
    {
     "name": "stdout",
     "output_type": "stream",
     "text": [
      "/home/jovyan/work\n"
     ]
    }
   ],
   "source": [
    "cd .."
   ]
  },
  {
   "cell_type": "markdown",
   "id": "f10f87d1-5658-41dd-a7c3-4fa7efa0e07a",
   "metadata": {},
   "source": [
    "Nested Try"
   ]
  },
  {
   "cell_type": "code",
   "execution_count": 60,
   "id": "84089f78-158a-49f9-a96f-c73a69cc5c95",
   "metadata": {},
   "outputs": [],
   "source": [
    " n=0"
   ]
  },
  {
   "cell_type": "code",
   "execution_count": 61,
   "id": "02956af5-af7b-4b3b-a64b-1ed4df802ce5",
   "metadata": {},
   "outputs": [
    {
     "name": "stdin",
     "output_type": "stream",
     "text": [
      "Enter a number. 0\n"
     ]
    },
    {
     "ename": "ZeroDivisionError",
     "evalue": "division by zero",
     "output_type": "error",
     "traceback": [
      "\u001b[0;31m---------------------------------------------------------------------------\u001b[0m",
      "\u001b[0;31mZeroDivisionError\u001b[0m                         Traceback (most recent call last)",
      "Cell \u001b[0;32mIn[61], line 2\u001b[0m\n\u001b[1;32m      1\u001b[0m \u001b[38;5;28mint\u001b[39m(\u001b[38;5;28minput\u001b[39m(\u001b[38;5;124m\"\u001b[39m\u001b[38;5;124mEnter a number.\u001b[39m\u001b[38;5;124m\"\u001b[39m))\n\u001b[0;32m----> 2\u001b[0m div \u001b[38;5;241m=\u001b[39m \u001b[38;5;241;43m342\u001b[39;49m\u001b[38;5;241;43m/\u001b[39;49m\u001b[43mn\u001b[49m\n\u001b[1;32m      3\u001b[0m \u001b[38;5;28mprint\u001b[39m(div)\n",
      "\u001b[0;31mZeroDivisionError\u001b[0m: division by zero"
     ]
    }
   ],
   "source": [
    "int(input(\"Enter a number.\"))\n",
    "div = 342/n\n",
    "print(div)\n"
   ]
  },
  {
   "cell_type": "code",
   "execution_count": 63,
   "id": "6a00e6f5-ba78-4383-a198-1bc532786a6e",
   "metadata": {},
   "outputs": [
    {
     "name": "stdin",
     "output_type": "stream",
     "text": [
      "Enter a number. 0\n"
     ]
    },
    {
     "ename": "TypeError",
     "evalue": "unsupported operand type(s) for /: 'int' and 'str'",
     "output_type": "error",
     "traceback": [
      "\u001b[0;31m---------------------------------------------------------------------------\u001b[0m",
      "\u001b[0;31mTypeError\u001b[0m                                 Traceback (most recent call last)",
      "Cell \u001b[0;32mIn[63], line 3\u001b[0m\n\u001b[1;32m      1\u001b[0m \u001b[38;5;28;01mtry\u001b[39;00m :\n\u001b[1;32m      2\u001b[0m     n\u001b[38;5;241m=\u001b[39m(\u001b[38;5;28minput\u001b[39m(\u001b[38;5;124m\"\u001b[39m\u001b[38;5;124mEnter a number.\u001b[39m\u001b[38;5;124m\"\u001b[39m))\n\u001b[0;32m----> 3\u001b[0m     div \u001b[38;5;241m=\u001b[39m \u001b[38;5;241;43m342\u001b[39;49m\u001b[38;5;241;43m/\u001b[39;49m\u001b[43mn\u001b[49m\n\u001b[1;32m      4\u001b[0m     \u001b[38;5;28mprint\u001b[39m(div)\n\u001b[1;32m      5\u001b[0m \u001b[38;5;28;01mexcept\u001b[39;00m \u001b[38;5;167;01mValueError\u001b[39;00m :\n",
      "\u001b[0;31mTypeError\u001b[0m: unsupported operand type(s) for /: 'int' and 'str'"
     ]
    }
   ],
   "source": [
    "try :\n",
    "    n=(input(\"Enter a number.\"))\n",
    "    div = 342/n\n",
    "    print(div)\n",
    "except ValueError :\n",
    "    print(\"User has entered invalid input.\")\n",
    "except ZeroDivisionError :\n",
    "    print(\"Use has entered zero\")"
   ]
  },
  {
   "cell_type": "code",
   "execution_count": 64,
   "id": "7a7cec42-56ff-4d09-b571-620e20f39598",
   "metadata": {},
   "outputs": [
    {
     "name": "stdin",
     "output_type": "stream",
     "text": [
      "Enter a number. 0\n"
     ]
    },
    {
     "name": "stdout",
     "output_type": "stream",
     "text": [
      "User has entered invalid input or maybe 0.\n"
     ]
    }
   ],
   "source": [
    "try :\n",
    "    n=int(input(\"Enter a number.\"))\n",
    "    div = 342/n\n",
    "    print(div)\n",
    "except (ValueError,ZeroDivisionError) :\n",
    "    print(\"User has entered invalid input or maybe 0.\")\n",
    "    "
   ]
  },
  {
   "cell_type": "code",
   "execution_count": 65,
   "id": "98b104b6-b292-40a1-babc-fea5b25b5810",
   "metadata": {},
   "outputs": [
    {
     "name": "stdin",
     "output_type": "stream",
     "text": [
      "Enter a number. 0\n"
     ]
    },
    {
     "name": "stdout",
     "output_type": "stream",
     "text": [
      "User has entered 0 \n"
     ]
    }
   ],
   "source": [
    "try :\n",
    "    try :\n",
    "        \n",
    "        n=int(input(\"Enter a number.\"))\n",
    "        div = 342/n\n",
    "        print(div)\n",
    "    except ZeroDivisionError : \n",
    "        print(\"User has entered 0 \")\n",
    "except (ValueError,ZeroDivisionError) :\n",
    "    print(\"User has entered invalid input or maybe 0.\")\n",
    "    "
   ]
  },
  {
   "cell_type": "code",
   "execution_count": 66,
   "id": "f33d6963-cbe0-47a0-a264-a0fd88cafd0d",
   "metadata": {},
   "outputs": [
    {
     "name": "stdin",
     "output_type": "stream",
     "text": [
      "Enter a number. 0\n"
     ]
    },
    {
     "name": "stdout",
     "output_type": "stream",
     "text": [
      "User has entered invalid input or maybe 0.\n"
     ]
    }
   ],
   "source": [
    "try :\n",
    "    n=int(input(\"Enter a number.\"))\n",
    "    div = 342/n\n",
    "    print(div)\n",
    "except (ValueError,ZeroDivisionError) :\n",
    "    print(\"User has entered invalid input or maybe 0.\")\n",
    "else :\n",
    "    print(div)\n",
    "    "
   ]
  },
  {
   "cell_type": "markdown",
   "id": "1da632b1-5998-476f-9c9d-4bc324f8c45a",
   "metadata": {},
   "source": [
    "Else block will execute if try block will execute sucessfull."
   ]
  },
  {
   "cell_type": "code",
   "execution_count": 67,
   "id": "dcd6d89d-60f3-41ce-9c17-4315486dc8da",
   "metadata": {},
   "outputs": [],
   "source": [
    "f = open(\"/home/jovyan/work/Pro/Pro1/Pro2/Text.txt\")\n"
   ]
  },
  {
   "cell_type": "code",
   "execution_count": 68,
   "id": "9fd5204e-4a6d-407b-abc0-c9e937099bca",
   "metadata": {},
   "outputs": [
    {
     "data": {
      "text/plain": [
       "<_io.TextIOWrapper name='/home/jovyan/work/Pro/Pro1/Pro2/Text.txt' mode='r' encoding='UTF-8'>"
      ]
     },
     "execution_count": 68,
     "metadata": {},
     "output_type": "execute_result"
    }
   ],
   "source": [
    "f"
   ]
  },
  {
   "cell_type": "code",
   "execution_count": 69,
   "id": "1e355636-858a-4b1a-b983-49a087a88349",
   "metadata": {},
   "outputs": [
    {
     "data": {
      "text/plain": [
       "\"hello ,this is the class of exception handling.\\ni am using tripathiji's laptop,beaacuse i don't carry my laptop.\\ni realise now my laptop is better than his laptop,NO worry.\\ni think it's enough ,text for thois written file\\n\""
      ]
     },
     "execution_count": 69,
     "metadata": {},
     "output_type": "execute_result"
    }
   ],
   "source": [
    "f.read()"
   ]
  },
  {
   "cell_type": "code",
   "execution_count": 70,
   "id": "07b85396-aa27-4edc-8997-b8a3fa6ab139",
   "metadata": {},
   "outputs": [
    {
     "data": {
      "text/plain": [
       "<_io.TextIOWrapper name='/home/jovyan/work/Pro/Pro1/Pro2/Text.txt' mode='r' encoding='UTF-8'>"
      ]
     },
     "execution_count": 70,
     "metadata": {},
     "output_type": "execute_result"
    }
   ],
   "source": [
    "f"
   ]
  },
  {
   "cell_type": "code",
   "execution_count": 71,
   "id": "a900257f-784a-4aad-b35d-1b3579d970f5",
   "metadata": {},
   "outputs": [],
   "source": [
    "f = open(\"/home/jovyan/work/Pro/Pro1/Pro2/Text.txt\")\n",
    "f.read()\n",
    "f.close()"
   ]
  },
  {
   "cell_type": "markdown",
   "id": "41eb71aa-236c-4e0c-a556-852f4d04fe1f",
   "metadata": {},
   "source": [
    "IO Buffer = input output buffer "
   ]
  },
  {
   "cell_type": "code",
   "execution_count": 72,
   "id": "03028417-662b-4f34-a894-af136c6b0a49",
   "metadata": {},
   "outputs": [
    {
     "data": {
      "text/plain": [
       "<_io.TextIOWrapper name='/home/jovyan/work/Pro/Pro1/Pro2/Text.txt' mode='r' encoding='UTF-8'>"
      ]
     },
     "execution_count": 72,
     "metadata": {},
     "output_type": "execute_result"
    }
   ],
   "source": [
    "f"
   ]
  },
  {
   "cell_type": "code",
   "execution_count": 73,
   "id": "5f977aa0-2c6f-4bfa-84e4-da7693b416af",
   "metadata": {},
   "outputs": [
    {
     "ename": "UnsupportedOperation",
     "evalue": "not writable",
     "output_type": "error",
     "traceback": [
      "\u001b[0;31m---------------------------------------------------------------------------\u001b[0m",
      "\u001b[0;31mUnsupportedOperation\u001b[0m                      Traceback (most recent call last)",
      "Cell \u001b[0;32mIn[73], line 2\u001b[0m\n\u001b[1;32m      1\u001b[0m f \u001b[38;5;241m=\u001b[39m \u001b[38;5;28mopen\u001b[39m(\u001b[38;5;124m\"\u001b[39m\u001b[38;5;124m/home/jovyan/work/Pro/Pro1/Pro2/Text.txt\u001b[39m\u001b[38;5;124m\"\u001b[39m)\n\u001b[0;32m----> 2\u001b[0m \u001b[43mf\u001b[49m\u001b[38;5;241;43m.\u001b[39;49m\u001b[43mwrite\u001b[49m\u001b[43m(\u001b[49m\u001b[38;5;124;43m\"\u001b[39;49m\u001b[38;5;124;43masdfghjkl\u001b[39;49m\u001b[38;5;124;43m\"\u001b[39;49m\u001b[43m)\u001b[49m\n\u001b[1;32m      3\u001b[0m f\u001b[38;5;241m.\u001b[39mclose()\n",
      "\u001b[0;31mUnsupportedOperation\u001b[0m: not writable"
     ]
    }
   ],
   "source": [
    "f = open(\"/home/jovyan/work/Pro/Pro1/Pro2/Text.txt\")\n",
    "f.write(\"asdfghjkl\")\n",
    "f.close()"
   ]
  },
  {
   "cell_type": "code",
   "execution_count": 74,
   "id": "eec262af-2be0-4910-92c7-bd7a12fc70e3",
   "metadata": {},
   "outputs": [
    {
     "name": "stdout",
     "output_type": "stream",
     "text": [
      "There is some issue.\n",
      "File closed.\n"
     ]
    }
   ],
   "source": [
    "try :\n",
    "    f = open(\"/home/jovyan/work/Pro/Pro1/Pro2/ext.txt\")\n",
    "    f.write(\"asdfghjkl\")\n",
    "except Exception :\n",
    "    print(\"There is some issue.\")\n",
    "finally :\n",
    "    f.close()\n",
    "    print(\"File closed.\")"
   ]
  },
  {
   "cell_type": "code",
   "execution_count": 75,
   "id": "5a50110e-3aed-43a4-a979-4ba37f8e7ff4",
   "metadata": {},
   "outputs": [
    {
     "data": {
      "text/plain": [
       "<_io.TextIOWrapper name='/home/jovyan/work/Pro/Pro1/Pro2/Text.txt' mode='r' encoding='UTF-8'>"
      ]
     },
     "execution_count": 75,
     "metadata": {},
     "output_type": "execute_result"
    }
   ],
   "source": [
    "f"
   ]
  },
  {
   "cell_type": "code",
   "execution_count": 76,
   "id": "31ee2a3f-bb14-4a1d-816f-743a79110060",
   "metadata": {},
   "outputs": [
    {
     "name": "stdout",
     "output_type": "stream",
     "text": [
      "There is some issue.\n"
     ]
    },
    {
     "ename": "NameError",
     "evalue": "name 'data' is not defined",
     "output_type": "error",
     "traceback": [
      "\u001b[0;31m---------------------------------------------------------------------------\u001b[0m",
      "\u001b[0;31mNameError\u001b[0m                                 Traceback (most recent call last)",
      "Cell \u001b[0;32mIn[76], line 9\u001b[0m\n\u001b[1;32m      7\u001b[0m     \u001b[38;5;28mprint\u001b[39m(data)\n\u001b[1;32m      8\u001b[0m \u001b[38;5;28;01mfinally\u001b[39;00m :\n\u001b[0;32m----> 9\u001b[0m     \u001b[38;5;28mprint\u001b[39m(\u001b[43mdata\u001b[49m)\n\u001b[1;32m     10\u001b[0m     f\u001b[38;5;241m.\u001b[39mclose()\n\u001b[1;32m     11\u001b[0m     \u001b[38;5;28mprint\u001b[39m(\u001b[38;5;124m\"\u001b[39m\u001b[38;5;124mFile closed.\u001b[39m\u001b[38;5;124m\"\u001b[39m)\n",
      "\u001b[0;31mNameError\u001b[0m: name 'data' is not defined"
     ]
    }
   ],
   "source": [
    "try :\n",
    "    f = open(\"/home/jovyan/work/Pro/Pro1/Pro2/Text.txt\")\n",
    "    data = f.write()\n",
    "except Exception :\n",
    "    print(\"There is some issue.\")\n",
    "else :\n",
    "    print(data)\n",
    "finally :\n",
    "    print(data)\n",
    "    f.close()\n",
    "    print(\"File closed.\")"
   ]
  },
  {
   "cell_type": "code",
   "execution_count": 77,
   "id": "155dc016-e2c0-4754-a36e-4f730ee050bd",
   "metadata": {},
   "outputs": [
    {
     "name": "stdout",
     "output_type": "stream",
     "text": [
      "There is some issue.\n",
      "File closed.\n"
     ]
    }
   ],
   "source": [
    "try :\n",
    "    f = open(\"/home/jovyan/work/Pro/Pro1/Pro2/Text.txt\")\n",
    "    data = f.write()\n",
    "except Exception :\n",
    "    print(\"There is some issue.\")\n",
    "else :\n",
    "    print(data)\n",
    "finally :\n",
    "    try :\n",
    "        print(data)\n",
    "    except :\n",
    "        pass\n",
    "    f.close()\n",
    "    print(\"File closed.\")"
   ]
  },
  {
   "cell_type": "code",
   "execution_count": 78,
   "id": "88bf322e-9fdf-4704-8da8-dac835adbf1c",
   "metadata": {},
   "outputs": [
    {
     "data": {
      "text/plain": [
       "<_io.TextIOWrapper name='/home/jovyan/work/Pro/Pro1/Pro2/Text.txt' mode='r' encoding='UTF-8'>"
      ]
     },
     "execution_count": 78,
     "metadata": {},
     "output_type": "execute_result"
    }
   ],
   "source": [
    "f"
   ]
  },
  {
   "cell_type": "markdown",
   "id": "f555b0bd-422f-427b-82d3-fc38f65b9694",
   "metadata": {},
   "source": [
    "How to write your Own Exception?"
   ]
  },
  {
   "cell_type": "code",
   "execution_count": 79,
   "id": "753c24d7-d2c1-477d-af45-a6bbfda5fb55",
   "metadata": {},
   "outputs": [
    {
     "name": "stdin",
     "output_type": "stream",
     "text": [
      "Enter height of the wall. -9\n"
     ]
    }
   ],
   "source": [
    "a=int(input(\"Enter height of the wall.\"))"
   ]
  },
  {
   "cell_type": "code",
   "execution_count": 80,
   "id": "6dc960c0-6ac0-49d5-bc97-bc80867f9860",
   "metadata": {},
   "outputs": [
    {
     "name": "stdin",
     "output_type": "stream",
     "text": [
      "Enter height of the wall. -9\n"
     ]
    },
    {
     "name": "stdout",
     "output_type": "stream",
     "text": [
      "Entered Height is negative.\n"
     ]
    }
   ],
   "source": [
    "try :\n",
    "    a=int(input(\"Enter height of the wall.\"))\n",
    "    if a<0 :\n",
    "        raise ValueError(\"Entered Height is negative.\")\n",
    "except ValueError as v :\n",
    "    print(v)"
   ]
  },
  {
   "cell_type": "code",
   "execution_count": 81,
   "id": "ab408366-fedf-42ef-9123-428a95e09d91",
   "metadata": {},
   "outputs": [
    {
     "name": "stdin",
     "output_type": "stream",
     "text": [
      "Enter your age. -87\n"
     ]
    },
    {
     "name": "stdout",
     "output_type": "stream",
     "text": [
      "Use has entered negative age which is not valid.\n"
     ]
    }
   ],
   "source": [
    "try :\n",
    "    age=int(input(\"Enter your age.\"))\n",
    "    if age < 0 :\n",
    "        raise ValueError(\"Use has entered negative age which is not valid.\")\n",
    "    elif age<18 :\n",
    "        raise Exception(\"User is underage.\")\n",
    "    else :\n",
    "        print(\"Valid user.\")\n",
    "except Exception as e : \n",
    "    print(e)"
   ]
  },
  {
   "cell_type": "markdown",
   "id": "c3cedd5a-7279-487f-b740-cd14aa90225a",
   "metadata": {},
   "source": [
    "Logging "
   ]
  },
  {
   "cell_type": "markdown",
   "id": "c5740615-fffc-49ab-993f-0d9955646448",
   "metadata": {},
   "source": [
    "We are trying to store the messages in some file system "
   ]
  },
  {
   "cell_type": "markdown",
   "id": "0c275ce5-fd17-459d-b2f9-9bd18e63201e",
   "metadata": {},
   "source": [
    "where we are able to keep track of each and every instances."
   ]
  },
  {
   "cell_type": "code",
   "execution_count": 5,
   "id": "168d71ff-7b94-4136-8a63-fac26ee7a077",
   "metadata": {},
   "outputs": [],
   "source": [
    "import logging as log "
   ]
  },
  {
   "cell_type": "code",
   "execution_count": 6,
   "id": "00958c09-1292-4fa4-89d1-a45fc93a69db",
   "metadata": {},
   "outputs": [],
   "source": [
    "log.basicConfig(filename ='atul.log',level=log.INFO)"
   ]
  },
  {
   "cell_type": "code",
   "execution_count": 7,
   "id": "3388aee8-5a09-4cf9-9eb8-de8439e3e4a4",
   "metadata": {},
   "outputs": [
    {
     "data": {
      "text/plain": [
       "'/home/jovyan/work'"
      ]
     },
     "execution_count": 7,
     "metadata": {},
     "output_type": "execute_result"
    }
   ],
   "source": [
    "pwd"
   ]
  },
  {
   "cell_type": "code",
   "execution_count": 9,
   "id": "fc739348-3de7-4789-9d74-2be18acc4744",
   "metadata": {},
   "outputs": [],
   "source": [
    "log.info(\"Store a message.\")"
   ]
  },
  {
   "cell_type": "code",
   "execution_count": null,
   "id": "0fa28ee7-a5ba-4851-ab86-66a3767d8aac",
   "metadata": {},
   "outputs": [],
   "source": [
    "DEBUG-10\n",
    "INFO-20\n",
    "WARNING-30\n",
    "ERROR-40\n",
    "CRITICAL-50 \n",
    "  5-levels inside a python programming"
   ]
  },
  {
   "cell_type": "code",
   "execution_count": 10,
   "id": "6b93ff58-6ee8-49c3-b1f9-9702309e8ad7",
   "metadata": {},
   "outputs": [],
   "source": [
    "log.debug(\"this is a debug message.\")"
   ]
  },
  {
   "cell_type": "code",
   "execution_count": 11,
   "id": "3498fab9-23c9-45e8-a2b9-8ef766a53e9e",
   "metadata": {},
   "outputs": [],
   "source": [
    "log.warning(\"this is my warning.\")"
   ]
  },
  {
   "cell_type": "code",
   "execution_count": 12,
   "id": "aa0b3641-7dfd-4940-a80f-b7bccb6d50c3",
   "metadata": {},
   "outputs": [],
   "source": [
    "log.error(\"this is a error message.\")"
   ]
  },
  {
   "cell_type": "code",
   "execution_count": 13,
   "id": "5a4153ac-01d9-4077-a886-809bd734c7ee",
   "metadata": {},
   "outputs": [],
   "source": [
    "log.critical(\"this is a critical msg.\")"
   ]
  },
  {
   "cell_type": "code",
   "execution_count": 1,
   "id": "11c9599a-93b8-4997-9120-e20d172b84bb",
   "metadata": {},
   "outputs": [
    {
     "name": "stdin",
     "output_type": "stream",
     "text": [
      "Enter your age. 98\n"
     ]
    }
   ],
   "source": [
    "import logging \n",
    "logging.basicConfig(filename='Trytest.log',level=logging.DEBUG,format = '%(asctime)s)-%(levelname)s - %(message)s')\n",
    "\n",
    "\n",
    "try :\n",
    "    logging.info(\"this is the starting of my program\")\n",
    "    logging.info(\"Asking user to enter the age.\")\n",
    "    age=int(input(\"Enter your age.\"))\n",
    "    logging.info(\"Use has entered age= %d\",age)\n",
    "    if age < 0 :\n",
    "        logging.info(\"i am checking the negative condition.\")\n",
    "        raise ValueError(\"Use has entered negative age which is not valid.\")\n",
    "    elif age<18 :\n",
    "        logging.info(\"i am trying to check underage condition.\")\n",
    "        raise Exception(\"User is underage.\")\n",
    "    else :\n",
    "        logging.info(\"Valid user.\")\n",
    "except Exception as e : \n",
    "    logging.error(e)"
   ]
  },
  {
   "cell_type": "code",
   "execution_count": 2,
   "id": "16504b7c-4bfc-4018-9d84-1974913b9a9f",
   "metadata": {},
   "outputs": [],
   "source": [
    "import logging \n",
    "logging.basicConfig(filename='even_parser.log',level=logging.DEBUG,format = '%(asctime)s)-%(levelname)s - %(message)s')\n",
    "l=[4,5,6,7,8,9,0]\n",
    "logging.info(l)\n",
    "l1=[]\n",
    "def even_parser(l):\n",
    "    try :\n",
    "        logging.info(\"inside try block\")\n",
    "        for i in l :\n",
    "            logging.info(\"inside for loopi=%d\",i)\n",
    "            if i%2==0 :\n",
    "                logging.info(\"Checking the value of i\")\n",
    "                l1.append(i)\n",
    "                logging.info(\"appending the value i=%d\",i)\n",
    "        return l1 \n",
    "    except Exception as e :\n",
    "        logging.error(e)"
   ]
  },
  {
   "cell_type": "code",
   "execution_count": 3,
   "id": "64d94176-d992-4de1-8bdc-369515d81367",
   "metadata": {},
   "outputs": [
    {
     "data": {
      "text/plain": [
       "[4, 6, 8, 0]"
      ]
     },
     "execution_count": 3,
     "metadata": {},
     "output_type": "execute_result"
    }
   ],
   "source": [
    "even_parser(l)"
   ]
  },
  {
   "cell_type": "code",
   "execution_count": null,
   "id": "abfa1cc3-99cd-4141-807c-403def84d0fa",
   "metadata": {},
   "outputs": [],
   "source": []
  }
 ],
 "metadata": {
  "kernelspec": {
   "display_name": "Python 3 (ipykernel)",
   "language": "python",
   "name": "python3"
  },
  "language_info": {
   "codemirror_mode": {
    "name": "ipython",
    "version": 3
   },
   "file_extension": ".py",
   "mimetype": "text/x-python",
   "name": "python",
   "nbconvert_exporter": "python",
   "pygments_lexer": "ipython3",
   "version": "3.10.8"
  }
 },
 "nbformat": 4,
 "nbformat_minor": 5
}
