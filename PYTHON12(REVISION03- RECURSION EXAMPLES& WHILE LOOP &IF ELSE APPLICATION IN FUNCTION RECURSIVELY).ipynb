{
 "cells": [
  {
   "cell_type": "code",
   "execution_count": null,
   "id": "4eb7b5ed-7b19-4d00-9b82-d4e420092657",
   "metadata": {},
   "outputs": [],
   "source": [
    "Next Class Agenda\n",
    "recursion \n",
    "while loop\n",
    "iterator \n",
    "iterable\n",
    "generator(yield)\n",
    "zip\n",
    "enumeration \n",
    "Decorators \n",
    "comprehension "
   ]
  },
  {
   "cell_type": "code",
   "execution_count": null,
   "id": "c89fc9ea-73c8-40e2-8484-fcaeaba8344f",
   "metadata": {},
   "outputs": [],
   "source": [
    "def power_fun(n,k):\n",
    "    if k==0:\n",
    "        return 1\n",
    "    else:\n",
    "        return n*power_fun(n,k-1)"
   ]
  },
  {
   "cell_type": "code",
   "execution_count": null,
   "id": "e97f38ba-409a-4e01-9c27-2c82d39b7c09",
   "metadata": {},
   "outputs": [],
   "source": [
    "while True:\n",
    "    print(\"This is my first while loop.\")"
   ]
  },
  {
   "cell_type": "code",
   "execution_count": 1,
   "id": "5e9f526c-cbf8-4156-8fc1-8758a1d53a50",
   "metadata": {},
   "outputs": [],
   "source": [
    "a=1"
   ]
  },
  {
   "cell_type": "raw",
   "id": "00710120-14a6-42b9-9029-a49298b47382",
   "metadata": {},
   "source": [
    "print a number from 100 till 1"
   ]
  },
  {
   "cell_type": "code",
   "execution_count": 13,
   "id": "b42fe2ed-f1a4-4d68-83f4-4a4e1a07b8df",
   "metadata": {},
   "outputs": [
    {
     "name": "stdout",
     "output_type": "stream",
     "text": [
      "10\n",
      "9\n",
      "8\n",
      "7\n",
      "6\n",
      "5\n",
      "4\n",
      "3\n",
      "2\n",
      "1\n"
     ]
    }
   ],
   "source": [
    "a=10\n",
    "while a>=1:\n",
    "        print(a)\n",
    "        a=a-1"
   ]
  },
  {
   "cell_type": "code",
   "execution_count": 23,
   "id": "d2b0e531-b3d3-464f-a747-b570bf27b3cc",
   "metadata": {},
   "outputs": [
    {
     "name": "stdout",
     "output_type": "stream",
     "text": [
      "15\n"
     ]
    }
   ],
   "source": [
    "s=0\n",
    "n=1 \n",
    "t=5\n",
    "while n<=t:\n",
    "    s=s+n\n",
    "    n=n+1\n",
    "print(s)    "
   ]
  },
  {
   "cell_type": "code",
   "execution_count": 21,
   "id": "e45f20cd-6654-48bc-b7fc-f2e655dc7814",
   "metadata": {},
   "outputs": [
    {
     "data": {
      "text/plain": [
       "15"
      ]
     },
     "execution_count": 21,
     "metadata": {},
     "output_type": "execute_result"
    }
   ],
   "source": [
    "s"
   ]
  },
  {
   "cell_type": "code",
   "execution_count": 22,
   "id": "f40cea6e-0e95-42a8-8d05-9606ff980a4c",
   "metadata": {},
   "outputs": [
    {
     "name": "stdout",
     "output_type": "stream",
     "text": [
      "120\n"
     ]
    }
   ],
   "source": [
    "s=1\n",
    "n=1 \n",
    "t=5\n",
    "while n<=t:\n",
    "    s=s*n\n",
    "    n=n+1\n",
    "print(s)    "
   ]
  },
  {
   "cell_type": "code",
   "execution_count": 1,
   "id": "30ee635c-9a1f-4906-aeea-a7ca5ca4ead2",
   "metadata": {},
   "outputs": [
    {
     "name": "stdin",
     "output_type": "stream",
     "text": [
      "Enter a number for which you are looking for  table 5\n"
     ]
    },
    {
     "name": "stdout",
     "output_type": "stream",
     "text": [
      "5 * 1 = 5\n",
      "5 * 2 = 10\n",
      "5 * 3 = 15\n",
      "5 * 4 = 20\n",
      "5 * 5 = 25\n",
      "5 * 6 = 30\n",
      "5 * 7 = 35\n",
      "5 * 8 = 40\n",
      "5 * 9 = 45\n",
      "5 * 10 = 50\n"
     ]
    }
   ],
   "source": [
    "a=int(input(\"Enter a number for which you are looking for  table\"))\n",
    "i=1\n",
    "while i<=10:\n",
    "    product=a*i\n",
    "    print(a,'*',i,'=',product)\n",
    "    i=i+1\n",
    "    "
   ]
  },
  {
   "cell_type": "code",
   "execution_count": 17,
   "id": "b30ab670-dbe2-461a-b89f-f3ba94abca42",
   "metadata": {},
   "outputs": [
    {
     "name": "stdout",
     "output_type": "stream",
     "text": [
      "Enter s to stop the timer.\n"
     ]
    },
    {
     "name": "stdin",
     "output_type": "stream",
     "text": [
      "enter s for stop. g\n"
     ]
    },
    {
     "name": "stdout",
     "output_type": "stream",
     "text": [
      "Enter s to stop the timer.\n"
     ]
    },
    {
     "name": "stdin",
     "output_type": "stream",
     "text": [
      "enter s for stop. h\n"
     ]
    },
    {
     "name": "stdout",
     "output_type": "stream",
     "text": [
      "Enter s to stop the timer.\n"
     ]
    },
    {
     "name": "stdin",
     "output_type": "stream",
     "text": [
      "enter s for stop. j\n"
     ]
    },
    {
     "name": "stdout",
     "output_type": "stream",
     "text": [
      "Enter s to stop the timer.\n"
     ]
    },
    {
     "name": "stdin",
     "output_type": "stream",
     "text": [
      "enter s for stop. A\n"
     ]
    },
    {
     "name": "stdout",
     "output_type": "stream",
     "text": [
      "Enter s to stop the timer.\n"
     ]
    },
    {
     "name": "stdin",
     "output_type": "stream",
     "text": [
      "enter s for stop. S\n"
     ]
    },
    {
     "name": "stdout",
     "output_type": "stream",
     "text": [
      "start the class break is over.\n"
     ]
    }
   ],
   "source": [
    "import time \n",
    "stop = False\n",
    "while not stop:\n",
    "    print(\"Enter s to stop the timer.\")\n",
    "    time.sleep(1)\n",
    "    press_stop = input(\"enter s for stop.\")\n",
    "    \n",
    "    if press_stop.lower()== 's':\n",
    "        stop=True\n",
    "print(\"start the class break is over.\")        \n",
    "        \n",
    "    \n",
    "\n",
    "    "
   ]
  },
  {
   "cell_type": "code",
   "execution_count": 2,
   "id": "3f0b3aa0-d6dd-4fca-879f-1fdf3996afa5",
   "metadata": {},
   "outputs": [
    {
     "name": "stdout",
     "output_type": "stream",
     "text": [
      "20\n"
     ]
    },
    {
     "name": "stdin",
     "output_type": "stream",
     "text": [
      "Enter your choice.(1.biscuit, 2.chips, 3.redbull, 4.coke) 1\n"
     ]
    },
    {
     "name": "stdout",
     "output_type": "stream",
     "text": [
      "take your buscuit.\n",
      "16\n"
     ]
    },
    {
     "name": "stdin",
     "output_type": "stream",
     "text": [
      "Enter your choice.(1.biscuit, 2.chips, 3.redbull, 4.coke) 2\n"
     ]
    },
    {
     "name": "stdout",
     "output_type": "stream",
     "text": [
      "take your chips.\n",
      "11\n"
     ]
    },
    {
     "name": "stdin",
     "output_type": "stream",
     "text": [
      "Enter your choice.(1.biscuit, 2.chips, 3.redbull, 4.coke) 3\n"
     ]
    },
    {
     "name": "stdout",
     "output_type": "stream",
     "text": [
      "take your redbull.\n",
      "you dont have enough balance in your wallet.\n"
     ]
    }
   ],
   "source": [
    "money_in_hand=20\n",
    "while money_in_hand>=4:\n",
    "    print(money_in_hand)\n",
    "    choice=int(input(\"Enter your choice.(1.biscuit, 2.chips, 3.redbull, 4.coke)\"))\n",
    "    if choice==1:\n",
    "        print(\"take your buscuit.\")\n",
    "        money_in_hand=money_in_hand-4\n",
    "    elif choice == 2:\n",
    "        print(\"take your chips.\")\n",
    "        money_in_hand=money_in_hand-5\n",
    "    elif choice==3:\n",
    "        print(\"take your redbull.\")\n",
    "        money_in_hand=money_in_hand-10\n",
    "    elif choice==4:\n",
    "        print(\"take your coke.\")\n",
    "        money_in_hand=money_in_hand-8\n",
    "    else:\n",
    "        print(\"you have not entered the correct choice.\")\n",
    "print(\"you dont have enough balance in your wallet.\")        "
   ]
  },
  {
   "cell_type": "markdown",
   "id": "49939b17-b7e5-4b08-bd71-6cfd8e38b3ee",
   "metadata": {},
   "source": [
    "In python there is swich statement"
   ]
  },
  {
   "cell_type": "code",
   "execution_count": 20,
   "id": "171059da-78f7-4e70-9c09-86510dffda65",
   "metadata": {},
   "outputs": [
    {
     "ename": "SyntaxError",
     "evalue": "'continue' not properly in loop (3099439794.py, line 11)",
     "output_type": "error",
     "traceback": [
      "\u001b[0;36m  Cell \u001b[0;32mIn[20], line 11\u001b[0;36m\u001b[0m\n\u001b[0;31m    continue\u001b[0m\n\u001b[0m    ^\u001b[0m\n\u001b[0;31mSyntaxError\u001b[0m\u001b[0;31m:\u001b[0m 'continue' not properly in loop\n"
     ]
    }
   ],
   "source": [
    "user_id=\"1234@abc\"\n",
    "Password=\"abc123\"\n",
    "count=0\n",
    "if user_id==input(\"Enter your user_id.\"):\n",
    "    if Password==input(\"Enter your password.\"):\n",
    "        print(\"You have loggedin successfully.\")\n",
    "        \n",
    "    else:\n",
    "        count+=1\n",
    "        if count<=3:\n",
    "            continue\n",
    "        else:\n",
    "            print(\"Your account is locked for 24 hrs.\")\n",
    "    \n",
    "    "
   ]
  },
  {
   "cell_type": "code",
   "execution_count": null,
   "id": "b06037c3-2345-4859-be70-28a8f20a2beb",
   "metadata": {},
   "outputs": [],
   "source": []
  },
  {
   "cell_type": "code",
   "execution_count": 30,
   "id": "20e3bad6-f602-4be2-87e4-d6199bbc89a7",
   "metadata": {},
   "outputs": [
    {
     "name": "stdin",
     "output_type": "stream",
     "text": [
      "Enter your user id for account. sudhak\n"
     ]
    },
    {
     "name": "stdout",
     "output_type": "stream",
     "text": [
      "your user_id is incorrect try again.\n"
     ]
    }
   ],
   "source": [
    "user_id=\"sudhanshu\"\n",
    "password=\"sudhanshu@123\"\n",
    "counter=1\n",
    "user_id_check= False\n",
    "userid = input(\"Enter your user id for account.\")\n",
    "while counter<=3:\n",
    "   \n",
    "    if userid==user_id :\n",
    "        user_id_check = True\n",
    "    else :\n",
    "        print(\"your user_id is incorrect try again.\")\n",
    "        break \n",
    "    if user_id_check == True:\n",
    "        pswd=input(\"Enter your password for respective user id.\")\n",
    "        if pswd == password :\n",
    "            print(\"you have logged in successfully.\")\n",
    "            break\n",
    "        counter= counter + 1\n",
    "if counter>3:\n",
    "    print(\"you have  attempted maximum timesand your account is locked.\")        \n",
    "        \n",
    "        \n",
    "    "
   ]
  },
  {
   "cell_type": "markdown",
   "id": "2a671f65-030a-4354-a402-bc4f8ee5ac5a",
   "metadata": {},
   "source": [
    "Create a to-do list "
   ]
  },
  {
   "cell_type": "code",
   "execution_count": null,
   "id": "65d3efc2-5cda-4839-82b5-e21ea444bf1a",
   "metadata": {},
   "outputs": [],
   "source": [
    "time=0 hrs\n",
    "\n",
    "while time<=24 hrs:\n",
    "    print(input(\"Enter your task\"))"
   ]
  },
  {
   "cell_type": "code",
   "execution_count": 32,
   "id": "9d924338-b7b1-4f30-a631-03d24fd03fd6",
   "metadata": {},
   "outputs": [
    {
     "name": "stdin",
     "output_type": "stream",
     "text": [
      "enter your todo list. padhai\n",
      "enter n if you want to add in todo list or enter y if you don't want to add  n\n",
      "enter your todo list. likhai\n",
      "enter n if you want to add in todo list or enter y if you don't want to add  y\n"
     ]
    },
    {
     "name": "stdout",
     "output_type": "stream",
     "text": [
      "my todo list is ['padhai', 'likhai']\n"
     ]
    }
   ],
   "source": [
    "todo_list=[]\n",
    "end_of_todo ='n'\n",
    "while end_of_todo !='y':\n",
    "        todo_item= input(\"enter your todo list.\")\n",
    "        add_todo=todo_list.append(todo_item)\n",
    "        end_of_todo =input(\"enter n if you want to add in todo list or enter y if you don't want to add \")\n",
    "print(\"my todo list is\",todo_list)        "
   ]
  },
  {
   "cell_type": "markdown",
   "id": "124698c2-14f6-4bed-b387-0526627b1793",
   "metadata": {},
   "source": [
    "Recursion of function and recursive call"
   ]
  },
  {
   "cell_type": "code",
   "execution_count": 33,
   "id": "4931a027-1897-4c0f-b24f-b0ece39064f3",
   "metadata": {},
   "outputs": [
    {
     "ename": "SyntaxError",
     "evalue": "invalid syntax (992583946.py, line 1)",
     "output_type": "error",
     "traceback": [
      "\u001b[0;36m  Cell \u001b[0;32mIn[33], line 1\u001b[0;36m\u001b[0m\n\u001b[0;31m    5!\u001b[0m\n\u001b[0m     ^\u001b[0m\n\u001b[0;31mSyntaxError\u001b[0m\u001b[0;31m:\u001b[0m invalid syntax\n"
     ]
    }
   ],
   "source": [
    "5!"
   ]
  },
  {
   "cell_type": "code",
   "execution_count": 35,
   "id": "917ea3bb-0606-4648-b213-2532b44b1856",
   "metadata": {},
   "outputs": [],
   "source": [
    "def fact(n):\n",
    "    if n==0:\n",
    "        return 1\n",
    "    else :\n",
    "        return n*fact(n-1)"
   ]
  },
  {
   "cell_type": "code",
   "execution_count": 36,
   "id": "ee0ed018-c9f9-4b6f-81e1-2caa6bfde2fe",
   "metadata": {},
   "outputs": [
    {
     "data": {
      "text/plain": [
       "24"
      ]
     },
     "execution_count": 36,
     "metadata": {},
     "output_type": "execute_result"
    }
   ],
   "source": [
    "fact(4)"
   ]
  },
  {
   "cell_type": "code",
   "execution_count": 41,
   "id": "bc50b060-3a2d-4558-ac9b-de2b715ea42e",
   "metadata": {},
   "outputs": [
    {
     "data": {
      "text/plain": [
       "933262154439441526816992388562667004907159682643816214685929638952175999932299156089414639761565182862536979208272237582511852109168640000000000000000000000"
      ]
     },
     "execution_count": 41,
     "metadata": {},
     "output_type": "execute_result"
    }
   ],
   "source": [
    "fact(99)"
   ]
  },
  {
   "cell_type": "code",
   "execution_count": 1,
   "id": "fcc9d483-a380-45b1-b03f-2406152d7a59",
   "metadata": {},
   "outputs": [],
   "source": [
    "def fib(n):\n",
    "    if n<=1:\n",
    "        return n\n",
    "    else:\n",
    "        return fib(n-2)+fib(n-1)"
   ]
  },
  {
   "cell_type": "code",
   "execution_count": 6,
   "id": "b22e8fb9-dfb8-4f67-9281-447da15e6c49",
   "metadata": {},
   "outputs": [],
   "source": [
    "b=fib(8)"
   ]
  },
  {
   "cell_type": "code",
   "execution_count": null,
   "id": "566ddac7-6f5d-42dd-9d26-1729cc2d2a17",
   "metadata": {},
   "outputs": [],
   "source": [
    "123121"
   ]
  },
  {
   "cell_type": "code",
   "execution_count": 28,
   "id": "148bea05-6d15-47c4-b455-00d6fb4cc9ea",
   "metadata": {},
   "outputs": [],
   "source": [
    "def get_Sum(n):\n",
    "    sum = 0\n",
    "    for digit in str(n):\n",
    "      sum += int(digit)\n",
    "    return sum  "
   ]
  },
  {
   "cell_type": "code",
   "execution_count": 29,
   "id": "605c121d-4d37-4403-b86c-9fc04597ab0b",
   "metadata": {},
   "outputs": [
    {
     "data": {
      "text/plain": [
       "6"
      ]
     },
     "execution_count": 29,
     "metadata": {},
     "output_type": "execute_result"
    }
   ],
   "source": [
    "get_Sum(123)"
   ]
  },
  {
   "cell_type": "code",
   "execution_count": 34,
   "id": "0b82e1ff-ae4a-43b7-8f53-6ff3da2e8798",
   "metadata": {},
   "outputs": [],
   "source": [
    "def sum_of_digit(n):\n",
    "    sum=0\n",
    "    while n!=0:\n",
    "        d=n%10 \n",
    "        sum=sum+d\n",
    "        n=n//10\n",
    "    return sum"
   ]
  },
  {
   "cell_type": "code",
   "execution_count": 35,
   "id": "4cd44722-cf25-4221-9bfa-c4c657e9f9f8",
   "metadata": {},
   "outputs": [
    {
     "data": {
      "text/plain": [
       "6"
      ]
     },
     "execution_count": 35,
     "metadata": {},
     "output_type": "execute_result"
    }
   ],
   "source": [
    "sum_of_digit(123)"
   ]
  },
  {
   "cell_type": "code",
   "execution_count": 36,
   "id": "4f55bffa-984d-4435-9758-208b569c5468",
   "metadata": {},
   "outputs": [
    {
     "data": {
      "text/plain": [
       "12"
      ]
     },
     "execution_count": 36,
     "metadata": {},
     "output_type": "execute_result"
    }
   ],
   "source": [
    "123//10"
   ]
  },
  {
   "cell_type": "markdown",
   "id": "c51edf60-a47b-4d0e-b76f-c416386944e8",
   "metadata": {},
   "source": [
    "// : FLOOR DEVISION "
   ]
  },
  {
   "cell_type": "code",
   "execution_count": 37,
   "id": "375f5b42-e63c-42c0-9de1-9bad01cf080a",
   "metadata": {},
   "outputs": [],
   "source": [
    "def sum_digit(n):\n",
    "    if n<=9:\n",
    "        return n\n",
    "    else :\n",
    "        return n%10+sum_digit(n//10)\n",
    "    "
   ]
  },
  {
   "cell_type": "code",
   "execution_count": 38,
   "id": "36507506-b33d-4e77-9dec-3a3bf3af07ef",
   "metadata": {},
   "outputs": [
    {
     "data": {
      "text/plain": [
       "5"
      ]
     },
     "execution_count": 38,
     "metadata": {},
     "output_type": "execute_result"
    }
   ],
   "source": [
    "sum_digit(23)"
   ]
  },
  {
   "cell_type": "code",
   "execution_count": 39,
   "id": "0670abc8-c1ed-4f44-bdf1-a4da8bc44660",
   "metadata": {},
   "outputs": [
    {
     "data": {
      "text/plain": [
       "10"
      ]
     },
     "execution_count": 39,
     "metadata": {},
     "output_type": "execute_result"
    }
   ],
   "source": [
    "sum_digit(1234)"
   ]
  },
  {
   "cell_type": "code",
   "execution_count": 40,
   "id": "bf70e36e-4d8e-43aa-8667-3d503e1b123a",
   "metadata": {},
   "outputs": [
    {
     "data": {
      "text/plain": [
       "29"
      ]
     },
     "execution_count": 40,
     "metadata": {},
     "output_type": "execute_result"
    }
   ],
   "source": [
    "sum_digit(1234568)"
   ]
  },
  {
   "cell_type": "code",
   "execution_count": 41,
   "id": "2b52d657-fcab-461e-859c-e0d54d211d6b",
   "metadata": {},
   "outputs": [],
   "source": [
    "l=[3,4,5,6,76]"
   ]
  },
  {
   "cell_type": "code",
   "execution_count": 42,
   "id": "6345e0f5-6182-4a97-886d-c8f14282e92e",
   "metadata": {},
   "outputs": [
    {
     "data": {
      "text/plain": [
       "76"
      ]
     },
     "execution_count": 42,
     "metadata": {},
     "output_type": "execute_result"
    }
   ],
   "source": [
    " max(l)"
   ]
  },
  {
   "cell_type": "code",
   "execution_count": 1,
   "id": "17f149f5-8f78-44e7-8241-5b2be5e5b9b0",
   "metadata": {},
   "outputs": [],
   "source": [
    "def max_find(l):\n",
    "    if len(l)==1:\n",
    "        return l[0]\n",
    "    else:\n",
    "        return max(l[0],max_find(l[1:]))"
   ]
  },
  {
   "cell_type": "code",
   "execution_count": 2,
   "id": "8691710b-58bb-47e1-b365-c7c3f085480d",
   "metadata": {},
   "outputs": [
    {
     "data": {
      "text/plain": [
       "56"
      ]
     },
     "execution_count": 2,
     "metadata": {},
     "output_type": "execute_result"
    }
   ],
   "source": [
    "max_find([1,2,3,4,5,6,7,3,6,8,9,56])"
   ]
  },
  {
   "cell_type": "code",
   "execution_count": 3,
   "id": "2f7dd7d4-e509-493f-8167-d5583e0a6024",
   "metadata": {},
   "outputs": [
    {
     "data": {
      "text/plain": [
       "25"
      ]
     },
     "execution_count": 3,
     "metadata": {},
     "output_type": "execute_result"
    }
   ],
   "source": [
    "5**2"
   ]
  },
  {
   "cell_type": "code",
   "execution_count": 4,
   "id": "3f253d97-775d-4629-8ab6-060b045e3bb8",
   "metadata": {},
   "outputs": [
    {
     "data": {
      "text/plain": [
       "3125"
      ]
     },
     "execution_count": 4,
     "metadata": {},
     "output_type": "execute_result"
    }
   ],
   "source": [
    "5**5"
   ]
  },
  {
   "cell_type": "code",
   "execution_count": 5,
   "id": "1e89811e-01f2-4c08-bdf6-4533936e30c9",
   "metadata": {},
   "outputs": [
    {
     "data": {
      "text/plain": [
       "64"
      ]
     },
     "execution_count": 5,
     "metadata": {},
     "output_type": "execute_result"
    }
   ],
   "source": [
    "pow(4,3)"
   ]
  },
  {
   "cell_type": "code",
   "execution_count": 8,
   "id": "2e0170dd-96d4-4574-9168-62266113b1a1",
   "metadata": {},
   "outputs": [],
   "source": [
    "def power_fun(n,k):\n",
    "    if k==0:\n",
    "        return 1\n",
    "    else:\n",
    "        return n*power_fun(n,k-1)"
   ]
  },
  {
   "cell_type": "code",
   "execution_count": 9,
   "id": "c1bc9bc8-1b77-4cd0-a0be-271d6cf74460",
   "metadata": {},
   "outputs": [
    {
     "data": {
      "text/plain": [
       "64"
      ]
     },
     "execution_count": 9,
     "metadata": {},
     "output_type": "execute_result"
    }
   ],
   "source": [
    "power_fun(4,3)"
   ]
  },
  {
   "cell_type": "code",
   "execution_count": 10,
   "id": "44a9d7bb-a623-4885-9518-9407a7b720bb",
   "metadata": {},
   "outputs": [
    {
     "data": {
      "text/plain": [
       "125"
      ]
     },
     "execution_count": 10,
     "metadata": {},
     "output_type": "execute_result"
    }
   ],
   "source": [
    "power_fun(5,3)"
   ]
  },
  {
   "cell_type": "code",
   "execution_count": 11,
   "id": "3d6ea5f0-1286-4b40-b0e8-cafe16b7c158",
   "metadata": {},
   "outputs": [
    {
     "data": {
      "text/plain": [
       "6561"
      ]
     },
     "execution_count": 11,
     "metadata": {},
     "output_type": "execute_result"
    }
   ],
   "source": [
    "power_fun(3,8)"
   ]
  },
  {
   "cell_type": "code",
   "execution_count": 12,
   "id": "1f02b7c3-39bf-4eef-a437-d44c8cc785c2",
   "metadata": {},
   "outputs": [
    {
     "data": {
      "text/plain": [
       "16"
      ]
     },
     "execution_count": 12,
     "metadata": {},
     "output_type": "execute_result"
    }
   ],
   "source": [
    "power_fun(2,4)"
   ]
  },
  {
   "cell_type": "code",
   "execution_count": null,
   "id": "2244f702-9143-4b00-be62-986e3ddc0292",
   "metadata": {},
   "outputs": [],
   "source": [
    "Next Class Agenda\n",
    "recursion \n",
    "iterator \n",
    "iterable\n",
    "generator(yield)\n",
    "zip\n",
    "enumeration \n",
    "Decorators \n",
    "comprehension "
   ]
  }
 ],
 "metadata": {
  "kernelspec": {
   "display_name": "Python 3 (ipykernel)",
   "language": "python",
   "name": "python3"
  },
  "language_info": {
   "codemirror_mode": {
    "name": "ipython",
    "version": 3
   },
   "file_extension": ".py",
   "mimetype": "text/x-python",
   "name": "python",
   "nbconvert_exporter": "python",
   "pygments_lexer": "ipython3",
   "version": "3.10.8"
  }
 },
 "nbformat": 4,
 "nbformat_minor": 5
}
