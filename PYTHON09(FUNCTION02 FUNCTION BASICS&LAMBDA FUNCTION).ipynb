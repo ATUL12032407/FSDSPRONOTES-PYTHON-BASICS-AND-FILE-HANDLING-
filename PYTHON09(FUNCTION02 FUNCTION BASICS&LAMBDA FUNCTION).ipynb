{
 "cells": [
  {
   "cell_type": "raw",
   "id": "b2062447-f201-4a49-86d2-44fc000b4571",
   "metadata": {},
   "source": [
    "10 DEC CLASS"
   ]
  },
  {
   "cell_type": "code",
   "execution_count": null,
   "id": "12480e5a-8086-4dcb-b67c-34ec9fc882eb",
   "metadata": {},
   "outputs": [],
   "source": [
    "17.Accept a string as input. Your task is to determine if the input string is a valid password or not. For a \n",
    "string to be a valid password, it must satisfy all the conditions given below:\n",
    "(1) It should have at least 8 and at most 32 characters\n",
    "(2) It should start with an uppercase or lowercase letter\n",
    "(3) It should not have any of these characters: / \\ = ' \"\n",
    "(4) It should not have spaces\n",
    "It could have any character that is not mentioned in the list of characters to be avoided (points 3 and \n",
    "4). Output True if the string forms a valid password and False 4). Output True if the string forms a valid password and False otherwise"
   ]
  },
  {
   "cell_type": "code",
   "execution_count": 3,
   "id": "12a57e8a-13bb-43a3-938a-594a84c147e5",
   "metadata": {},
   "outputs": [],
   "source": [
    "def validPassword(pwd: str):\n",
    "    if 8 <= len(pwd) <= 32 and pwd[0].isalpha() and all(char not in pwd for char in [\" \", \"'\", \"/\", \"=\", '\"', '\\\\']):\n",
    "        return True\n",
    "    else:\n",
    "        return False\n",
    "    "
   ]
  },
  {
   "cell_type": "code",
   "execution_count": 6,
   "id": "dc9042c5-a686-41c5-b639-0c79964a026c",
   "metadata": {},
   "outputs": [
    {
     "data": {
      "text/plain": [
       "False"
      ]
     },
     "execution_count": 6,
     "metadata": {},
     "output_type": "execute_result"
    }
   ],
   "source": [
    "validPassword(\"12inc12Ecd\")"
   ]
  },
  {
   "cell_type": "code",
   "execution_count": 9,
   "id": "c93d5f5f-ce71-44a0-81cb-db289eca18dc",
   "metadata": {},
   "outputs": [
    {
     "ename": "NameError",
     "evalue": "name 'message' is not defined",
     "output_type": "error",
     "traceback": [
      "\u001b[0;31m---------------------------------------------------------------------------\u001b[0m",
      "\u001b[0;31mNameError\u001b[0m                                 Traceback (most recent call last)",
      "Cell \u001b[0;32mIn[9], line 7\u001b[0m\n\u001b[1;32m      3\u001b[0m     message\u001b[38;5;241m=\u001b[39m\u001b[38;5;124m'\u001b[39m\u001b[38;5;124mHello\u001b[39m\u001b[38;5;124m'\u001b[39m\n\u001b[1;32m      5\u001b[0m     \u001b[38;5;28mprint\u001b[39m(\u001b[38;5;124m\"\u001b[39m\u001b[38;5;124mlocal\u001b[39m\u001b[38;5;124m\"\u001b[39m,message)\n\u001b[0;32m----> 7\u001b[0m \u001b[38;5;28mprint\u001b[39m(\u001b[43mmessage\u001b[49m)\n\u001b[1;32m      8\u001b[0m \u001b[38;5;66;03m# great\u001b[39;00m\n",
      "\u001b[0;31mNameError\u001b[0m: name 'message' is not defined"
     ]
    }
   ],
   "source": [
    "def great():\n",
    "    \n",
    "    message='Hello'\n",
    "    \n",
    "    print(\"local\",message)\n",
    "    \n",
    "print(message)\n",
    "# great"
   ]
  },
  {
   "cell_type": "code",
   "execution_count": 10,
   "id": "12b1f417-29c5-4469-9b63-28069b800346",
   "metadata": {},
   "outputs": [
    {
     "ename": "NameError",
     "evalue": "name 'x' is not defined",
     "output_type": "error",
     "traceback": [
      "\u001b[0;31m---------------------------------------------------------------------------\u001b[0m",
      "\u001b[0;31mNameError\u001b[0m                                 Traceback (most recent call last)",
      "Cell \u001b[0;32mIn[10], line 5\u001b[0m\n\u001b[1;32m      3\u001b[0m     y\u001b[38;5;241m=\u001b[39m\u001b[38;5;241m30\u001b[39m\n\u001b[1;32m      4\u001b[0m     \u001b[38;5;28mprint\u001b[39m(x\u001b[38;5;241m+\u001b[39my)\n\u001b[0;32m----> 5\u001b[0m \u001b[38;5;28mprint\u001b[39m(\u001b[43mx\u001b[49m)\n\u001b[1;32m      6\u001b[0m \u001b[38;5;28mprint\u001b[39m(y)\n",
      "\u001b[0;31mNameError\u001b[0m: name 'x' is not defined"
     ]
    }
   ],
   "source": [
    "def add():\n",
    "    x=20\n",
    "    y=30\n",
    "    print(x+y)\n",
    "print(x)\n",
    "print(y)"
   ]
  },
  {
   "cell_type": "code",
   "execution_count": 15,
   "id": "476b01c8-c652-443e-9d70-58a71b70e370",
   "metadata": {},
   "outputs": [
    {
     "name": "stdout",
     "output_type": "stream",
     "text": [
      "python isfantastic\n",
      "awesome\n"
     ]
    }
   ],
   "source": [
    "x=\"awesome\"\n",
    "\n",
    "def myfun():\n",
    "    x=\"fantastic\"\n",
    "    print(\"python is\"+ x)\n",
    "    \n",
    "myfun()    \n",
    "print(x)    "
   ]
  },
  {
   "cell_type": "code",
   "execution_count": 1,
   "id": "e1bd8997-d43b-4686-836d-f8076bb1ad6a",
   "metadata": {},
   "outputs": [],
   "source": [
    "x=20\n",
    "\n",
    "def add():\n",
    "    \n",
    "    y=30\n",
    "    print(\"local variable y=\",y)\n",
    "    \n",
    "    print(\"globalvariable x=\",x)\n",
    "    \n",
    "    z=x+y\n",
    "    print(z)\n",
    "    \n",
    "\n",
    "    "
   ]
  },
  {
   "cell_type": "code",
   "execution_count": 2,
   "id": "9a1e7c54-8cfc-49f4-8b80-e67c2413e923",
   "metadata": {},
   "outputs": [
    {
     "name": "stdout",
     "output_type": "stream",
     "text": [
      "local variable y= 30\n",
      "globalvariable x= 20\n",
      "50\n"
     ]
    }
   ],
   "source": [
    "add()"
   ]
  },
  {
   "cell_type": "code",
   "execution_count": null,
   "id": "b18f29f5-28d7-4003-8b9d-172d084225a0",
   "metadata": {},
   "outputs": [],
   "source": [
    "                    FUNCTIONS\n",
    "         -----------------------------------\n",
    "         |                                 |\n",
    "     user defined                     build in function\n",
    "     \n",
    "def function(argument):\n",
    "       arguments:\n",
    "            1)postional argu\n",
    "            2)default argu\n",
    "            3)keywords argu\n",
    "            4)variable length arg "
   ]
  },
  {
   "cell_type": "code",
   "execution_count": null,
   "id": "340dcaaa-fd27-4e24-a457-b03822c186ae",
   "metadata": {},
   "outputs": [],
   "source": [
    "positional argument"
   ]
  },
  {
   "cell_type": "markdown",
   "id": "78c4879b-a5c9-45ff-8fc7-3b2e87029b50",
   "metadata": {},
   "source": [
    "Python Function arguments"
   ]
  },
  {
   "cell_type": "code",
   "execution_count": 3,
   "id": "c0050c66-72c8-44ca-8cd0-c790a398f5fe",
   "metadata": {},
   "outputs": [],
   "source": [
    "def add_numbers(a,b):\n",
    "    sum=a+b\n",
    "    print(\"sum\",sum)"
   ]
  },
  {
   "cell_type": "code",
   "execution_count": 6,
   "id": "96624d65-0d5b-4c8c-af91-2980a24c1380",
   "metadata": {},
   "outputs": [
    {
     "name": "stdout",
     "output_type": "stream",
     "text": [
      "sum 7\n"
     ]
    }
   ],
   "source": [
    "add_numbers(2,5)"
   ]
  },
  {
   "cell_type": "code",
   "execution_count": 7,
   "id": "45d10ee8-4c21-4bcb-8783-d72ce8090077",
   "metadata": {},
   "outputs": [],
   "source": [
    "def emp_name(name):\n",
    "    print(\"My nameis \",name)"
   ]
  },
  {
   "cell_type": "code",
   "execution_count": 8,
   "id": "743b2517-9904-4b25-b66d-3cad6f66bdcf",
   "metadata": {},
   "outputs": [
    {
     "ename": "TypeError",
     "evalue": "emp_name() missing 1 required positional argument: 'name'",
     "output_type": "error",
     "traceback": [
      "\u001b[0;31m---------------------------------------------------------------------------\u001b[0m",
      "\u001b[0;31mTypeError\u001b[0m                                 Traceback (most recent call last)",
      "Cell \u001b[0;32mIn[8], line 1\u001b[0m\n\u001b[0;32m----> 1\u001b[0m \u001b[43memp_name\u001b[49m\u001b[43m(\u001b[49m\u001b[43m)\u001b[49m\n",
      "\u001b[0;31mTypeError\u001b[0m: emp_name() missing 1 required positional argument: 'name'"
     ]
    }
   ],
   "source": [
    "emp_name()"
   ]
  },
  {
   "cell_type": "code",
   "execution_count": 56,
   "id": "263ca54b-885f-4d04-83a7-edb0f4c36415",
   "metadata": {},
   "outputs": [],
   "source": [
    "def add_numbers(a=4,b=2):\n",
    "    sum=a+b\n",
    "    print(\"sum\",sum)"
   ]
  },
  {
   "cell_type": "code",
   "execution_count": 57,
   "id": "f570fbc9-17a5-48d4-8722-1e8384487f99",
   "metadata": {},
   "outputs": [
    {
     "name": "stdout",
     "output_type": "stream",
     "text": [
      "sum 6\n"
     ]
    }
   ],
   "source": [
    "add_numbers()"
   ]
  },
  {
   "cell_type": "code",
   "execution_count": 58,
   "id": "eeab20d6-c3da-48b8-b055-91e60e294238",
   "metadata": {},
   "outputs": [
    {
     "name": "stdout",
     "output_type": "stream",
     "text": [
      "sum 7\n"
     ]
    }
   ],
   "source": [
    "add_numbers(2,5)"
   ]
  },
  {
   "cell_type": "code",
   "execution_count": 59,
   "id": "efc7b389-6db7-456f-8b84-f913e3688c37",
   "metadata": {},
   "outputs": [
    {
     "name": "stdout",
     "output_type": "stream",
     "text": [
      "sum 7\n"
     ]
    }
   ],
   "source": [
    "add_numbers(b=2,a=5)"
   ]
  },
  {
   "cell_type": "code",
   "execution_count": 60,
   "id": "5a1abc99-f880-48dc-8bc7-f7615b9c346b",
   "metadata": {},
   "outputs": [],
   "source": [
    "def emp_name(name=\"p\"):\n",
    "    print(\"My name is \",name)"
   ]
  },
  {
   "cell_type": "code",
   "execution_count": 61,
   "id": "4cd29de1-841e-4e3c-8423-8022e0e5b08d",
   "metadata": {},
   "outputs": [
    {
     "name": "stdout",
     "output_type": "stream",
     "text": [
      "My name is  P\n"
     ]
    }
   ],
   "source": [
    "emp_name('P')"
   ]
  },
  {
   "cell_type": "code",
   "execution_count": null,
   "id": "b407e00c-7774-4c39-ad9c-0aeec7a0b99d",
   "metadata": {},
   "outputs": [],
   "source": [
    "key words argument"
   ]
  },
  {
   "cell_type": "code",
   "execution_count": 17,
   "id": "1398d2bb-60c1-4fcb-8c44-3664d1c3a6be",
   "metadata": {},
   "outputs": [],
   "source": [
    "def display_info(first_name,last_name):\n",
    "    print(\"first name\",first_name)\n",
    "    print(\"last name\",last_name)\n"
   ]
  },
  {
   "cell_type": "code",
   "execution_count": 19,
   "id": "2adbe82c-6a3e-4043-aa81-6c1ae1375f6e",
   "metadata": {},
   "outputs": [
    {
     "name": "stdout",
     "output_type": "stream",
     "text": [
      "first name ATUL\n",
      "last name T\n"
     ]
    }
   ],
   "source": [
    "display_info(first_name=\"ATUL\",last_name=\"T\")"
   ]
  },
  {
   "cell_type": "code",
   "execution_count": 20,
   "id": "155859f1-fa79-41ec-8125-62e9c6263f4d",
   "metadata": {},
   "outputs": [
    {
     "name": "stdout",
     "output_type": "stream",
     "text": [
      "first name ATUL\n",
      "last name T\n"
     ]
    }
   ],
   "source": [
    "display_info(last_name=\"T\",first_name=\"ATUL\")"
   ]
  },
  {
   "cell_type": "code",
   "execution_count": 22,
   "id": "5a0b7011-242c-4ac1-bbae-d5e94d687461",
   "metadata": {},
   "outputs": [],
   "source": [
    "def add_numbers(a,b):   \n",
    "    sum = a+b\n",
    "    print(\"sum=\",sum)"
   ]
  },
  {
   "cell_type": "code",
   "execution_count": 23,
   "id": "de1207b5-d455-4ab8-8612-e435b08202d8",
   "metadata": {},
   "outputs": [
    {
     "name": "stdout",
     "output_type": "stream",
     "text": [
      "sum= 17\n"
     ]
    }
   ],
   "source": [
    "add_numbers(a=9,b=8)  # specifically telling"
   ]
  },
  {
   "cell_type": "code",
   "execution_count": 24,
   "id": "1d26632d-95f8-4d49-ba73-90e83d1c162e",
   "metadata": {},
   "outputs": [],
   "source": [
    "def add_numbers(a,b,c,d):\n",
    "    sum = a+b+c+d\n",
    "    print(\"sum = \",sum)"
   ]
  },
  {
   "cell_type": "code",
   "execution_count": 25,
   "id": "b988330c-fd3c-49f4-990f-195c6c82c245",
   "metadata": {},
   "outputs": [
    {
     "name": "stdout",
     "output_type": "stream",
     "text": [
      "sum =  10\n"
     ]
    }
   ],
   "source": [
    "add_numbers(1,2,3,4)"
   ]
  },
  {
   "cell_type": "code",
   "execution_count": null,
   "id": "43c57981-0b67-4d02-b188-b009d6e0764b",
   "metadata": {},
   "outputs": [],
   "source": [
    "*args and **kargs"
   ]
  },
  {
   "cell_type": "code",
   "execution_count": 1,
   "id": "2b0ec4e8-6a71-4735-bbbe-188490a1e8a0",
   "metadata": {},
   "outputs": [],
   "source": [
    "def find_sum(*numbers):\n",
    "    result =0\n",
    "    \n",
    "    for num in numbers:\n",
    "        result = result +num\n",
    "    print(\"sum =\",result)"
   ]
  },
  {
   "cell_type": "code",
   "execution_count": 7,
   "id": "bab514d7-b2cc-4e61-ad5f-836811754874",
   "metadata": {},
   "outputs": [
    {
     "name": "stdout",
     "output_type": "stream",
     "text": [
      "sum = 0\n"
     ]
    }
   ],
   "source": [
    "find_sum()"
   ]
  },
  {
   "cell_type": "code",
   "execution_count": 28,
   "id": "d5fd3919-1785-4c36-b108-cfcc139a3be4",
   "metadata": {},
   "outputs": [
    {
     "name": "stdout",
     "output_type": "stream",
     "text": [
      "sum = 6\n"
     ]
    }
   ],
   "source": [
    "find_sum(1,2,3)"
   ]
  },
  {
   "cell_type": "code",
   "execution_count": 29,
   "id": "10215cf6-8786-4a6f-9934-33e8b280deb8",
   "metadata": {},
   "outputs": [
    {
     "name": "stdout",
     "output_type": "stream",
     "text": [
      "sum = 50\n"
     ]
    }
   ],
   "source": [
    "find_sum(1,2,3,4,5,5,6,7,8,9)"
   ]
  },
  {
   "cell_type": "code",
   "execution_count": 30,
   "id": "99f53dce-62e6-4a84-888c-d6c7efe1b90a",
   "metadata": {},
   "outputs": [
    {
     "name": "stdout",
     "output_type": "stream",
     "text": [
      "sum = 55\n"
     ]
    }
   ],
   "source": [
    "find_sum(1,2,3,4,5,6,7,8,9,10)"
   ]
  },
  {
   "cell_type": "code",
   "execution_count": 31,
   "id": "233dafb5-cc18-4f17-92ae-4589bd148ac9",
   "metadata": {},
   "outputs": [],
   "source": [
    "def simple(*x):\n",
    "    print(x)"
   ]
  },
  {
   "cell_type": "code",
   "execution_count": 32,
   "id": "40e53828-7584-45bf-a574-7dc144e65b1c",
   "metadata": {},
   "outputs": [
    {
     "name": "stdout",
     "output_type": "stream",
     "text": [
      "()\n"
     ]
    }
   ],
   "source": [
    "simple()"
   ]
  },
  {
   "cell_type": "code",
   "execution_count": 33,
   "id": "02cd8d14-0e08-4fff-8d74-679d272c6cb2",
   "metadata": {},
   "outputs": [
    {
     "name": "stdout",
     "output_type": "stream",
     "text": [
      "(1, 2, 3)\n"
     ]
    }
   ],
   "source": [
    "simple(1,2,3)"
   ]
  },
  {
   "cell_type": "code",
   "execution_count": 34,
   "id": "6091a38c-f5fa-4511-8d24-22e34d3756fa",
   "metadata": {},
   "outputs": [
    {
     "name": "stdout",
     "output_type": "stream",
     "text": [
      "(1, 2, 3, 4, 5)\n"
     ]
    }
   ],
   "source": [
    "simple(1,2,3,4,5)"
   ]
  },
  {
   "cell_type": "code",
   "execution_count": null,
   "id": "b928d6a8-bfd3-43db-97f5-4634543541f6",
   "metadata": {},
   "outputs": [],
   "source": [
    "(*---> arguments, ** ---> keyword arguement)"
   ]
  },
  {
   "cell_type": "code",
   "execution_count": 9,
   "id": "c49dc518-8fe4-4b86-8184-ab50fb7f2560",
   "metadata": {},
   "outputs": [],
   "source": [
    "def intro(**data):\n",
    "    print(\"data type of argument\",type(data))\n",
    "    \n",
    "    for key,value in data.items():\n",
    "        print(key,value)"
   ]
  },
  {
   "cell_type": "code",
   "execution_count": 10,
   "id": "dfcc8a69-8e98-44e4-9e95-9ce7e7e32f17",
   "metadata": {},
   "outputs": [
    {
     "name": "stdout",
     "output_type": "stream",
     "text": [
      "data type of argument <class 'dict'>\n",
      "firstname ATUL\n",
      "lastname T\n"
     ]
    }
   ],
   "source": [
    "intro(firstname='ATUL',lastname='T')"
   ]
  },
  {
   "cell_type": "code",
   "execution_count": 13,
   "id": "a2fccaab-3e7e-400b-80ac-3209516a87c7",
   "metadata": {},
   "outputs": [],
   "source": [
    "x = {'a':1,'b':2}"
   ]
  },
  {
   "cell_type": "code",
   "execution_count": 14,
   "id": "1178d4f2-c85f-48c0-8ef2-c9b522af0307",
   "metadata": {},
   "outputs": [
    {
     "data": {
      "text/plain": [
       "dict_items([('a', 1), ('b', 2)])"
      ]
     },
     "execution_count": 14,
     "metadata": {},
     "output_type": "execute_result"
    }
   ],
   "source": [
    "x.items()"
   ]
  },
  {
   "cell_type": "code",
   "execution_count": 15,
   "id": "9071764a-07ca-4d03-bd34-55e614fbf87c",
   "metadata": {},
   "outputs": [
    {
     "name": "stdout",
     "output_type": "stream",
     "text": [
      "a 1\n",
      "b 2\n"
     ]
    }
   ],
   "source": [
    "for keys,value  in x.items():\n",
    "    print(keys,value)"
   ]
  },
  {
   "cell_type": "code",
   "execution_count": 16,
   "id": "da5843ef-9990-4cfd-a8cf-d874d56af88f",
   "metadata": {},
   "outputs": [],
   "source": [
    "def simple(**x):\n",
    "    print(x)"
   ]
  },
  {
   "cell_type": "code",
   "execution_count": 17,
   "id": "a8cd246f-f33a-47f9-bfd5-b1ceb2672ee8",
   "metadata": {},
   "outputs": [
    {
     "name": "stdout",
     "output_type": "stream",
     "text": [
      "{}\n"
     ]
    }
   ],
   "source": [
    "simple()"
   ]
  },
  {
   "cell_type": "code",
   "execution_count": 18,
   "id": "0b6dad4f-3c5f-4c7f-a732-63e6ca53b4fa",
   "metadata": {},
   "outputs": [
    {
     "name": "stdout",
     "output_type": "stream",
     "text": [
      "{'name': 'ATUL', 'age': 20, 'id_no': 7142}\n"
     ]
    }
   ],
   "source": [
    "simple(name='ATUL',age=20,id_no=7142)"
   ]
  },
  {
   "cell_type": "code",
   "execution_count": 19,
   "id": "7bbe22bf-e7ec-43cf-9d21-bd6bf632e6d6",
   "metadata": {},
   "outputs": [],
   "source": [
    "def simple1(*y):\n",
    "    print(y)"
   ]
  },
  {
   "cell_type": "code",
   "execution_count": 20,
   "id": "55301c43-829f-4d7b-99bc-1042c162bd88",
   "metadata": {},
   "outputs": [
    {
     "name": "stdout",
     "output_type": "stream",
     "text": [
      "(2, 3)\n"
     ]
    }
   ],
   "source": [
    "simple1(2,3)"
   ]
  },
  {
   "cell_type": "code",
   "execution_count": 21,
   "id": "bd5bac72-072b-4784-81d6-323c2c4bfea3",
   "metadata": {},
   "outputs": [
    {
     "name": "stdout",
     "output_type": "stream",
     "text": [
      "(2, 3, 4)\n"
     ]
    }
   ],
   "source": [
    "simple1(2,3,4)"
   ]
  },
  {
   "cell_type": "code",
   "execution_count": 22,
   "id": "e93527b6-a36f-40cf-879b-7016af2cf0dc",
   "metadata": {},
   "outputs": [
    {
     "name": "stdout",
     "output_type": "stream",
     "text": [
      "{'name': 'ATUL', 'age': 18}\n"
     ]
    }
   ],
   "source": [
    "simple(name='ATUL',age=18)"
   ]
  },
  {
   "cell_type": "code",
   "execution_count": 25,
   "id": "b0bbd371-df04-431a-863f-9733242f170b",
   "metadata": {},
   "outputs": [],
   "source": [
    "def show_numbers(*x):\n",
    "    print(x)"
   ]
  },
  {
   "cell_type": "code",
   "execution_count": 26,
   "id": "fa0cf174-199e-4507-b408-74ef7ffe39a7",
   "metadata": {},
   "outputs": [
    {
     "name": "stdout",
     "output_type": "stream",
     "text": [
      "(1,)\n"
     ]
    }
   ],
   "source": [
    "show_numbers(1)"
   ]
  },
  {
   "cell_type": "code",
   "execution_count": 27,
   "id": "c181997a-6551-42c8-838c-552c20f1eb0c",
   "metadata": {},
   "outputs": [
    {
     "name": "stdout",
     "output_type": "stream",
     "text": [
      "(2, 3, 4, 5)\n"
     ]
    }
   ],
   "source": [
    "show_numbers(2,3,4,5)"
   ]
  },
  {
   "cell_type": "code",
   "execution_count": 28,
   "id": "298f4e2a-141f-41c2-89b1-9362954ceb12",
   "metadata": {},
   "outputs": [],
   "source": [
    "def show_keyvalue(**y):\n",
    "    print(y)"
   ]
  },
  {
   "cell_type": "code",
   "execution_count": 29,
   "id": "d37e3b31-488e-483c-8dd3-afc605793851",
   "metadata": {},
   "outputs": [
    {
     "name": "stdout",
     "output_type": "stream",
     "text": [
      "{'x': 1, 'f': 4}\n"
     ]
    }
   ],
   "source": [
    "show_keyvalue(x=1,f=4)"
   ]
  },
  {
   "cell_type": "code",
   "execution_count": 30,
   "id": "60f6841a-8ffa-4c1f-b2f4-04720de0850b",
   "metadata": {},
   "outputs": [
    {
     "name": "stdout",
     "output_type": "stream",
     "text": [
      "{'x': 'I', 'y': 'LOVE', 'z': 'MYSELF'}\n"
     ]
    }
   ],
   "source": [
    "show_keyvalue(x='I',y='LOVE',z='MYSELF')"
   ]
  },
  {
   "cell_type": "code",
   "execution_count": 31,
   "id": "b0a05437-747c-4dc2-9f01-9484610b03d8",
   "metadata": {},
   "outputs": [
    {
     "name": "stdout",
     "output_type": "stream",
     "text": [
      "{'x': 2, 'y': 4}\n"
     ]
    }
   ],
   "source": [
    "show_keyvalue(x=2,y=4)"
   ]
  },
  {
   "cell_type": "markdown",
   "id": "ee82264f-a14c-42af-a724-40464c967f72",
   "metadata": {},
   "source": [
    "LAMBDA FUNCTIONS"
   ]
  },
  {
   "cell_type": "code",
   "execution_count": null,
   "id": "525e4386-d438-450f-99e3-71ed7c9d0d71",
   "metadata": {},
   "outputs": [],
   "source": [
    "lambda is a anonymous function,\n",
    "\n",
    "lambda (arguments):expression    --->syntax for lambda"
   ]
  },
  {
   "cell_type": "code",
   "execution_count": 1,
   "id": "fcea2257-9547-4c49-8a69-0b7d4f664687",
   "metadata": {},
   "outputs": [],
   "source": [
    "x= lambda : print(\"Hello world\")"
   ]
  },
  {
   "cell_type": "code",
   "execution_count": 2,
   "id": "024755ce-196f-454d-96f2-2b360cdc66dd",
   "metadata": {},
   "outputs": [
    {
     "name": "stdout",
     "output_type": "stream",
     "text": [
      "Hello world\n"
     ]
    }
   ],
   "source": [
    "x()"
   ]
  },
  {
   "cell_type": "code",
   "execution_count": 3,
   "id": "c2ce1a2d-b88e-4a9c-b76f-550cbdc15175",
   "metadata": {},
   "outputs": [],
   "source": [
    "y =lambda :print(\"pwskills\")"
   ]
  },
  {
   "cell_type": "code",
   "execution_count": 4,
   "id": "b4043e3b-c087-4383-b7ec-a5871763de68",
   "metadata": {},
   "outputs": [
    {
     "name": "stdout",
     "output_type": "stream",
     "text": [
      "pwskills\n"
     ]
    }
   ],
   "source": [
    "y()"
   ]
  },
  {
   "cell_type": "code",
   "execution_count": 5,
   "id": "9bec32a3-3ccb-4736-8b85-fc20e866eb61",
   "metadata": {},
   "outputs": [],
   "source": [
    "add_num =lambda a,b:a+b"
   ]
  },
  {
   "cell_type": "code",
   "execution_count": 6,
   "id": "a3a474f3-ada5-4dda-9930-a614296d4955",
   "metadata": {},
   "outputs": [
    {
     "data": {
      "text/plain": [
       "7"
      ]
     },
     "execution_count": 6,
     "metadata": {},
     "output_type": "execute_result"
    }
   ],
   "source": [
    "add_num(3,4)"
   ]
  },
  {
   "cell_type": "code",
   "execution_count": 7,
   "id": "5d865055-b7bd-4189-b1fb-eb150c2a8845",
   "metadata": {},
   "outputs": [],
   "source": [
    "mul_num = lambda a,b :a*b"
   ]
  },
  {
   "cell_type": "code",
   "execution_count": 8,
   "id": "981f71f7-67b2-47ec-b761-e8b8c2db9000",
   "metadata": {},
   "outputs": [
    {
     "data": {
      "text/plain": [
       "8"
      ]
     },
     "execution_count": 8,
     "metadata": {},
     "output_type": "execute_result"
    }
   ],
   "source": [
    "mul_num(4,2)"
   ]
  },
  {
   "cell_type": "code",
   "execution_count": 9,
   "id": "2bf490ff-cc57-466c-8904-63e8a46afbde",
   "metadata": {},
   "outputs": [
    {
     "name": "stdin",
     "output_type": "stream",
     "text": [
      "Enter the first number 1\n",
      "Enter the 2nd number 2\n"
     ]
    },
    {
     "name": "stdout",
     "output_type": "stream",
     "text": [
      "(1, 4)\n"
     ]
    }
   ],
   "source": [
    "a = int(input(\"Enter the first number\"))\n",
    "b = int(input(\"Enter the 2nd number\"))\n",
    "square = lambda a,b :(a**2,b**2)\n",
    "print(square(a,b))"
   ]
  },
  {
   "cell_type": "code",
   "execution_count": 10,
   "id": "20292325-8af6-4131-a5ea-57c134b2a095",
   "metadata": {},
   "outputs": [
    {
     "name": "stdin",
     "output_type": "stream",
     "text": [
      "Enter the  number 4\n"
     ]
    },
    {
     "name": "stdout",
     "output_type": "stream",
     "text": [
      "True\n"
     ]
    }
   ],
   "source": [
    "# to print even numbers\n",
    "x = int(input(\"Enter the  number\"))\n",
    "even_num = lambda x:(x%2==0)\n",
    "print(even_num(x))"
   ]
  },
  {
   "cell_type": "code",
   "execution_count": 11,
   "id": "19a4addd-2a3a-4c69-9ec7-5462df1871e2",
   "metadata": {},
   "outputs": [],
   "source": [
    "def evenodd(n):\n",
    "    if n%2==0:\n",
    "        print(\" number is even\")\n",
    "    else:\n",
    "        print(\"number is odd\")"
   ]
  },
  {
   "cell_type": "code",
   "execution_count": 12,
   "id": "c826a51a-70e8-4d1a-b902-b1fdafbd4c1c",
   "metadata": {},
   "outputs": [
    {
     "name": "stdout",
     "output_type": "stream",
     "text": [
      "number is odd\n"
     ]
    }
   ],
   "source": [
    "evenodd(3)"
   ]
  },
  {
   "cell_type": "code",
   "execution_count": 13,
   "id": "d9ba50ae-b513-4f53-afe3-0293264c2c8f",
   "metadata": {},
   "outputs": [],
   "source": [
    "c = lambda n: \"number is even\" if n%2==0 else \"number is odd\""
   ]
  },
  {
   "cell_type": "code",
   "execution_count": 14,
   "id": "1435d5fa-8885-4079-97d6-905c0c6ba71b",
   "metadata": {},
   "outputs": [
    {
     "data": {
      "text/plain": [
       "'number is even'"
      ]
     },
     "execution_count": 14,
     "metadata": {},
     "output_type": "execute_result"
    }
   ],
   "source": [
    "c(4)"
   ]
  },
  {
   "cell_type": "code",
   "execution_count": 15,
   "id": "600e7cb0-0888-4972-8197-4bf466ceb013",
   "metadata": {},
   "outputs": [],
   "source": [
    "# write a lambda function that accepts 2 arguments and return the gretest amongs them"
   ]
  },
  {
   "cell_type": "code",
   "execution_count": 16,
   "id": "a7fcce46-7f83-4502-9d49-3eafb2831558",
   "metadata": {},
   "outputs": [],
   "source": [
    "gretest_num = lambda x,y : x if x>y else y"
   ]
  },
  {
   "cell_type": "code",
   "execution_count": 18,
   "id": "95f0d0db-034c-4bb6-8ed2-b91c8ef5624d",
   "metadata": {},
   "outputs": [
    {
     "data": {
      "text/plain": [
       "5"
      ]
     },
     "execution_count": 18,
     "metadata": {},
     "output_type": "execute_result"
    }
   ],
   "source": [
    "gretest_num(4,5)"
   ]
  },
  {
   "cell_type": "code",
   "execution_count": null,
   "id": "a79b5d56-8e90-4c5b-a479-25017670fbc8",
   "metadata": {},
   "outputs": [],
   "source": [
    "lambda function to add three numbers"
   ]
  },
  {
   "cell_type": "code",
   "execution_count": null,
   "id": "5ab8867c-f743-460e-91bc-a311174fa44c",
   "metadata": {},
   "outputs": [],
   "source": [
    "sum_num = lambda a,b,c:a+b+c"
   ]
  },
  {
   "cell_type": "code",
   "execution_count": null,
   "id": "49993ecd-6a10-4c0c-9c30-886dcff18bef",
   "metadata": {},
   "outputs": [],
   "source": [
    "sum_num(3,4,5)"
   ]
  },
  {
   "cell_type": "code",
   "execution_count": 20,
   "id": "2ada14d1-4f2f-4084-8eed-3ae844165a75",
   "metadata": {},
   "outputs": [],
   "source": [
    "products = [\n",
    "    {'name':'product1','price':50},\n",
    "    {'name':'product2','price':40},\n",
    "    {'name':'product3','price':30},\n",
    "    {'name':'product4','price':70},\n",
    "]\n",
    "\n",
    "sorted_products =  sorted(products,key=lambda x:x['price'],reverse =True)"
   ]
  },
  {
   "cell_type": "code",
   "execution_count": 21,
   "id": "5426a9e0-2d37-43b8-af77-2a543bae964f",
   "metadata": {},
   "outputs": [
    {
     "name": "stdout",
     "output_type": "stream",
     "text": [
      "{'name': 'product4', 'price': 70}\n",
      "{'name': 'product1', 'price': 50}\n",
      "{'name': 'product2', 'price': 40}\n",
      "{'name': 'product3', 'price': 30}\n"
     ]
    }
   ],
   "source": [
    "for i in sorted_products :\n",
    "    print(i)"
   ]
  },
  {
   "cell_type": "code",
   "execution_count": 22,
   "id": "da369bad-8c29-4c81-a9d7-69efe77e7e82",
   "metadata": {},
   "outputs": [],
   "source": [
    "v = {'name':'product1','price':50}"
   ]
  },
  {
   "cell_type": "code",
   "execution_count": 23,
   "id": "aa6645d4-afa4-4ea5-ae57-44e22974b3fe",
   "metadata": {},
   "outputs": [],
   "source": [
    "key = lambda x:x['price']"
   ]
  },
  {
   "cell_type": "code",
   "execution_count": 24,
   "id": "e1ea21bc-0b51-4e71-bb68-efa27528c048",
   "metadata": {},
   "outputs": [
    {
     "data": {
      "text/plain": [
       "<function __main__.<lambda>(x)>"
      ]
     },
     "execution_count": 24,
     "metadata": {},
     "output_type": "execute_result"
    }
   ],
   "source": [
    "key"
   ]
  },
  {
   "cell_type": "code",
   "execution_count": 25,
   "id": "73cb9087-de43-4508-8f25-addf3960de9c",
   "metadata": {},
   "outputs": [
    {
     "data": {
      "text/plain": [
       "50"
      ]
     },
     "execution_count": 25,
     "metadata": {},
     "output_type": "execute_result"
    }
   ],
   "source": [
    "v['price']"
   ]
  },
  {
   "cell_type": "code",
   "execution_count": 26,
   "id": "eb740d9c-d6e9-4642-b514-dac0e9087cc5",
   "metadata": {},
   "outputs": [],
   "source": [
    "#"
   ]
  },
  {
   "cell_type": "code",
   "execution_count": null,
   "id": "74e21048-90f1-4728-8c5e-b955a58b7082",
   "metadata": {},
   "outputs": [],
   "source": [
    "dd = input(\"Enter the char: \")\n",
    "gg = lambda dd : \"True\" if ('dd' =='a'or 'dd'=='e'or 'dd'=='i'or 'dd'='o'or 'dd'=='u'or 'dd'=='A'or 'dd'=='E' or 'dd'=='I'or 'dd'=='U') else \"False\""
   ]
  },
  {
   "cell_type": "code",
   "execution_count": 45,
   "id": "39bf3c0f-829f-45b3-b89b-6972a1d43597",
   "metadata": {},
   "outputs": [
    {
     "name": "stdin",
     "output_type": "stream",
     "text": [
      "Enter a string:  ATUL\n"
     ]
    },
    {
     "data": {
      "text/plain": [
       "['A', 'U']"
      ]
     },
     "execution_count": 45,
     "metadata": {},
     "output_type": "execute_result"
    }
   ],
   "source": [
    "vowels = ['a','e','i','o','u','A','E','I','O','U']\n",
    "string = input(\"Enter a string: \")\n",
    "\n",
    "vowels_list = [string[i] for i in range(len(string)) if string[i] in vowels]\n",
    "vowels_list"
   ]
  },
  {
   "cell_type": "code",
   "execution_count": null,
   "id": "1c05f0b0-a424-40eb-aa59-ddf0df088954",
   "metadata": {},
   "outputs": [],
   "source": [
    "1)filter\n",
    "2)map\n",
    "3)reduce"
   ]
  },
  {
   "cell_type": "code",
   "execution_count": 46,
   "id": "ef592ce1-df1e-4338-8656-c09422e42954",
   "metadata": {},
   "outputs": [],
   "source": [
    "x =-10"
   ]
  },
  {
   "cell_type": "code",
   "execution_count": 47,
   "id": "31bbd7eb-23e1-4b2e-be6b-b309fef4f2ed",
   "metadata": {},
   "outputs": [
    {
     "data": {
      "text/plain": [
       "10"
      ]
     },
     "execution_count": 47,
     "metadata": {},
     "output_type": "execute_result"
    }
   ],
   "source": [
    "abs(x)"
   ]
  },
  {
   "cell_type": "code",
   "execution_count": 48,
   "id": "4ed51e4c-83d9-4aed-a535-e2f9d04c3d00",
   "metadata": {},
   "outputs": [],
   "source": [
    "x = 5"
   ]
  },
  {
   "cell_type": "code",
   "execution_count": 49,
   "id": "b3910c12-04a2-48c8-8976-e3a8a7dcf3d4",
   "metadata": {},
   "outputs": [
    {
     "data": {
      "text/plain": [
       "139875618259312"
      ]
     },
     "execution_count": 49,
     "metadata": {},
     "output_type": "execute_result"
    }
   ],
   "source": [
    "id(x)"
   ]
  },
  {
   "cell_type": "code",
   "execution_count": 50,
   "id": "cc098b5e-f5c2-4b26-8cae-6ed2b3da0b77",
   "metadata": {},
   "outputs": [],
   "source": [
    "l = [1,2,3,4,5]"
   ]
  },
  {
   "cell_type": "code",
   "execution_count": 51,
   "id": "73eebf69-649c-4e14-be74-873b32c34d7a",
   "metadata": {},
   "outputs": [
    {
     "data": {
      "text/plain": [
       "5"
      ]
     },
     "execution_count": 51,
     "metadata": {},
     "output_type": "execute_result"
    }
   ],
   "source": [
    "max(l)\n"
   ]
  },
  {
   "cell_type": "code",
   "execution_count": 37,
   "id": "18704ab2-b1f8-494b-998c-585010476875",
   "metadata": {},
   "outputs": [],
   "source": [
    "x = 2"
   ]
  },
  {
   "cell_type": "code",
   "execution_count": 38,
   "id": "5ff8ca0a-bb6b-4fdc-afee-58bdf4c420ff",
   "metadata": {},
   "outputs": [
    {
     "data": {
      "text/plain": [
       "int"
      ]
     },
     "execution_count": 38,
     "metadata": {},
     "output_type": "execute_result"
    }
   ],
   "source": [
    "type(x)"
   ]
  },
  {
   "cell_type": "code",
   "execution_count": 52,
   "id": "b964d5d1-df0f-4c67-a791-7f3e0c5f24bc",
   "metadata": {},
   "outputs": [],
   "source": [
    "language = ['python','java','javascript']"
   ]
  },
  {
   "cell_type": "code",
   "execution_count": 53,
   "id": "c24a5be5-5f68-43f7-bf6c-0a346fc2a8d2",
   "metadata": {},
   "outputs": [],
   "source": [
    "enumerate_prime = enumerate(language,3)"
   ]
  },
  {
   "cell_type": "code",
   "execution_count": 54,
   "id": "ea869605-eb2a-46db-8cb9-eb63fdebb66b",
   "metadata": {},
   "outputs": [
    {
     "data": {
      "text/plain": [
       "[(3, 'python'), (4, 'java'), (5, 'javascript')]"
      ]
     },
     "execution_count": 54,
     "metadata": {},
     "output_type": "execute_result"
    }
   ],
   "source": [
    "list(enumerate_prime)"
   ]
  },
  {
   "cell_type": "code",
   "execution_count": null,
   "id": "d8a95774-2708-4e04-a1cf-d42dea9b5c85",
   "metadata": {},
   "outputs": [],
   "source": [
    "[ output | collection | condition ]"
   ]
  },
  {
   "cell_type": "code",
   "execution_count": 55,
   "id": "c869c1a0-db6b-452b-92f9-6df0e0acecaf",
   "metadata": {},
   "outputs": [],
   "source": [
    "lst = [1,2,3,4,5,6,7,8,9,10]"
   ]
  },
  {
   "cell_type": "code",
   "execution_count": 56,
   "id": "3054dce3-8326-4a83-b902-cefbfc92ccab",
   "metadata": {},
   "outputs": [],
   "source": [
    "a = [x for x in lst]"
   ]
  },
  {
   "cell_type": "code",
   "execution_count": 57,
   "id": "b6fc2042-dc9f-4579-a7a0-2202f4463672",
   "metadata": {},
   "outputs": [
    {
     "data": {
      "text/plain": [
       "[1, 2, 3, 4, 5, 6, 7, 8, 9, 10]"
      ]
     },
     "execution_count": 57,
     "metadata": {},
     "output_type": "execute_result"
    }
   ],
   "source": [
    "a"
   ]
  },
  {
   "cell_type": "code",
   "execution_count": 58,
   "id": "52072b2a-d0bc-4e7c-8154-668a42053a3f",
   "metadata": {},
   "outputs": [
    {
     "name": "stdout",
     "output_type": "stream",
     "text": [
      "1\n",
      "2\n",
      "3\n",
      "4\n",
      "5\n",
      "6\n",
      "7\n",
      "8\n",
      "9\n",
      "10\n"
     ]
    }
   ],
   "source": [
    "for i in lst:\n",
    "    print(i)"
   ]
  },
  {
   "cell_type": "code",
   "execution_count": 59,
   "id": "22fbb135-84cf-4c05-8462-d8dc81393d21",
   "metadata": {},
   "outputs": [],
   "source": [
    "a = [ x+1 for x in lst]"
   ]
  },
  {
   "cell_type": "code",
   "execution_count": 60,
   "id": "1803d13b-ebb5-45f2-9002-d5e1ddf839e9",
   "metadata": {},
   "outputs": [
    {
     "data": {
      "text/plain": [
       "[2, 3, 4, 5, 6, 7, 8, 9, 10, 11]"
      ]
     },
     "execution_count": 60,
     "metadata": {},
     "output_type": "execute_result"
    }
   ],
   "source": [
    "a"
   ]
  },
  {
   "cell_type": "code",
   "execution_count": 61,
   "id": "7b051aa8-3ed7-411f-be38-c70297f1d1fe",
   "metadata": {},
   "outputs": [],
   "source": [
    "a = [ x*2 for x in lst]"
   ]
  },
  {
   "cell_type": "code",
   "execution_count": 62,
   "id": "f3a7d963-3db0-41ac-bc00-1081a6e6dca2",
   "metadata": {},
   "outputs": [
    {
     "data": {
      "text/plain": [
       "[2, 4, 6, 8, 10, 12, 14, 16, 18, 20]"
      ]
     },
     "execution_count": 62,
     "metadata": {},
     "output_type": "execute_result"
    }
   ],
   "source": [
    "a"
   ]
  },
  {
   "cell_type": "code",
   "execution_count": null,
   "id": "d69c13dc-2c40-409c-835b-6d909396ba53",
   "metadata": {},
   "outputs": [],
   "source": [
    "c = [ x for x in lst if x>4]"
   ]
  },
  {
   "cell_type": "code",
   "execution_count": 64,
   "id": "610deafa-6f29-4abb-9bcf-481e9bf6ff44",
   "metadata": {},
   "outputs": [
    {
     "data": {
      "text/plain": [
       "[5, 6, 7, 8, 9, 10]"
      ]
     },
     "execution_count": 64,
     "metadata": {},
     "output_type": "execute_result"
    }
   ],
   "source": [
    "c"
   ]
  },
  {
   "cell_type": "code",
   "execution_count": 65,
   "id": "89d514df-7487-4b6f-8c96-ec22999add88",
   "metadata": {},
   "outputs": [],
   "source": [
    " a = []\n",
    "    \n",
    "for x in lst:\n",
    "    if x>4:\n",
    "        a.append(x)"
   ]
  },
  {
   "cell_type": "code",
   "execution_count": 66,
   "id": "82ce1dec-f37f-49ca-96f6-5277bdf7e2b9",
   "metadata": {},
   "outputs": [
    {
     "data": {
      "text/plain": [
       "[5, 6, 7, 8, 9, 10]"
      ]
     },
     "execution_count": 66,
     "metadata": {},
     "output_type": "execute_result"
    }
   ],
   "source": [
    "a"
   ]
  },
  {
   "cell_type": "code",
   "execution_count": 67,
   "id": "84be0cc3-2592-4c31-8283-e8477730f725",
   "metadata": {},
   "outputs": [],
   "source": [
    "f = [ x for x in lst if x%2==0]"
   ]
  },
  {
   "cell_type": "code",
   "execution_count": 68,
   "id": "ff9e2fd3-54a0-4ddd-b065-928c9c121d0b",
   "metadata": {},
   "outputs": [
    {
     "data": {
      "text/plain": [
       "[2, 4, 6, 8, 10]"
      ]
     },
     "execution_count": 68,
     "metadata": {},
     "output_type": "execute_result"
    }
   ],
   "source": [
    "f"
   ]
  },
  {
   "cell_type": "code",
   "execution_count": 69,
   "id": "294e65b7-41f1-4fc5-88d0-f1550bfd6561",
   "metadata": {},
   "outputs": [],
   "source": [
    " g= [ x for x in lst if x>4 if x%2==0]"
   ]
  },
  {
   "cell_type": "code",
   "execution_count": 70,
   "id": "3464aab4-dc21-4e9d-849f-71d9f01cc04c",
   "metadata": {},
   "outputs": [
    {
     "data": {
      "text/plain": [
       "[6, 8, 10]"
      ]
     },
     "execution_count": 70,
     "metadata": {},
     "output_type": "execute_result"
    }
   ],
   "source": [
    "g"
   ]
  },
  {
   "cell_type": "code",
   "execution_count": 71,
   "id": "f9ad2afc-4979-4178-87f1-199e1ee3cd3f",
   "metadata": {},
   "outputs": [],
   "source": [
    "a = []\n",
    "for x in lst:\n",
    "    if x>4:\n",
    "        if x%2==0:\n",
    "            a.append(x)"
   ]
  },
  {
   "cell_type": "code",
   "execution_count": 72,
   "id": "c0d8f757-158d-4038-b273-764fa5553ec3",
   "metadata": {},
   "outputs": [
    {
     "data": {
      "text/plain": [
       "[6, 8, 10]"
      ]
     },
     "execution_count": 72,
     "metadata": {},
     "output_type": "execute_result"
    }
   ],
   "source": [
    "a"
   ]
  },
  {
   "cell_type": "code",
   "execution_count": 73,
   "id": "696abd53-af24-414a-a9e2-bba4e1e07253",
   "metadata": {},
   "outputs": [],
   "source": [
    "h = [x if x>4 else 'lessthan 4' for x in lst]"
   ]
  },
  {
   "cell_type": "code",
   "execution_count": 74,
   "id": "3b21fe89-f700-4f9d-817f-62461e5cd81b",
   "metadata": {},
   "outputs": [
    {
     "data": {
      "text/plain": [
       "['lessthan 4', 'lessthan 4', 'lessthan 4', 'lessthan 4', 5, 6, 7, 8, 9, 10]"
      ]
     },
     "execution_count": 74,
     "metadata": {},
     "output_type": "execute_result"
    }
   ],
   "source": [
    "h"
   ]
  },
  {
   "cell_type": "code",
   "execution_count": 75,
   "id": "3e612532-7b7a-4c03-b1eb-f997b14fb678",
   "metadata": {},
   "outputs": [],
   "source": [
    "a = []\n",
    "for x in lst:\n",
    "    if x>4:\n",
    "        a.append(x)\n",
    "    else:\n",
    "        a.append(\"less than 4\")"
   ]
  },
  {
   "cell_type": "code",
   "execution_count": 76,
   "id": "015850e4-d84d-488b-93dd-206da1ecdecb",
   "metadata": {},
   "outputs": [
    {
     "data": {
      "text/plain": [
       "['less than 4', 'less than 4', 'less than 4', 'less than 4', 5, 6, 7, 8, 9, 10]"
      ]
     },
     "execution_count": 76,
     "metadata": {},
     "output_type": "execute_result"
    }
   ],
   "source": [
    "a"
   ]
  },
  {
   "cell_type": "code",
   "execution_count": 77,
   "id": "89234eee-b37b-4a74-850c-a34414f6397f",
   "metadata": {},
   "outputs": [],
   "source": [
    "r = ['two' if x%2==0 else 'three' if x%3==0 else 'not a & 3' for x in lst]"
   ]
  },
  {
   "cell_type": "code",
   "execution_count": 78,
   "id": "c99bd88e-b55a-45f3-a084-11f47e227ab3",
   "metadata": {},
   "outputs": [
    {
     "data": {
      "text/plain": [
       "['not a & 3',\n",
       " 'two',\n",
       " 'three',\n",
       " 'two',\n",
       " 'not a & 3',\n",
       " 'two',\n",
       " 'not a & 3',\n",
       " 'two',\n",
       " 'three',\n",
       " 'two']"
      ]
     },
     "execution_count": 78,
     "metadata": {},
     "output_type": "execute_result"
    }
   ],
   "source": [
    "r"
   ]
  },
  {
   "cell_type": "code",
   "execution_count": 79,
   "id": "ff6b6b6b-686d-4cf4-b1a3-e1c49e65b6c0",
   "metadata": {},
   "outputs": [],
   "source": [
    "a = []\n",
    "for x in lst:\n",
    "    if x%2==0:\n",
    "        a.append(\"two\")\n",
    "    elif x%3==0:\n",
    "        a.append(\"three\")\n",
    "    else:    \n",
    "        a.append(\"not a & 3\")"
   ]
  },
  {
   "cell_type": "code",
   "execution_count": 80,
   "id": "ef96666a-db17-4635-ac70-bac4e4d3a03c",
   "metadata": {},
   "outputs": [
    {
     "data": {
      "text/plain": [
       "['not a & 3',\n",
       " 'two',\n",
       " 'three',\n",
       " 'two',\n",
       " 'not a & 3',\n",
       " 'two',\n",
       " 'not a & 3',\n",
       " 'two',\n",
       " 'three',\n",
       " 'two']"
      ]
     },
     "execution_count": 80,
     "metadata": {},
     "output_type": "execute_result"
    }
   ],
   "source": [
    "a"
   ]
  },
  {
   "cell_type": "code",
   "execution_count": null,
   "id": "b493832b-35c7-47f6-8c20-3be40d15128a",
   "metadata": {},
   "outputs": [],
   "source": []
  }
 ],
 "metadata": {
  "kernelspec": {
   "display_name": "Python 3 (ipykernel)",
   "language": "python",
   "name": "python3"
  },
  "language_info": {
   "codemirror_mode": {
    "name": "ipython",
    "version": 3
   },
   "file_extension": ".py",
   "mimetype": "text/x-python",
   "name": "python",
   "nbconvert_exporter": "python",
   "pygments_lexer": "ipython3",
   "version": "3.10.8"
  }
 },
 "nbformat": 4,
 "nbformat_minor": 5
}
