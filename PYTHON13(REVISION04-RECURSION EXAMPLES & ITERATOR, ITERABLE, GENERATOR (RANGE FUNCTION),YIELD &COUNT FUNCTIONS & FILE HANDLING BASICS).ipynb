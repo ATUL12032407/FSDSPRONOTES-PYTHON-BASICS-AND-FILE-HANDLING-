{
 "cells": [
  {
   "cell_type": "raw",
   "id": "c523a504-79d6-45f5-9db7-5fd0f20c22ce",
   "metadata": {},
   "source": [
    "RECURSION EXAMPLES"
   ]
  },
  {
   "cell_type": "code",
   "execution_count": 7,
   "id": "cedf4851-0a30-4dc8-9867-43fc0d788eaa",
   "metadata": {},
   "outputs": [
    {
     "data": {
      "text/plain": [
       "9"
      ]
     },
     "execution_count": 7,
     "metadata": {},
     "output_type": "execute_result"
    }
   ],
   "source": [
    "s=\"sudhanshu\"\n",
    "len(s)"
   ]
  },
  {
   "cell_type": "code",
   "execution_count": 8,
   "id": "d255e04c-e83c-4995-a9f0-55273fe5a076",
   "metadata": {},
   "outputs": [],
   "source": [
    "def find_len(s):\n",
    "    if s==\"\":\n",
    "        return 0\n",
    "    else :\n",
    "        return 1+find_len(s[1:])"
   ]
  },
  {
   "cell_type": "code",
   "execution_count": 9,
   "id": "39d47c34-bf61-45e8-b0b7-1187e4e7f45f",
   "metadata": {},
   "outputs": [
    {
     "data": {
      "text/plain": [
       "9"
      ]
     },
     "execution_count": 9,
     "metadata": {},
     "output_type": "execute_result"
    }
   ],
   "source": [
    "find_len(\"sudhanshu\")"
   ]
  },
  {
   "cell_type": "code",
   "execution_count": 10,
   "id": "cc2f7c77-6217-408a-a05c-a8d5c5622e6b",
   "metadata": {},
   "outputs": [
    {
     "data": {
      "text/plain": [
       "8"
      ]
     },
     "execution_count": 10,
     "metadata": {},
     "output_type": "execute_result"
    }
   ],
   "source": [
    "find_len(\"pwskills\")"
   ]
  },
  {
   "cell_type": "raw",
   "id": "cbd36edb-ed8e-4dc9-ab4f-ff1c0e00d6ca",
   "metadata": {},
   "source": [
    "2:) REVERSE OF THE STRING "
   ]
  },
  {
   "cell_type": "code",
   "execution_count": 11,
   "id": "68b68443-89e2-4841-b7c8-00e21ef35fea",
   "metadata": {},
   "outputs": [
    {
     "data": {
      "text/plain": [
       "'sudhanshu'"
      ]
     },
     "execution_count": 11,
     "metadata": {},
     "output_type": "execute_result"
    }
   ],
   "source": [
    "s"
   ]
  },
  {
   "cell_type": "code",
   "execution_count": 12,
   "id": "a886411e-3e1f-4bfb-9627-04bc71a33751",
   "metadata": {},
   "outputs": [
    {
     "data": {
      "text/plain": [
       "'uhsnahdus'"
      ]
     },
     "execution_count": 12,
     "metadata": {},
     "output_type": "execute_result"
    }
   ],
   "source": [
    "s[::-1]"
   ]
  },
  {
   "cell_type": "code",
   "execution_count": 13,
   "id": "4e93ae5d-f7d8-4529-87a4-9c0811848363",
   "metadata": {},
   "outputs": [],
   "source": [
    "def rev_str(s):\n",
    "    if s==\"\":\n",
    "        return \"\"\n",
    "    else :\n",
    "        return rev_str(s[1:])+s[0]"
   ]
  },
  {
   "cell_type": "code",
   "execution_count": 14,
   "id": "003a2dd3-1e45-4d83-8424-786a10b90bc7",
   "metadata": {},
   "outputs": [
    {
     "data": {
      "text/plain": [
       "'hdus'"
      ]
     },
     "execution_count": 14,
     "metadata": {},
     "output_type": "execute_result"
    }
   ],
   "source": [
    "rev_str(\"sudh\")"
   ]
  },
  {
   "cell_type": "code",
   "execution_count": 15,
   "id": "9ce9d056-6efa-45e1-b591-6b952b9cc0e8",
   "metadata": {},
   "outputs": [
    {
     "data": {
      "text/plain": [
       "'sllikswp'"
      ]
     },
     "execution_count": 15,
     "metadata": {},
     "output_type": "execute_result"
    }
   ],
   "source": [
    "rev_str(\"pwskills\")"
   ]
  },
  {
   "cell_type": "raw",
   "id": "1d89dc61-4c29-4abb-9b1d-be83cdd798ba",
   "metadata": {},
   "source": [
    "3:) No of particular character available  in a particular string "
   ]
  },
  {
   "cell_type": "code",
   "execution_count": 16,
   "id": "226c40fb-f26b-49d6-94e8-a0f0421d1e88",
   "metadata": {},
   "outputs": [],
   "source": [
    "def find_char_count(s,c):\n",
    "    if s==\"\":\n",
    "        return 0\n",
    "    elif s[0]== c:\n",
    "        return 1+find_char_count(s[1:],c)\n",
    "        \n",
    "    else :\n",
    "        return find_char_count(s[1:],c)"
   ]
  },
  {
   "cell_type": "code",
   "execution_count": 20,
   "id": "da9c8f04-fa94-4131-8c37-c15e499e8692",
   "metadata": {},
   "outputs": [
    {
     "data": {
      "text/plain": [
       "2"
      ]
     },
     "execution_count": 20,
     "metadata": {},
     "output_type": "execute_result"
    }
   ],
   "source": [
    "find_char_count(s,'u')"
   ]
  },
  {
   "cell_type": "code",
   "execution_count": 21,
   "id": "b717f6c4-0e8a-49a5-8bea-dd5fd3545d57",
   "metadata": {},
   "outputs": [
    {
     "data": {
      "text/plain": [
       "2"
      ]
     },
     "execution_count": 21,
     "metadata": {},
     "output_type": "execute_result"
    }
   ],
   "source": [
    "find_char_count(s,'s')"
   ]
  },
  {
   "cell_type": "code",
   "execution_count": 22,
   "id": "81a74d02-a5e4-49df-94d7-5e6cdf67ad3a",
   "metadata": {},
   "outputs": [
    {
     "data": {
      "text/plain": [
       "1"
      ]
     },
     "execution_count": 22,
     "metadata": {},
     "output_type": "execute_result"
    }
   ],
   "source": [
    "find_char_count(s,'a')"
   ]
  },
  {
   "cell_type": "code",
   "execution_count": 24,
   "id": "c26178e1-624c-48ae-9c70-cea234877cc0",
   "metadata": {},
   "outputs": [
    {
     "data": {
      "text/plain": [
       "0"
      ]
     },
     "execution_count": 24,
     "metadata": {},
     "output_type": "execute_result"
    }
   ],
   "source": [
    "find_char_count(s,'z')"
   ]
  },
  {
   "cell_type": "code",
   "execution_count": 25,
   "id": "f704aa69-dd2b-4b37-95be-7df088b18c84",
   "metadata": {},
   "outputs": [],
   "source": [
    "s=\"sfafafdaaf\""
   ]
  },
  {
   "cell_type": "code",
   "execution_count": 26,
   "id": "960430a8-383c-433a-af44-c3d1b9c20281",
   "metadata": {},
   "outputs": [
    {
     "data": {
      "text/plain": [
       "4"
      ]
     },
     "execution_count": 26,
     "metadata": {},
     "output_type": "execute_result"
    }
   ],
   "source": [
    "find_char_count(s,'f')"
   ]
  },
  {
   "cell_type": "code",
   "execution_count": 42,
   "id": "42d44661-039f-45e3-8cfa-fe20998c5609",
   "metadata": {},
   "outputs": [],
   "source": [
    "l=[4,6,5,4,5,6,6,7]"
   ]
  },
  {
   "cell_type": "code",
   "execution_count": 43,
   "id": "7d4c127b-8159-414d-bddb-93138479c6af",
   "metadata": {},
   "outputs": [],
   "source": [
    "def check_sorted(l):\n",
    "    if len(l)<=1:\n",
    "        return True \n",
    "    elif l[0]>l[1] :\n",
    "        return False \n",
    "    else :\n",
    "        return check_sorted(l[1:])"
   ]
  },
  {
   "cell_type": "code",
   "execution_count": 44,
   "id": "fbbbd1d0-5925-43be-a4d6-1e8ad84eabaf",
   "metadata": {},
   "outputs": [
    {
     "data": {
      "text/plain": [
       "False"
      ]
     },
     "execution_count": 44,
     "metadata": {},
     "output_type": "execute_result"
    }
   ],
   "source": [
    "check_sorted(l)"
   ]
  },
  {
   "cell_type": "code",
   "execution_count": 3,
   "id": "a95d03c6-71d0-4a4f-8c56-b7dd57a82232",
   "metadata": {},
   "outputs": [],
   "source": [
    "def check_per_square(n,start=1):\n",
    "    if n== start**2:\n",
    "        return True \n",
    "    elif n<= start**2 :\n",
    "        return False \n",
    "    else :\n",
    "        return  check_per_square(n,start+1)\n",
    "       \n",
    "    "
   ]
  },
  {
   "cell_type": "code",
   "execution_count": 4,
   "id": "4494daac-bb6c-44b9-8551-1889d35ca626",
   "metadata": {},
   "outputs": [
    {
     "data": {
      "text/plain": [
       "True"
      ]
     },
     "execution_count": 4,
     "metadata": {},
     "output_type": "execute_result"
    }
   ],
   "source": [
    "check_per_square(64)"
   ]
  },
  {
   "cell_type": "code",
   "execution_count": 5,
   "id": "844f550d-a600-4571-ac65-89cd06a653d2",
   "metadata": {},
   "outputs": [
    {
     "data": {
      "text/plain": [
       "False"
      ]
     },
     "execution_count": 5,
     "metadata": {},
     "output_type": "execute_result"
    }
   ],
   "source": [
    "check_per_square(3)"
   ]
  },
  {
   "cell_type": "code",
   "execution_count": 6,
   "id": "a0e52a94-f2d3-47c2-83d0-5771498c4533",
   "metadata": {},
   "outputs": [
    {
     "data": {
      "text/plain": [
       "False"
      ]
     },
     "execution_count": 6,
     "metadata": {},
     "output_type": "execute_result"
    }
   ],
   "source": [
    "check_per_square(5)"
   ]
  },
  {
   "cell_type": "markdown",
   "id": "592f6746-ecf4-41a8-8d72-d8cf139a36df",
   "metadata": {},
   "source": [
    "** Iterators and Iterable "
   ]
  },
  {
   "cell_type": "code",
   "execution_count": 7,
   "id": "ab5fa174-8165-46ff-8654-d88e8c645098",
   "metadata": {},
   "outputs": [],
   "source": [
    "l=[2,3,4,5,6]\n",
    "a=10\n",
    "s=\"sudh\""
   ]
  },
  {
   "cell_type": "code",
   "execution_count": 8,
   "id": "b60a6270-d745-4a95-a048-a94b9450cc42",
   "metadata": {},
   "outputs": [
    {
     "name": "stdout",
     "output_type": "stream",
     "text": [
      "2\n",
      "3\n",
      "4\n",
      "5\n",
      "6\n"
     ]
    }
   ],
   "source": [
    "for i in l :\n",
    "    print(i)"
   ]
  },
  {
   "cell_type": "code",
   "execution_count": 9,
   "id": "ab0ac6f2-51de-4741-98be-2bdc3dbe8486",
   "metadata": {},
   "outputs": [
    {
     "ename": "TypeError",
     "evalue": "'int' object is not iterable",
     "output_type": "error",
     "traceback": [
      "\u001b[0;31m---------------------------------------------------------------------------\u001b[0m",
      "\u001b[0;31mTypeError\u001b[0m                                 Traceback (most recent call last)",
      "Cell \u001b[0;32mIn[9], line 1\u001b[0m\n\u001b[0;32m----> 1\u001b[0m \u001b[38;5;28;01mfor\u001b[39;00m i \u001b[38;5;129;01min\u001b[39;00m a :\n\u001b[1;32m      2\u001b[0m     \u001b[38;5;28mprint\u001b[39m(i)\n",
      "\u001b[0;31mTypeError\u001b[0m: 'int' object is not iterable"
     ]
    }
   ],
   "source": [
    "for i in a :\n",
    "    print(i)"
   ]
  },
  {
   "cell_type": "code",
   "execution_count": 10,
   "id": "5d3814d8-7d57-47eb-99f4-7c4f0bcd0f62",
   "metadata": {},
   "outputs": [
    {
     "ename": "TypeError",
     "evalue": "'int' object is not iterable",
     "output_type": "error",
     "traceback": [
      "\u001b[0;31m---------------------------------------------------------------------------\u001b[0m",
      "\u001b[0;31mTypeError\u001b[0m                                 Traceback (most recent call last)",
      "Cell \u001b[0;32mIn[10], line 1\u001b[0m\n\u001b[0;32m----> 1\u001b[0m \u001b[38;5;28;43miter\u001b[39;49m\u001b[43m(\u001b[49m\u001b[38;5;241;43m10\u001b[39;49m\u001b[43m)\u001b[49m\n",
      "\u001b[0;31mTypeError\u001b[0m: 'int' object is not iterable"
     ]
    }
   ],
   "source": [
    "iter(10)"
   ]
  },
  {
   "cell_type": "code",
   "execution_count": null,
   "id": "29ec63d4-c141-406e-b7df-79fdaf74c8b0",
   "metadata": {},
   "outputs": [],
   "source": [
    "Somehow for loop is calling iter function internally"
   ]
  },
  {
   "cell_type": "code",
   "execution_count": 11,
   "id": "71d150e3-6b1f-4bf9-9eb3-00177bfeddc2",
   "metadata": {},
   "outputs": [
    {
     "data": {
      "text/plain": [
       "<str_iterator at 0x7f12bdc56500>"
      ]
     },
     "execution_count": 11,
     "metadata": {},
     "output_type": "execute_result"
    }
   ],
   "source": [
    "iter(\"sudh\")"
   ]
  },
  {
   "cell_type": "markdown",
   "id": "53bf63cf-832a-4fdd-bc8d-fd62be9d5027",
   "metadata": {},
   "source": [
    "Difference between iterator and iterable "
   ]
  },
  {
   "cell_type": "code",
   "execution_count": 12,
   "id": "3e23367a-cddb-4e86-b15f-ca23e740861e",
   "metadata": {},
   "outputs": [],
   "source": [
    "s1=iter(\"sudh\")"
   ]
  },
  {
   "cell_type": "code",
   "execution_count": 13,
   "id": "9c31d083-e8ce-44b0-b9f5-63a9f8897329",
   "metadata": {},
   "outputs": [
    {
     "data": {
      "text/plain": [
       "'s'"
      ]
     },
     "execution_count": 13,
     "metadata": {},
     "output_type": "execute_result"
    }
   ],
   "source": [
    "next(s1)"
   ]
  },
  {
   "cell_type": "code",
   "execution_count": 14,
   "id": "a6134319-4307-4399-87f6-578a92184516",
   "metadata": {},
   "outputs": [
    {
     "data": {
      "text/plain": [
       "'u'"
      ]
     },
     "execution_count": 14,
     "metadata": {},
     "output_type": "execute_result"
    }
   ],
   "source": [
    "next(s1)"
   ]
  },
  {
   "cell_type": "code",
   "execution_count": 15,
   "id": "7593ef5b-fb5c-4165-abcc-90714aa1229c",
   "metadata": {},
   "outputs": [
    {
     "data": {
      "text/plain": [
       "'d'"
      ]
     },
     "execution_count": 15,
     "metadata": {},
     "output_type": "execute_result"
    }
   ],
   "source": [
    "next(s1)"
   ]
  },
  {
   "cell_type": "code",
   "execution_count": 16,
   "id": "63c06583-4d66-4fdc-bdf1-a4137998dcc4",
   "metadata": {},
   "outputs": [
    {
     "data": {
      "text/plain": [
       "'h'"
      ]
     },
     "execution_count": 16,
     "metadata": {},
     "output_type": "execute_result"
    }
   ],
   "source": [
    "next(s1)"
   ]
  },
  {
   "cell_type": "code",
   "execution_count": 17,
   "id": "407ae8a8-c85e-4d78-a651-63de5fe858e2",
   "metadata": {},
   "outputs": [
    {
     "ename": "StopIteration",
     "evalue": "",
     "output_type": "error",
     "traceback": [
      "\u001b[0;31m---------------------------------------------------------------------------\u001b[0m",
      "\u001b[0;31mStopIteration\u001b[0m                             Traceback (most recent call last)",
      "Cell \u001b[0;32mIn[17], line 1\u001b[0m\n\u001b[0;32m----> 1\u001b[0m \u001b[38;5;28;43mnext\u001b[39;49m\u001b[43m(\u001b[49m\u001b[43ms1\u001b[49m\u001b[43m)\u001b[49m\n",
      "\u001b[0;31mStopIteration\u001b[0m: "
     ]
    }
   ],
   "source": [
    "next(s1)"
   ]
  },
  {
   "cell_type": "code",
   "execution_count": 18,
   "id": "272c2a45-9fa6-4f30-9a77-f3e7d20e3ed9",
   "metadata": {},
   "outputs": [
    {
     "name": "stdout",
     "output_type": "stream",
     "text": [
      "s\n",
      "u\n",
      "d\n",
      "h\n"
     ]
    }
   ],
   "source": [
    "for i in s :\n",
    "    print(i)"
   ]
  },
  {
   "cell_type": "code",
   "execution_count": 19,
   "id": "5f5c231c-9b47-4432-b1ee-89ce08f42fe5",
   "metadata": {},
   "outputs": [],
   "source": [
    "s2=\"pwskills\""
   ]
  },
  {
   "cell_type": "code",
   "execution_count": 20,
   "id": "45fffa75-b263-41ea-ba34-71ce0935fe0e",
   "metadata": {},
   "outputs": [
    {
     "ename": "TypeError",
     "evalue": "'str' object is not an iterator",
     "output_type": "error",
     "traceback": [
      "\u001b[0;31m---------------------------------------------------------------------------\u001b[0m",
      "\u001b[0;31mTypeError\u001b[0m                                 Traceback (most recent call last)",
      "Cell \u001b[0;32mIn[20], line 1\u001b[0m\n\u001b[0;32m----> 1\u001b[0m \u001b[38;5;28;43mnext\u001b[39;49m\u001b[43m(\u001b[49m\u001b[43ms2\u001b[49m\u001b[43m)\u001b[49m\n",
      "\u001b[0;31mTypeError\u001b[0m: 'str' object is not an iterator"
     ]
    }
   ],
   "source": [
    "next(s2)"
   ]
  },
  {
   "cell_type": "code",
   "execution_count": 21,
   "id": "2e7d2fb1-0a6c-4685-8c3a-78293b5834e5",
   "metadata": {},
   "outputs": [],
   "source": [
    "s3=iter(s2)"
   ]
  },
  {
   "cell_type": "code",
   "execution_count": 22,
   "id": "329386e4-21d1-49ae-82b7-fcd84e907bac",
   "metadata": {},
   "outputs": [
    {
     "data": {
      "text/plain": [
       "'p'"
      ]
     },
     "execution_count": 22,
     "metadata": {},
     "output_type": "execute_result"
    }
   ],
   "source": [
    "next(s3)"
   ]
  },
  {
   "cell_type": "code",
   "execution_count": 23,
   "id": "62ed4950-555b-4cb1-9edc-f1a58f7b4bd0",
   "metadata": {},
   "outputs": [
    {
     "data": {
      "text/plain": [
       "'w'"
      ]
     },
     "execution_count": 23,
     "metadata": {},
     "output_type": "execute_result"
    }
   ],
   "source": [
    "next(s3)"
   ]
  },
  {
   "cell_type": "code",
   "execution_count": 24,
   "id": "c1b17822-5400-41ee-a669-38475dd5f8c8",
   "metadata": {},
   "outputs": [
    {
     "data": {
      "text/plain": [
       "'s'"
      ]
     },
     "execution_count": 24,
     "metadata": {},
     "output_type": "execute_result"
    }
   ],
   "source": [
    "next(s3)"
   ]
  },
  {
   "cell_type": "code",
   "execution_count": 25,
   "id": "a1a30424-41e9-439d-a33e-48345491451a",
   "metadata": {},
   "outputs": [
    {
     "data": {
      "text/plain": [
       "'k'"
      ]
     },
     "execution_count": 25,
     "metadata": {},
     "output_type": "execute_result"
    }
   ],
   "source": [
    "next(s3)"
   ]
  },
  {
   "cell_type": "code",
   "execution_count": 26,
   "id": "8c743196-af0a-4393-bd6d-a7a655b762f0",
   "metadata": {},
   "outputs": [
    {
     "data": {
      "text/plain": [
       "'i'"
      ]
     },
     "execution_count": 26,
     "metadata": {},
     "output_type": "execute_result"
    }
   ],
   "source": [
    "next(s3)"
   ]
  },
  {
   "cell_type": "code",
   "execution_count": 27,
   "id": "aa7d5b73-aba7-465d-96cf-237345ed737b",
   "metadata": {},
   "outputs": [
    {
     "data": {
      "text/plain": [
       "'l'"
      ]
     },
     "execution_count": 27,
     "metadata": {},
     "output_type": "execute_result"
    }
   ],
   "source": [
    "next(s3)"
   ]
  },
  {
   "cell_type": "code",
   "execution_count": 28,
   "id": "5ce6498f-c893-4ac1-8e67-36e70c7ca8b4",
   "metadata": {},
   "outputs": [
    {
     "data": {
      "text/plain": [
       "'l'"
      ]
     },
     "execution_count": 28,
     "metadata": {},
     "output_type": "execute_result"
    }
   ],
   "source": [
    "next(s3)"
   ]
  },
  {
   "cell_type": "code",
   "execution_count": 29,
   "id": "4f0fd59c-e1ed-49f4-b096-6f5c2e9ceeaa",
   "metadata": {},
   "outputs": [
    {
     "data": {
      "text/plain": [
       "'s'"
      ]
     },
     "execution_count": 29,
     "metadata": {},
     "output_type": "execute_result"
    }
   ],
   "source": [
    "next(s3)"
   ]
  },
  {
   "cell_type": "code",
   "execution_count": 30,
   "id": "5aa96a3f-8628-4707-8a2d-6d0c7feb4684",
   "metadata": {},
   "outputs": [
    {
     "ename": "StopIteration",
     "evalue": "",
     "output_type": "error",
     "traceback": [
      "\u001b[0;31m---------------------------------------------------------------------------\u001b[0m",
      "\u001b[0;31mStopIteration\u001b[0m                             Traceback (most recent call last)",
      "Cell \u001b[0;32mIn[30], line 1\u001b[0m\n\u001b[0;32m----> 1\u001b[0m \u001b[38;5;28;43mnext\u001b[39;49m\u001b[43m(\u001b[49m\u001b[43ms3\u001b[49m\u001b[43m)\u001b[49m\n",
      "\u001b[0;31mStopIteration\u001b[0m: "
     ]
    }
   ],
   "source": [
    "next(s3)"
   ]
  },
  {
   "cell_type": "code",
   "execution_count": 31,
   "id": "87d1e142-274b-4ca0-b273-1020e941547b",
   "metadata": {},
   "outputs": [],
   "source": [
    "s2=\"pwskills\""
   ]
  },
  {
   "cell_type": "code",
   "execution_count": 32,
   "id": "f1777b23-b3b4-456b-bfc4-e86781bee23e",
   "metadata": {},
   "outputs": [
    {
     "ename": "TypeError",
     "evalue": "'str' object is not an iterator",
     "output_type": "error",
     "traceback": [
      "\u001b[0;31m---------------------------------------------------------------------------\u001b[0m",
      "\u001b[0;31mTypeError\u001b[0m                                 Traceback (most recent call last)",
      "Cell \u001b[0;32mIn[32], line 1\u001b[0m\n\u001b[0;32m----> 1\u001b[0m \u001b[38;5;28;43mnext\u001b[39;49m\u001b[43m(\u001b[49m\u001b[43ms2\u001b[49m\u001b[43m)\u001b[49m\n",
      "\u001b[0;31mTypeError\u001b[0m: 'str' object is not an iterator"
     ]
    }
   ],
   "source": [
    "next(s2)"
   ]
  },
  {
   "cell_type": "markdown",
   "id": "6e36b242-ea88-4aea-a9e4-5cb343c2a29d",
   "metadata": {},
   "source": [
    "Unless and untill your data are not iterable it can't become iterator"
   ]
  },
  {
   "cell_type": "markdown",
   "id": "195775be-cd86-4c00-a166-dd3e262ea902",
   "metadata": {},
   "source": [
    "It has to be in a form ofiterable object then only it might be iterator."
   ]
  },
  {
   "cell_type": "code",
   "execution_count": null,
   "id": "8d980a52-9ecc-41b8-a648-c0e6f4169dd7",
   "metadata": {},
   "outputs": [],
   "source": [
    "iter()"
   ]
  },
  {
   "cell_type": "markdown",
   "id": "971bcb09-bc78-49e7-a95f-e0f9ea23c422",
   "metadata": {},
   "source": [
    "iter() is trying to convert in a form of iterator then only it can be iterate one by one... so string is a iterable object but not an iterator bydefault  "
   ]
  },
  {
   "cell_type": "markdown",
   "id": "6e525d60-33a6-430b-b4cf-38ecdd29c407",
   "metadata": {},
   "source": [
    "to extract any kind of data it should be available in a form of iterator and to become a iterator it should be iterable object  "
   ]
  },
  {
   "cell_type": "markdown",
   "id": "ee41f7ea-0355-4de5-8b47-d74022d4b539",
   "metadata": {},
   "source": [
    "if not iterable may i convert into iterator ? no "
   ]
  },
  {
   "cell_type": "code",
   "execution_count": 33,
   "id": "c17bbf26-327a-45c8-b116-b3574f96c1be",
   "metadata": {},
   "outputs": [
    {
     "data": {
      "text/plain": [
       "<list_iterator at 0x7f12bddfa3e0>"
      ]
     },
     "execution_count": 33,
     "metadata": {},
     "output_type": "execute_result"
    }
   ],
   "source": [
    "s1=iter([1,2,3,4])"
   ]
  },
  {
   "cell_type": "code",
   "execution_count": 36,
   "id": "e87ea9c2-27d9-490c-9139-1b6659036b8a",
   "metadata": {},
   "outputs": [
    {
     "ename": "StopIteration",
     "evalue": "",
     "output_type": "error",
     "traceback": [
      "\u001b[0;31m---------------------------------------------------------------------------\u001b[0m",
      "\u001b[0;31mStopIteration\u001b[0m                             Traceback (most recent call last)",
      "Cell \u001b[0;32mIn[36], line 1\u001b[0m\n\u001b[0;32m----> 1\u001b[0m \u001b[38;5;28;43mnext\u001b[39;49m\u001b[43m(\u001b[49m\u001b[43ms1\u001b[49m\u001b[43m)\u001b[49m\n",
      "\u001b[0;31mStopIteration\u001b[0m: "
     ]
    }
   ],
   "source": [
    "next(s1)"
   ]
  },
  {
   "cell_type": "code",
   "execution_count": 37,
   "id": "d671e93d-a5ea-427f-8545-c24cd00c975d",
   "metadata": {},
   "outputs": [
    {
     "name": "stdout",
     "output_type": "stream",
     "text": [
      "2\n",
      "3\n",
      "4\n",
      "5\n"
     ]
    }
   ],
   "source": [
    "for i in [2,3,4,5]:\n",
    "    print(i)"
   ]
  },
  {
   "cell_type": "code",
   "execution_count": 38,
   "id": "5db78ecf-1092-4432-aac9-424bb212489a",
   "metadata": {},
   "outputs": [
    {
     "data": {
      "text/plain": [
       "<list_iterator at 0x7f12d79d8c10>"
      ]
     },
     "execution_count": 38,
     "metadata": {},
     "output_type": "execute_result"
    }
   ],
   "source": [
    "iter([2,3,4,5])"
   ]
  },
  {
   "cell_type": "code",
   "execution_count": 39,
   "id": "2df14940-7efe-4467-95a9-38920c024760",
   "metadata": {},
   "outputs": [],
   "source": [
    "l=iter([2,3,4,5])"
   ]
  },
  {
   "cell_type": "code",
   "execution_count": 40,
   "id": "0a66cedd-87ec-4e96-ab65-13475c9e2a56",
   "metadata": {},
   "outputs": [
    {
     "data": {
      "text/plain": [
       "2"
      ]
     },
     "execution_count": 40,
     "metadata": {},
     "output_type": "execute_result"
    }
   ],
   "source": [
    "next(l)"
   ]
  },
  {
   "cell_type": "code",
   "execution_count": 41,
   "id": "9e3259c1-fc7e-4edf-a566-9439314ad670",
   "metadata": {},
   "outputs": [
    {
     "data": {
      "text/plain": [
       "3"
      ]
     },
     "execution_count": 41,
     "metadata": {},
     "output_type": "execute_result"
    }
   ],
   "source": [
    "next(l)"
   ]
  },
  {
   "cell_type": "code",
   "execution_count": 42,
   "id": "4bea5480-67fb-4f80-b1a1-6c1b2dd80afd",
   "metadata": {},
   "outputs": [
    {
     "data": {
      "text/plain": [
       "4"
      ]
     },
     "execution_count": 42,
     "metadata": {},
     "output_type": "execute_result"
    }
   ],
   "source": [
    "next(l)"
   ]
  },
  {
   "cell_type": "code",
   "execution_count": 43,
   "id": "0f1b7d1f-e5b1-4b0e-8b6c-15bb729e38e1",
   "metadata": {},
   "outputs": [
    {
     "data": {
      "text/plain": [
       "5"
      ]
     },
     "execution_count": 43,
     "metadata": {},
     "output_type": "execute_result"
    }
   ],
   "source": [
    "next(l)"
   ]
  },
  {
   "cell_type": "code",
   "execution_count": 44,
   "id": "aa9e1913-a8de-4a1b-82d1-cc1aec6331f5",
   "metadata": {},
   "outputs": [
    {
     "ename": "StopIteration",
     "evalue": "",
     "output_type": "error",
     "traceback": [
      "\u001b[0;31m---------------------------------------------------------------------------\u001b[0m",
      "\u001b[0;31mStopIteration\u001b[0m                             Traceback (most recent call last)",
      "Cell \u001b[0;32mIn[44], line 1\u001b[0m\n\u001b[0;32m----> 1\u001b[0m \u001b[38;5;28;43mnext\u001b[39;49m\u001b[43m(\u001b[49m\u001b[43ml\u001b[49m\u001b[43m)\u001b[49m\n",
      "\u001b[0;31mStopIteration\u001b[0m: "
     ]
    }
   ],
   "source": [
    "next(l)"
   ]
  },
  {
   "cell_type": "code",
   "execution_count": 45,
   "id": "d063bbdb-6f06-41b5-9f63-a4754658b0ec",
   "metadata": {},
   "outputs": [
    {
     "ename": "TypeError",
     "evalue": "'int' object is not iterable",
     "output_type": "error",
     "traceback": [
      "\u001b[0;31m---------------------------------------------------------------------------\u001b[0m",
      "\u001b[0;31mTypeError\u001b[0m                                 Traceback (most recent call last)",
      "Cell \u001b[0;32mIn[45], line 1\u001b[0m\n\u001b[0;32m----> 1\u001b[0m \u001b[38;5;28;01mfor\u001b[39;00m i \u001b[38;5;129;01min\u001b[39;00m  \u001b[38;5;241m2023\u001b[39m:\n\u001b[1;32m      2\u001b[0m     \u001b[38;5;28mprint\u001b[39m(i)\n",
      "\u001b[0;31mTypeError\u001b[0m: 'int' object is not iterable"
     ]
    }
   ],
   "source": [
    "for i in  2023:\n",
    "    print(i)"
   ]
  },
  {
   "cell_type": "code",
   "execution_count": 47,
   "id": "e21707e3-3fa6-4629-96f0-4330b4df149c",
   "metadata": {},
   "outputs": [
    {
     "name": "stdout",
     "output_type": "stream",
     "text": [
      "2\n",
      "3\n",
      "4\n",
      "5\n",
      "56\n"
     ]
    }
   ],
   "source": [
    "for i in {2,3,4,5,56} :\n",
    "    print(i)"
   ]
  },
  {
   "cell_type": "code",
   "execution_count": 48,
   "id": "94860268-c2ea-4401-bae9-786d3bcfd86c",
   "metadata": {},
   "outputs": [
    {
     "data": {
      "text/plain": [
       "<set_iterator at 0x7f12bdbc4e80>"
      ]
     },
     "execution_count": 48,
     "metadata": {},
     "output_type": "execute_result"
    }
   ],
   "source": [
    "iter({2,3,4,5,56})"
   ]
  },
  {
   "cell_type": "code",
   "execution_count": 50,
   "id": "48b42fce-613b-40a6-95e2-37eba6bc2cce",
   "metadata": {},
   "outputs": [
    {
     "name": "stdout",
     "output_type": "stream",
     "text": [
      "2\n",
      "3\n",
      "4\n",
      "5\n",
      "56\n"
     ]
    }
   ],
   "source": [
    "for i in (2,3,4,5,56):\n",
    "    print(i)"
   ]
  },
  {
   "cell_type": "code",
   "execution_count": 51,
   "id": "af28a400-d007-472a-b04c-f9882980f7a2",
   "metadata": {},
   "outputs": [
    {
     "data": {
      "text/plain": [
       "<tuple_iterator at 0x7f12d79d8850>"
      ]
     },
     "execution_count": 51,
     "metadata": {},
     "output_type": "execute_result"
    }
   ],
   "source": [
    "iter((2,3,4,5,56))"
   ]
  },
  {
   "cell_type": "code",
   "execution_count": 52,
   "id": "a4fff8e6-d2df-475f-9c76-e391bbbbb555",
   "metadata": {},
   "outputs": [
    {
     "ename": "TypeError",
     "evalue": "'bool' object is not iterable",
     "output_type": "error",
     "traceback": [
      "\u001b[0;31m---------------------------------------------------------------------------\u001b[0m",
      "\u001b[0;31mTypeError\u001b[0m                                 Traceback (most recent call last)",
      "Cell \u001b[0;32mIn[52], line 1\u001b[0m\n\u001b[0;32m----> 1\u001b[0m \u001b[38;5;28;43miter\u001b[39;49m\u001b[43m(\u001b[49m\u001b[38;5;28;43;01mTrue\u001b[39;49;00m\u001b[43m)\u001b[49m\n",
      "\u001b[0;31mTypeError\u001b[0m: 'bool' object is not iterable"
     ]
    }
   ],
   "source": [
    "iter(True)"
   ]
  },
  {
   "cell_type": "code",
   "execution_count": 53,
   "id": "0189fabb-6fc3-4480-8976-f089b1684712",
   "metadata": {},
   "outputs": [
    {
     "data": {
      "text/plain": [
       "<dict_keyiterator at 0x7f12bdb87010>"
      ]
     },
     "execution_count": 53,
     "metadata": {},
     "output_type": "execute_result"
    }
   ],
   "source": [
    "iter({'key':\"fsdspro\"})"
   ]
  },
  {
   "cell_type": "code",
   "execution_count": 54,
   "id": "fc454497-8db2-416c-b772-aac727045151",
   "metadata": {},
   "outputs": [],
   "source": [
    "d=iter({'key':\"fsdspro\"})"
   ]
  },
  {
   "cell_type": "code",
   "execution_count": 55,
   "id": "fd05f22d-1a3a-4845-8733-50a69c7a8d98",
   "metadata": {},
   "outputs": [
    {
     "data": {
      "text/plain": [
       "'key'"
      ]
     },
     "execution_count": 55,
     "metadata": {},
     "output_type": "execute_result"
    }
   ],
   "source": [
    "next(d)"
   ]
  },
  {
   "cell_type": "markdown",
   "id": "af6a797d-33ba-4809-a0dc-f6378964a73f",
   "metadata": {},
   "source": [
    "Generator Function "
   ]
  },
  {
   "cell_type": "code",
   "execution_count": 57,
   "id": "d8f6918d-1499-4902-8685-ee057613d2de",
   "metadata": {},
   "outputs": [
    {
     "data": {
      "text/plain": [
       "[0, 1, 2, 3, 4]"
      ]
     },
     "execution_count": 57,
     "metadata": {},
     "output_type": "execute_result"
    }
   ],
   "source": [
    "list(range(0,5))"
   ]
  },
  {
   "cell_type": "markdown",
   "id": "8b307a46-993e-4491-9e05-cc76845b1d25",
   "metadata": {},
   "source": [
    "generator generates the data one by one by remembering last generated data "
   ]
  },
  {
   "cell_type": "code",
   "execution_count": 58,
   "id": "3e9be09e-90d3-4ecc-a50b-989d00d5173a",
   "metadata": {},
   "outputs": [
    {
     "name": "stdout",
     "output_type": "stream",
     "text": [
      "0\n",
      "1\n",
      "2\n",
      "3\n",
      "4\n"
     ]
    }
   ],
   "source": [
    "for i in range(0,5):\n",
    "    print(i)"
   ]
  },
  {
   "cell_type": "code",
   "execution_count": 62,
   "id": "ed744e8a-17e2-4340-b766-42a81d65443e",
   "metadata": {},
   "outputs": [],
   "source": [
    "i=iter(range(0,5))"
   ]
  },
  {
   "cell_type": "code",
   "execution_count": 63,
   "id": "aec3e49f-5ba1-4e29-bffd-137c29b0643e",
   "metadata": {},
   "outputs": [
    {
     "data": {
      "text/plain": [
       "0"
      ]
     },
     "execution_count": 63,
     "metadata": {},
     "output_type": "execute_result"
    }
   ],
   "source": [
    "next(i)"
   ]
  },
  {
   "cell_type": "code",
   "execution_count": 64,
   "id": "64ac8423-a8dc-4dc8-a000-bd30fe5ebeed",
   "metadata": {},
   "outputs": [
    {
     "data": {
      "text/plain": [
       "1"
      ]
     },
     "execution_count": 64,
     "metadata": {},
     "output_type": "execute_result"
    }
   ],
   "source": [
    "next(i)"
   ]
  },
  {
   "cell_type": "code",
   "execution_count": 65,
   "id": "b7d3093b-9a81-4bd4-87df-25c7b1720e6b",
   "metadata": {},
   "outputs": [
    {
     "data": {
      "text/plain": [
       "2"
      ]
     },
     "execution_count": 65,
     "metadata": {},
     "output_type": "execute_result"
    }
   ],
   "source": [
    "next(i)"
   ]
  },
  {
   "cell_type": "code",
   "execution_count": 66,
   "id": "4c11b565-99ef-4ab7-86a9-a6aa760a14c0",
   "metadata": {},
   "outputs": [
    {
     "data": {
      "text/plain": [
       "3"
      ]
     },
     "execution_count": 66,
     "metadata": {},
     "output_type": "execute_result"
    }
   ],
   "source": [
    "next(i)"
   ]
  },
  {
   "cell_type": "code",
   "execution_count": 67,
   "id": "86c2cf1c-5cc1-4d4c-ad4f-2bb90b91e12b",
   "metadata": {},
   "outputs": [
    {
     "data": {
      "text/plain": [
       "4"
      ]
     },
     "execution_count": 67,
     "metadata": {},
     "output_type": "execute_result"
    }
   ],
   "source": [
    "next(i)"
   ]
  },
  {
   "cell_type": "markdown",
   "id": "aead034a-09c8-4558-9a53-1d81a61aa938",
   "metadata": {},
   "source": [
    "Range is basically a iterable object "
   ]
  },
  {
   "cell_type": "markdown",
   "id": "c59f08a1-cabb-42d4-89a5-f005b4aee30c",
   "metadata": {},
   "source": [
    "How we can create a range like function "
   ]
  },
  {
   "cell_type": "code",
   "execution_count": 68,
   "id": "83ea5cad-761d-44f5-a728-81d347a31b91",
   "metadata": {},
   "outputs": [
    {
     "data": {
      "text/plain": [
       "range(0, 6)"
      ]
     },
     "execution_count": 68,
     "metadata": {},
     "output_type": "execute_result"
    }
   ],
   "source": [
    "range(0,6)"
   ]
  },
  {
   "cell_type": "code",
   "execution_count": 69,
   "id": "ecb481f3-3e7b-4573-9996-dca64ec8db0f",
   "metadata": {},
   "outputs": [
    {
     "data": {
      "text/plain": [
       "4"
      ]
     },
     "execution_count": 69,
     "metadata": {},
     "output_type": "execute_result"
    }
   ],
   "source": [
    "len(\"sudh\")"
   ]
  },
  {
   "cell_type": "markdown",
   "id": "68f55da7-9954-4930-a53a-7b12f4d84f17",
   "metadata": {},
   "source": [
    "range is a kind of a generator function means generate the data one by one "
   ]
  },
  {
   "cell_type": "markdown",
   "id": "582e8b35-d58b-4a5e-8e7c-5aed09ffb254",
   "metadata": {},
   "source": [
    "Ques:What is total number which is from one range to another range? "
   ]
  },
  {
   "cell_type": "code",
   "execution_count": 70,
   "id": "07a8f85f-8330-494e-a4a1-3390d9c5944d",
   "metadata": {},
   "outputs": [],
   "source": [
    "def count_fun(n):\n",
    "    i=1\n",
    "    while i<=n:\n",
    "        yield i\n",
    "        i=i+1"
   ]
  },
  {
   "cell_type": "code",
   "execution_count": 71,
   "id": "ce07d4ac-99f7-40be-843f-4d2c3bb97e29",
   "metadata": {},
   "outputs": [
    {
     "data": {
      "text/plain": [
       "<generator object count_fun at 0x7f12bdb23370>"
      ]
     },
     "execution_count": 71,
     "metadata": {},
     "output_type": "execute_result"
    }
   ],
   "source": [
    "count_fun(6)"
   ]
  },
  {
   "cell_type": "code",
   "execution_count": 75,
   "id": "a4f3d09b-3439-4603-bf5f-e7982ead4d79",
   "metadata": {},
   "outputs": [
    {
     "name": "stdout",
     "output_type": "stream",
     "text": [
      "1\n",
      "2\n",
      "3\n",
      "4\n",
      "5\n",
      "6\n",
      "7\n",
      "8\n",
      "9\n"
     ]
    }
   ],
   "source": [
    "for i in count_fun(9):\n",
    "    print(i)"
   ]
  },
  {
   "cell_type": "code",
   "execution_count": 76,
   "id": "0daed2ca-3e2c-4a13-b17a-5838d214c569",
   "metadata": {},
   "outputs": [],
   "source": [
    "j= iter(count_fun(9))"
   ]
  },
  {
   "cell_type": "code",
   "execution_count": 77,
   "id": "cd411c57-7bb1-4b3e-85ef-c0103c79047e",
   "metadata": {},
   "outputs": [
    {
     "data": {
      "text/plain": [
       "<generator object count_fun at 0x7f12bdb23680>"
      ]
     },
     "execution_count": 77,
     "metadata": {},
     "output_type": "execute_result"
    }
   ],
   "source": [
    "j"
   ]
  },
  {
   "cell_type": "code",
   "execution_count": 78,
   "id": "8205b52d-92b1-4b07-9cfa-62616cb8d098",
   "metadata": {},
   "outputs": [
    {
     "data": {
      "text/plain": [
       "1"
      ]
     },
     "execution_count": 78,
     "metadata": {},
     "output_type": "execute_result"
    }
   ],
   "source": [
    "next(j)"
   ]
  },
  {
   "cell_type": "code",
   "execution_count": 79,
   "id": "66e648bc-ac26-498b-b2d1-b13422a7ddf9",
   "metadata": {},
   "outputs": [
    {
     "data": {
      "text/plain": [
       "2"
      ]
     },
     "execution_count": 79,
     "metadata": {},
     "output_type": "execute_result"
    }
   ],
   "source": [
    "next(j)"
   ]
  },
  {
   "cell_type": "code",
   "execution_count": 80,
   "id": "3354ea9b-5b93-49fe-8f1d-6159ea9ee15f",
   "metadata": {},
   "outputs": [
    {
     "data": {
      "text/plain": [
       "3"
      ]
     },
     "execution_count": 80,
     "metadata": {},
     "output_type": "execute_result"
    }
   ],
   "source": [
    "next(j)"
   ]
  },
  {
   "cell_type": "markdown",
   "id": "be6a4df0-7b3e-4224-82c7-620a7578652c",
   "metadata": {},
   "source": [
    "It almosts behaving similar to range() function "
   ]
  },
  {
   "cell_type": "markdown",
   "id": "a01998d2-4288-4ac2-bc6b-26db58be910b",
   "metadata": {},
   "source": [
    "yielding a data when u are going to call your respective object "
   ]
  },
  {
   "cell_type": "markdown",
   "id": "440101c8-72f5-4dcc-b061-c8fd5a934041",
   "metadata": {},
   "source": [
    "return will always try to return a data from a particular function just once then it will be done so if i have to write in terms of return then .."
   ]
  },
  {
   "cell_type": "code",
   "execution_count": 81,
   "id": "bb23deb5-12ef-4692-b970-212b7d228bcf",
   "metadata": {},
   "outputs": [],
   "source": [
    "def count_fun(n):\n",
    "    i=1\n",
    "    while i<=n:\n",
    "        return i\n",
    "        i=i+1"
   ]
  },
  {
   "cell_type": "code",
   "execution_count": 82,
   "id": "2eab984f-a269-4c4a-89e0-dedab4914e26",
   "metadata": {},
   "outputs": [
    {
     "data": {
      "text/plain": [
       "1"
      ]
     },
     "execution_count": 82,
     "metadata": {},
     "output_type": "execute_result"
    }
   ],
   "source": [
    "count_fun(5)"
   ]
  },
  {
   "cell_type": "code",
   "execution_count": 83,
   "id": "fdf95968-c661-4f95-979d-4b7ec559cf05",
   "metadata": {},
   "outputs": [],
   "source": [
    "def count_fun(n):\n",
    "    i=1\n",
    "    while i<=n:\n",
    "        \n",
    "        i=i+1\n",
    "    return i    "
   ]
  },
  {
   "cell_type": "code",
   "execution_count": 84,
   "id": "d3d3f1e1-843c-4562-b390-81dfcc77b0b7",
   "metadata": {},
   "outputs": [
    {
     "data": {
      "text/plain": [
       "6"
      ]
     },
     "execution_count": 84,
     "metadata": {},
     "output_type": "execute_result"
    }
   ],
   "source": [
    "count_fun(5)"
   ]
  },
  {
   "cell_type": "code",
   "execution_count": 7,
   "id": "4a2a263c-3407-417c-b14c-16696129b28b",
   "metadata": {},
   "outputs": [],
   "source": [
    "def count_fun1(n):\n",
    "    i=1\n",
    "    l=[]\n",
    "    while i<=n:\n",
    "        l.append(i)\n",
    "        i=i+1\n",
    "    return l"
   ]
  },
  {
   "cell_type": "code",
   "execution_count": 9,
   "id": "33dbd1bb-e1ff-4e25-8852-4645b130de20",
   "metadata": {},
   "outputs": [
    {
     "data": {
      "text/plain": [
       "[1,\n",
       " 2,\n",
       " 3,\n",
       " 4,\n",
       " 5,\n",
       " 6,\n",
       " 7,\n",
       " 8,\n",
       " 9,\n",
       " 10,\n",
       " 11,\n",
       " 12,\n",
       " 13,\n",
       " 14,\n",
       " 15,\n",
       " 16,\n",
       " 17,\n",
       " 18,\n",
       " 19,\n",
       " 20,\n",
       " 21,\n",
       " 22,\n",
       " 23,\n",
       " 24,\n",
       " 25,\n",
       " 26,\n",
       " 27,\n",
       " 28,\n",
       " 29,\n",
       " 30,\n",
       " 31,\n",
       " 32,\n",
       " 33,\n",
       " 34,\n",
       " 35,\n",
       " 36,\n",
       " 37,\n",
       " 38,\n",
       " 39,\n",
       " 40,\n",
       " 41,\n",
       " 42,\n",
       " 43,\n",
       " 44,\n",
       " 45,\n",
       " 46,\n",
       " 47,\n",
       " 48,\n",
       " 49,\n",
       " 50]"
      ]
     },
     "execution_count": 9,
     "metadata": {},
     "output_type": "execute_result"
    }
   ],
   "source": [
    "count_fun1(50)"
   ]
  },
  {
   "cell_type": "code",
   "execution_count": 1,
   "id": "11f39f4b-77f6-46e9-a24d-7ef375972c41",
   "metadata": {},
   "outputs": [],
   "source": [
    "def count_fun(n):\n",
    "    i=1\n",
    "    while i<=n:\n",
    "        yield i\n",
    "        i=i+1"
   ]
  },
  {
   "cell_type": "code",
   "execution_count": 3,
   "id": "99ba7d1d-d9e6-4410-b7e5-d3122dd80f0a",
   "metadata": {},
   "outputs": [
    {
     "name": "stdout",
     "output_type": "stream",
     "text": [
      "1\n",
      "2\n",
      "3\n",
      "4\n",
      "5\n",
      "6\n",
      "7\n",
      "8\n",
      "9\n",
      "10\n",
      "11\n",
      "12\n",
      "13\n",
      "14\n",
      "15\n",
      "16\n",
      "17\n",
      "18\n",
      "19\n",
      "20\n",
      "21\n",
      "22\n",
      "23\n",
      "24\n",
      "25\n",
      "26\n",
      "27\n",
      "28\n",
      "29\n",
      "30\n",
      "31\n",
      "32\n",
      "33\n",
      "34\n",
      "35\n",
      "36\n",
      "37\n",
      "38\n",
      "39\n",
      "40\n",
      "41\n",
      "42\n",
      "43\n",
      "44\n",
      "45\n",
      "46\n",
      "47\n",
      "48\n",
      "49\n",
      "50\n"
     ]
    }
   ],
   "source": [
    "for i in count_fun(50):\n",
    "    print(i)"
   ]
  },
  {
   "cell_type": "code",
   "execution_count": 10,
   "id": "1dfbfde8-5d38-4d0a-af23-6ee859e3be6d",
   "metadata": {},
   "outputs": [
    {
     "data": {
      "text/plain": [
       "[1, 2, 3, 4, 5]"
      ]
     },
     "execution_count": 10,
     "metadata": {},
     "output_type": "execute_result"
    }
   ],
   "source": [
    "count_fun1(5)"
   ]
  },
  {
   "cell_type": "code",
   "execution_count": 1,
   "id": "7a2b8720-7991-46d5-914e-44350f37b7cf",
   "metadata": {},
   "outputs": [],
   "source": [
    "def fib(n):\n",
    "    a,b=0,1\n",
    "    for i in range(n):\n",
    "        yield a\n",
    "        a,b=b,a+b"
   ]
  },
  {
   "cell_type": "code",
   "execution_count": 2,
   "id": "b2bd51c4-1473-40a7-9359-b35a56e23e2c",
   "metadata": {},
   "outputs": [
    {
     "name": "stdout",
     "output_type": "stream",
     "text": [
      "0\n",
      "1\n",
      "1\n",
      "2\n",
      "3\n"
     ]
    }
   ],
   "source": [
    "for i in fib(5):\n",
    "    print(i)"
   ]
  },
  {
   "cell_type": "code",
   "execution_count": 3,
   "id": "47f6abe0-3fdd-4063-9d01-6a9668581648",
   "metadata": {},
   "outputs": [
    {
     "name": "stdout",
     "output_type": "stream",
     "text": [
      " 02_assign.ipynb            PYTHON03.ipynb            Untitled12.ipynb\n",
      " 02_PYTHON.ipynb            PYTHON04.ipynb            Untitled13.ipynb\n",
      " 03_class1.ipynb            PYTHON05.ipynb            Untitled14.ipynb\n",
      " 04_python.ipynb            PYTHON06.ipynb            Untitled15.ipynb\n",
      " ATUL.txt                   PYTHON07.ipynb            Untitled16.ipynb\n",
      " class1.ipynb               PYTHON08.ipynb            Untitled17.ipynb\n",
      " code_soft.ipynb            pythonbasic.ipynb         Untitled18.ipynb\n",
      " condi_state_loops.ipynb    python_for_loop.ipynb     Untitled19.ipynb\n",
      " exception_handling.ipynb   PYTHON_FUNCTION01.ipynb   Untitled1.ipynb\n",
      " FSDSASSIGNMENT2.ipynb      README.md                 Untitled2.ipynb\n",
      " FSDSPRO02.ipynb            reduce_filter_rec.ipynb   Untitled3.ipynb\n",
      " FSDSPRO1.ipynb             REVISION01.ipynb          Untitled4.ipynb\n",
      " FSDSPRO3.ipynb             REVISION02.ipynb          Untitled5.ipynb\n",
      " FSDSPRO4.ipynb             REVISION03.ipynb          Untitled6.ipynb\n",
      " FSDSPRO5.ipynb             REVISION04.ipynb          Untitled7.ipynb\n",
      " FSDSPRO6.ipynb             sample-code.ipynb         Untitled8.ipynb\n",
      " FUNCTION02LAMBDA.ipynb     SOFTSKILLS.ipynb          Untitled9.ipynb\n",
      " py_lambda_fun.ipynb        text.txt                 \u001b[0m\u001b[01;34m'Untitled Folder'\u001b[0m/\n",
      " PYTHON01.ipynb             Untitled10.ipynb          Untitled.ipynb\n",
      " PYTHON02.ipynb             Untitled11.ipynb          while_loop_break.ipynb\n"
     ]
    }
   ],
   "source": [
    "ls"
   ]
  },
  {
   "cell_type": "code",
   "execution_count": 4,
   "id": "a43ab211-d232-4b04-9a48-86bb6006f51b",
   "metadata": {},
   "outputs": [
    {
     "data": {
      "text/plain": [
       "'/home/jovyan/work'"
      ]
     },
     "execution_count": 4,
     "metadata": {},
     "output_type": "execute_result"
    }
   ],
   "source": [
    "pwd"
   ]
  },
  {
   "cell_type": "code",
   "execution_count": 5,
   "id": "1693a3cc-a911-4e69-984f-595128193988",
   "metadata": {},
   "outputs": [
    {
     "data": {
      "text/plain": [
       "<_io.TextIOWrapper name='ATUL.txt' mode='r' encoding='UTF-8'>"
      ]
     },
     "execution_count": 5,
     "metadata": {},
     "output_type": "execute_result"
    }
   ],
   "source": [
    "open('ATUL.txt')"
   ]
  },
  {
   "cell_type": "code",
   "execution_count": 6,
   "id": "a2db68c2-e943-4bc3-8bd8-a90d04ca7972",
   "metadata": {},
   "outputs": [
    {
     "name": "stdout",
     "output_type": "stream",
     "text": [
      "From Wikipedia, the free encyclopedia\n",
      "\n",
      "For the parent company with the stock tickers GOOG and GOOGL, see Alphabet Inc.\n",
      "\n",
      "This article is about the company. For the search engine provided by the company, see Google Search. For other uses, see Google (disambiguation).\n",
      "\n",
      "Google LLC\n",
      "\n",
      "Each letter of \"Google\" is colored (from left to right) in blue, red, yellow, blue, green, and red.\n",
      "\n",
      "The Google logo used since 2015\n",
      "\n",
      "\n",
      "\n",
      "Google's headquarters, the Googleplex\n",
      "\n",
      "Formerly\tGoogle Inc. (1998–2017)\n",
      "\n",
      "Type\tSubsidiary\n",
      "\n",
      "Traded as\tNASDAQ: GOOGL, GOOG\n",
      "\n",
      "Industry\t\n",
      "\n",
      "Internet\n",
      "\n",
      "Cloud computing\n",
      "\n",
      "Computer software\n",
      "\n",
      "Computer hardware\n",
      "\n",
      "Artificial intelligence\n",
      "\n",
      "Advertising\n",
      "\n",
      "Founded\tSeptember 4, 1998; 25 years ago[a] in Menlo Park, California, United States\n",
      "\n",
      "Founders\t\n",
      "\n",
      "Larry Page\n",
      "\n",
      "Sergey Brin\n",
      "\n",
      "Headquarters\tGoogleplex, Mountain View, California, U.S.\n",
      "\n",
      "Area served\tWorldwide\n",
      "\n",
      "Key people\t\n",
      "\n",
      "Sundar Pichai (CEO)\n",
      "\n",
      "Ruth Porat (CFO)\n",
      "\n",
      "Thomas Kurian (CEO of Google Cloud)\n",
      "\n",
      "Products\t\n",
      "\n",
      "Search\n",
      "\n",
      "Workspace\n",
      "\n",
      "Android\n",
      "\n",
      "Waze\n",
      "\n",
      "Pixel\n",
      "\n",
      "Nest\n",
      "\n",
      "Full list\n",
      "\n",
      "Number of employees\t139,995 (2021) \n",
      "\n",
      "Parent\tAlphabet Inc.\n",
      "\n",
      "Subsidiaries\t\n",
      "\n",
      "Adscape\n",
      "\n",
      "Android\n",
      "\n",
      "DeepMind\n",
      "\n",
      "Endoxon\n",
      "\n",
      "FeedBurner\n",
      "\n",
      "Fitbit\n",
      "\n",
      "ImageAmerica\n",
      "\n",
      "Kaltix\n",
      "\n",
      "Nest Labs\n",
      "\n",
      "YouTube\n",
      "\n",
      "ZipDash\n",
      "\n",
      "X Development\n",
      "\n",
      "ASN\t\n",
      "\n",
      "15169\n",
      "\n",
      "Website\tabout.google\n",
      "\n",
      "Footnotes / references\n",
      "\n",
      "[5][6][7][8]\n",
      "\n",
      "Eric Schmidt, Sergey Brin, and Larry Page sitting together\n",
      "\n",
      "Then Chairman and CEO Eric Schmidt (left) with co-founders Sergey Brin (center) and Larry Page (right) in 2008\n",
      "\n",
      "Google LLC (/ˈɡuːɡəl/ ⓘ) is an American multinational technology company focusing on artificial intelligence,[9] online advertising, search engine technology, cloud computing, computer software, quantum computing, e-commerce, and consumer electronics. It has been referred to as \"the most powerful company in the world\"[10] and as one of the world's most valuable brands due to its market dominance, data collection, and technological advantages in the field of artificial intelligence.[11][12][13] Google's parent company Alphabet Inc. is one of the five Big Tech companies, alongside Amazon, Apple Inc., Meta, and Microsoft.\n",
      "\n",
      "\n",
      "\n",
      "Google was founded on September 4, 1998, by American computer scientists Larry Page and Sergey Brin while they were PhD students at Stanford University in California. Together they own about 14% of its publicly listed shares and control 56% of its stockholder voting power through super-voting stock. The company went public via an initial public offering (IPO) in 2004. In 2015, Google was reorganized as a wholly owned subsidiary of Alphabet Inc. Google is Alphabet's largest subsidiary and is a holding company for Alphabet's internet properties and interests. Sundar Pichai was appointed CEO of Google on October 24, 2015, replacing Larry Page, who became the CEO of Alphabet. On December 3, 2019, Pichai also became the CEO of Alphabet.[14]\n",
      "\n",
      "\n",
      "\n",
      "The company has since rapidly grown to offer a multitude of products and services beyond Google Search, many of which hold dominant market positions. These products address a wide range of use cases, including email (Gmail), navigation (Waze & Maps), cloud computing (Cloud), web browsing (Chrome), video sharing (YouTube), productivity (Workspace), operating systems (Android), cloud storage (Drive), language translation (Translate), photo storage (Photos), video calling (Meet), smart home (Nest), smartphones (Pixel), wearable technology (Pixel Watch & Fitbit), music streaming (YouTube Music), video on demand (YouTube TV), artificial intelligence (Google Assistant & Bard), machine learning APIs (TensorFlow), AI chips (TPU), and more. Discontinued Google products include gaming (Stadia), Glass, Google+, Reader, Play Music, Nexus, Hangouts, and Inbox by Gmail.[15][16]\n",
      "\n",
      "\n",
      "\n",
      "Google's other ventures outside of Internet services and consumer electronics include quantum computing (Sycamore), self-driving cars (Waymo, formerly the Google Self-Driving Car Project), smart cities (Sidewalk Labs), and transformer models (Google Deepmind).[17]\n",
      "\n",
      "\n",
      "\n",
      "Google and YouTube are the two most visited websites worldwide followed by Facebook and X (formerly known as Twitter). Google is also the largest search engine, mapping and navigation application, email provider, office suite, video sharing platform, photo and cloud storage provider, mobile operating system, web browser, ML framework, and AI virtual assistant provider in the world as measured by market share.[18] On the list of most valuable brands, Google is ranked second by Forbes[19] and fourth by Interbrand.[20] It has received significant criticism involving issues such as privacy concerns, tax avoidance, censorship, search neutrality, antitrust and abuse of its monopoly position.\n",
      "\n",
      "\n",
      "\n",
      "History\n",
      "\n",
      "Main articles: History of Google and List of mergers and acquisitions by Alphabet\n",
      "\n",
      "See also: Alphabet Inc.\n",
      "\n",
      "Early years\n",
      "\n",
      "\n",
      "\n",
      "Larry Page and Sergey Brin in 2003\n",
      "\n",
      "Google began in January 1996 as a research project by Larry Page and Sergey Brin when they were both PhD students at Stanford University in California.[21][22][23] The project initially involved an unofficial \"third founder\", Scott Hassan, the original lead programmer who wrote much of the code for the original Google Search engine, but he left before Google was officially founded as a company;[24][25] Hassan went on to pursue a career in robotics and founded the company Willow Garage in 2006.[26][27]\n",
      "\n",
      "\n",
      "\n",
      "While conventional search engines ranked results by counting how many times the search terms appeared on the page, they theorized about a better system that analyzed the relationships among websites.[28] They called this algorithm PageRank; it determined a website's relevance by the number of pages, and the importance of those pages that linked back to the original site.[29][30] Page told his ideas to Hassan, who began writing the code to implement Page's ideas.[24]\n",
      "\n",
      "\n",
      "\n",
      "Page and Brin originally nicknamed the new search engine \"BackRub\", because the system checked backlinks to estimate the importance of a site.[21][31][32] Hassan as well as Alan Steremberg were cited by Page and Brin as being critical to the development of Google. Rajeev Motwani and Terry Winograd later co-authored with Page and Brin the first paper about the project, describing PageRank and the initial prototype of the Google search engine, published in 1998. Héctor García-Molina and Jeff Ullman were also cited as contributors to the project.[33] PageRank was influenced by a similar page-ranking and site-scoring algorithm earlier used for RankDex, developed by Robin Li in 1996, with Larry Page's PageRank patent including a citation to Li's earlier RankDex patent; Li later went on to create the Chinese search engine Baidu.[34][35]\n",
      "\n",
      "\n",
      "\n",
      "Eventually, they changed the name to Google; the name of the search engine was a misspelling of the word googol,[21][36][37] a very large number written 10100 (1 followed by 100 zeros), picked to signify that the search engine was intended to provide large quantities of information.[38]\n",
      "\n",
      "\n",
      "\n",
      "Google's homepage in 1998\n",
      "\n",
      "Google's original homepage had a simple design because the company founders had little experience in HTML, the markup language used for designing web pages.[39]\n",
      "\n",
      "Google was initially funded by an August 1998 investment of $100,000 from Andy Bechtolsheim,[21] co-founder of Sun Microsystems. This initial investment served as a motivation to incorporate the company to be able to use the funds.[40][41] Page and Brin initially approached David Cheriton for advice because he had a nearby office in Stanford, and they knew he had startup experience, having recently sold the company he co-founded, Granite Systems, to Cisco for $220 million. David arranged a meeting with Page and Brin and his Granite co-founder Andy Bechtolsheim. The meeting was set for 8 a.m. at the front porch of David's home in Palo Alto and it had to be brief because Andy had another meeting at Cisco, where he now worked after the acquisition, at 9 a.m. Andy briefly tested a demo of the website, liked what he saw, and then went back to his car to grab the check. David Cheriton later also joined in with a $250,000 investment.[42][43]\n",
      "\n",
      "\n",
      "\n",
      "Google received money from two other angel investors in 1998: Amazon.com founder Jeff Bezos, and entrepreneur Ram Shriram.[44] Page and Brin had first approached Shriram, who was a venture capitalist, for funding and counsel, and Shriram invested $250,000 in Google in February 1998. Shriram knew Bezos because Amazon had acquired Junglee, at which Shriram was the president. It was Shriram who told Bezos about Google. Bezos asked Shriram to meet Google's founders and they met six months after Shriram had made his investment when Bezos and his wife were on a vacation trip to the Bay Area. Google's initial funding round had already formally closed but Bezos' status as CEO of Amazon was enough to persuade Page and Brin to extend the round and accept his investment.[45][46]\n",
      "\n",
      "\n",
      "\n",
      "Between these initial investors, friends, and family Google raised around $1,000,000, which is what allowed them to open up their original shop in Menlo Park, California.[47] Craig Silverstein, a fellow PhD student at Stanford, was hired as the first employee.[23][48][49]\n",
      "\n",
      "\n",
      "\n",
      "After some additional, small investments through the end of 1998 to early 1999,[44] a new $25 million round of funding was announced on June 7, 1999,[50] with major investors including the venture capital firms Kleiner Perkins and Sequoia Capital.[41] Both firms were initially reticent about investing jointly in Google, as each wanted to retain a larger percentage of control over the company to themselves. Larry and Sergey however insisted in taking investments from both. Both venture companies finally agreed to investing jointly $12.5 million each due to their belief in Google's great potential and through the mediation of earlier angel investors Ron Conway and Ram Shriram who had contacts in the venture companies.[51]\n",
      "\n",
      "\n",
      "\n",
      "Growth\n",
      "\n",
      "In March 1999, the company moved its offices to Palo Alto, California,[52] which is home to several prominent Silicon Valley technology start-ups.[53] The next year, Google began selling advertisements associated with search keywords against Page and Brin's initial opposition toward an advertising-funded search engine.[54][23] To maintain an uncluttered page design, advertisements were solely text-based.[55] In June 2000, it was announced that Google would become the default search engine provider for Yahoo!, one of the most popular websites at the time, replacing Inktomi.[56][57]\n",
      "\n",
      "\n",
      "\n",
      "Google's first servers, showing lots of exposed wiring and circuit boards\n",
      "\n",
      "Google's first production server[58]\n",
      "\n",
      "In 2003, after outgrowing two other locations, the company leased an office complex from Silicon Graphics, at 1600 Amphitheatre Parkway in Mountain View, California.[59] The complex became known as the Googleplex, a play on the word googolplex, the number one followed by a googol of zeroes. Three years later, Google bought the property from SGI for $319 million.[60] By that time, the name \"Google\" had found its way into everyday language, causing the verb \"google\" to be added to the Merriam-Webster Collegiate Dictionary and the Oxford English Dictionary, denoted as: \"to use the Google search engine to obtain information on the Internet\".[61][62] The first use of the verb on television appeared in an October 2002 episode of Buffy the Vampire Slayer.[63]\n",
      "\n",
      "\n",
      "\n",
      "Additionally, in 2001 Google's investors felt the need to have a strong internal management, and they agreed to hire Eric Schmidt as the chairman and CEO of Google.[47] Eric was proposed by John Doerr from Kleiner Perkins. He had been trying to find a CEO that Sergey and Larry would accept for several months, but they rejected several candidates because they wanted to retain control over the company. Michael Moritz from Sequoia Capital at one point even menaced requesting Google to immediately pay back Sequoia's $12.5m investment if they did not fulfill their promise to hire a chief executive officer, which had been made verbally during investment negotiations. Eric was not initially enthusiastic about joining Google either, as the company's full potential had not yet been widely recognized at the time, and as he was occupied with his responsibilities at Novell where he was CEO. As part of him joining, Eric agreed to buy $1 million of Google preferred stocks as a way to show his commitment and to provide funds Google needed.[64]\n"
     ]
    }
   ],
   "source": [
    "for i in open('ATUL.txt'):\n",
    "    print(i)"
   ]
  },
  {
   "cell_type": "code",
   "execution_count": 7,
   "id": "c6d45bce-73df-496b-bdf3-d439f401ce12",
   "metadata": {},
   "outputs": [],
   "source": [
    "def read_file(file_name):\n",
    "    with open(file_name) as file :\n",
    "        for i in file:\n",
    "            yield i\n",
    "        "
   ]
  },
  {
   "cell_type": "code",
   "execution_count": 8,
   "id": "58da3581-9056-4ee9-b214-de7fbf03dd89",
   "metadata": {},
   "outputs": [
    {
     "data": {
      "text/plain": [
       "<generator object read_file at 0x7f4373c19b60>"
      ]
     },
     "execution_count": 8,
     "metadata": {},
     "output_type": "execute_result"
    }
   ],
   "source": [
    "read_file('ATUL.txt')"
   ]
  },
  {
   "cell_type": "code",
   "execution_count": 11,
   "id": "aa100832-70de-4f78-a4c7-0401ba0c1604",
   "metadata": {},
   "outputs": [
    {
     "name": "stdout",
     "output_type": "stream",
     "text": [
      "From Wikipedia, the free encyclopedia\n",
      "\n",
      "For the parent company with the stock tickers GOOG and GOOGL, see Alphabet Inc.\n",
      "\n",
      "This article is about the company. For the search engine provided by the company, see Google Search. For other uses, see Google (disambiguation).\n",
      "\n",
      "Google LLC\n",
      "\n",
      "Each letter of \"Google\" is colored (from left to right) in blue, red, yellow, blue, green, and red.\n",
      "\n",
      "The Google logo used since 2015\n",
      "\n",
      "\n",
      "\n",
      "Google's headquarters, the Googleplex\n",
      "\n",
      "Formerly\tGoogle Inc. (1998–2017)\n",
      "\n",
      "Type\tSubsidiary\n",
      "\n",
      "Traded as\tNASDAQ: GOOGL, GOOG\n",
      "\n",
      "Industry\t\n",
      "\n",
      "Internet\n",
      "\n",
      "Cloud computing\n",
      "\n",
      "Computer software\n",
      "\n",
      "Computer hardware\n",
      "\n",
      "Artificial intelligence\n",
      "\n",
      "Advertising\n",
      "\n",
      "Founded\tSeptember 4, 1998; 25 years ago[a] in Menlo Park, California, United States\n",
      "\n",
      "Founders\t\n",
      "\n",
      "Larry Page\n",
      "\n",
      "Sergey Brin\n",
      "\n",
      "Headquarters\tGoogleplex, Mountain View, California, U.S.\n",
      "\n",
      "Area served\tWorldwide\n",
      "\n",
      "Key people\t\n",
      "\n",
      "Sundar Pichai (CEO)\n",
      "\n",
      "Ruth Porat (CFO)\n",
      "\n",
      "Thomas Kurian (CEO of Google Cloud)\n",
      "\n",
      "Products\t\n",
      "\n",
      "Search\n",
      "\n",
      "Workspace\n",
      "\n",
      "Android\n",
      "\n",
      "Waze\n",
      "\n",
      "Pixel\n",
      "\n",
      "Nest\n",
      "\n",
      "Full list\n",
      "\n",
      "Number of employees\t139,995 (2021) \n",
      "\n",
      "Parent\tAlphabet Inc.\n",
      "\n",
      "Subsidiaries\t\n",
      "\n",
      "Adscape\n",
      "\n",
      "Android\n",
      "\n",
      "DeepMind\n",
      "\n",
      "Endoxon\n",
      "\n",
      "FeedBurner\n",
      "\n",
      "Fitbit\n",
      "\n",
      "ImageAmerica\n",
      "\n",
      "Kaltix\n",
      "\n",
      "Nest Labs\n",
      "\n",
      "YouTube\n",
      "\n",
      "ZipDash\n",
      "\n",
      "X Development\n",
      "\n",
      "ASN\t\n",
      "\n",
      "15169\n",
      "\n",
      "Website\tabout.google\n",
      "\n",
      "Footnotes / references\n",
      "\n",
      "[5][6][7][8]\n",
      "\n",
      "Eric Schmidt, Sergey Brin, and Larry Page sitting together\n",
      "\n",
      "Then Chairman and CEO Eric Schmidt (left) with co-founders Sergey Brin (center) and Larry Page (right) in 2008\n",
      "\n",
      "Google LLC (/ˈɡuːɡəl/ ⓘ) is an American multinational technology company focusing on artificial intelligence,[9] online advertising, search engine technology, cloud computing, computer software, quantum computing, e-commerce, and consumer electronics. It has been referred to as \"the most powerful company in the world\"[10] and as one of the world's most valuable brands due to its market dominance, data collection, and technological advantages in the field of artificial intelligence.[11][12][13] Google's parent company Alphabet Inc. is one of the five Big Tech companies, alongside Amazon, Apple Inc., Meta, and Microsoft.\n",
      "\n",
      "\n",
      "\n",
      "Google was founded on September 4, 1998, by American computer scientists Larry Page and Sergey Brin while they were PhD students at Stanford University in California. Together they own about 14% of its publicly listed shares and control 56% of its stockholder voting power through super-voting stock. The company went public via an initial public offering (IPO) in 2004. In 2015, Google was reorganized as a wholly owned subsidiary of Alphabet Inc. Google is Alphabet's largest subsidiary and is a holding company for Alphabet's internet properties and interests. Sundar Pichai was appointed CEO of Google on October 24, 2015, replacing Larry Page, who became the CEO of Alphabet. On December 3, 2019, Pichai also became the CEO of Alphabet.[14]\n",
      "\n",
      "\n",
      "\n",
      "The company has since rapidly grown to offer a multitude of products and services beyond Google Search, many of which hold dominant market positions. These products address a wide range of use cases, including email (Gmail), navigation (Waze & Maps), cloud computing (Cloud), web browsing (Chrome), video sharing (YouTube), productivity (Workspace), operating systems (Android), cloud storage (Drive), language translation (Translate), photo storage (Photos), video calling (Meet), smart home (Nest), smartphones (Pixel), wearable technology (Pixel Watch & Fitbit), music streaming (YouTube Music), video on demand (YouTube TV), artificial intelligence (Google Assistant & Bard), machine learning APIs (TensorFlow), AI chips (TPU), and more. Discontinued Google products include gaming (Stadia), Glass, Google+, Reader, Play Music, Nexus, Hangouts, and Inbox by Gmail.[15][16]\n",
      "\n",
      "\n",
      "\n",
      "Google's other ventures outside of Internet services and consumer electronics include quantum computing (Sycamore), self-driving cars (Waymo, formerly the Google Self-Driving Car Project), smart cities (Sidewalk Labs), and transformer models (Google Deepmind).[17]\n",
      "\n",
      "\n",
      "\n",
      "Google and YouTube are the two most visited websites worldwide followed by Facebook and X (formerly known as Twitter). Google is also the largest search engine, mapping and navigation application, email provider, office suite, video sharing platform, photo and cloud storage provider, mobile operating system, web browser, ML framework, and AI virtual assistant provider in the world as measured by market share.[18] On the list of most valuable brands, Google is ranked second by Forbes[19] and fourth by Interbrand.[20] It has received significant criticism involving issues such as privacy concerns, tax avoidance, censorship, search neutrality, antitrust and abuse of its monopoly position.\n",
      "\n",
      "\n",
      "\n",
      "History\n",
      "\n",
      "Main articles: History of Google and List of mergers and acquisitions by Alphabet\n",
      "\n",
      "See also: Alphabet Inc.\n",
      "\n",
      "Early years\n",
      "\n",
      "\n",
      "\n",
      "Larry Page and Sergey Brin in 2003\n",
      "\n",
      "Google began in January 1996 as a research project by Larry Page and Sergey Brin when they were both PhD students at Stanford University in California.[21][22][23] The project initially involved an unofficial \"third founder\", Scott Hassan, the original lead programmer who wrote much of the code for the original Google Search engine, but he left before Google was officially founded as a company;[24][25] Hassan went on to pursue a career in robotics and founded the company Willow Garage in 2006.[26][27]\n",
      "\n",
      "\n",
      "\n",
      "While conventional search engines ranked results by counting how many times the search terms appeared on the page, they theorized about a better system that analyzed the relationships among websites.[28] They called this algorithm PageRank; it determined a website's relevance by the number of pages, and the importance of those pages that linked back to the original site.[29][30] Page told his ideas to Hassan, who began writing the code to implement Page's ideas.[24]\n",
      "\n",
      "\n",
      "\n",
      "Page and Brin originally nicknamed the new search engine \"BackRub\", because the system checked backlinks to estimate the importance of a site.[21][31][32] Hassan as well as Alan Steremberg were cited by Page and Brin as being critical to the development of Google. Rajeev Motwani and Terry Winograd later co-authored with Page and Brin the first paper about the project, describing PageRank and the initial prototype of the Google search engine, published in 1998. Héctor García-Molina and Jeff Ullman were also cited as contributors to the project.[33] PageRank was influenced by a similar page-ranking and site-scoring algorithm earlier used for RankDex, developed by Robin Li in 1996, with Larry Page's PageRank patent including a citation to Li's earlier RankDex patent; Li later went on to create the Chinese search engine Baidu.[34][35]\n",
      "\n",
      "\n",
      "\n",
      "Eventually, they changed the name to Google; the name of the search engine was a misspelling of the word googol,[21][36][37] a very large number written 10100 (1 followed by 100 zeros), picked to signify that the search engine was intended to provide large quantities of information.[38]\n",
      "\n",
      "\n",
      "\n",
      "Google's homepage in 1998\n",
      "\n",
      "Google's original homepage had a simple design because the company founders had little experience in HTML, the markup language used for designing web pages.[39]\n",
      "\n",
      "Google was initially funded by an August 1998 investment of $100,000 from Andy Bechtolsheim,[21] co-founder of Sun Microsystems. This initial investment served as a motivation to incorporate the company to be able to use the funds.[40][41] Page and Brin initially approached David Cheriton for advice because he had a nearby office in Stanford, and they knew he had startup experience, having recently sold the company he co-founded, Granite Systems, to Cisco for $220 million. David arranged a meeting with Page and Brin and his Granite co-founder Andy Bechtolsheim. The meeting was set for 8 a.m. at the front porch of David's home in Palo Alto and it had to be brief because Andy had another meeting at Cisco, where he now worked after the acquisition, at 9 a.m. Andy briefly tested a demo of the website, liked what he saw, and then went back to his car to grab the check. David Cheriton later also joined in with a $250,000 investment.[42][43]\n",
      "\n",
      "\n",
      "\n",
      "Google received money from two other angel investors in 1998: Amazon.com founder Jeff Bezos, and entrepreneur Ram Shriram.[44] Page and Brin had first approached Shriram, who was a venture capitalist, for funding and counsel, and Shriram invested $250,000 in Google in February 1998. Shriram knew Bezos because Amazon had acquired Junglee, at which Shriram was the president. It was Shriram who told Bezos about Google. Bezos asked Shriram to meet Google's founders and they met six months after Shriram had made his investment when Bezos and his wife were on a vacation trip to the Bay Area. Google's initial funding round had already formally closed but Bezos' status as CEO of Amazon was enough to persuade Page and Brin to extend the round and accept his investment.[45][46]\n",
      "\n",
      "\n",
      "\n",
      "Between these initial investors, friends, and family Google raised around $1,000,000, which is what allowed them to open up their original shop in Menlo Park, California.[47] Craig Silverstein, a fellow PhD student at Stanford, was hired as the first employee.[23][48][49]\n",
      "\n",
      "\n",
      "\n",
      "After some additional, small investments through the end of 1998 to early 1999,[44] a new $25 million round of funding was announced on June 7, 1999,[50] with major investors including the venture capital firms Kleiner Perkins and Sequoia Capital.[41] Both firms were initially reticent about investing jointly in Google, as each wanted to retain a larger percentage of control over the company to themselves. Larry and Sergey however insisted in taking investments from both. Both venture companies finally agreed to investing jointly $12.5 million each due to their belief in Google's great potential and through the mediation of earlier angel investors Ron Conway and Ram Shriram who had contacts in the venture companies.[51]\n",
      "\n",
      "\n",
      "\n",
      "Growth\n",
      "\n",
      "In March 1999, the company moved its offices to Palo Alto, California,[52] which is home to several prominent Silicon Valley technology start-ups.[53] The next year, Google began selling advertisements associated with search keywords against Page and Brin's initial opposition toward an advertising-funded search engine.[54][23] To maintain an uncluttered page design, advertisements were solely text-based.[55] In June 2000, it was announced that Google would become the default search engine provider for Yahoo!, one of the most popular websites at the time, replacing Inktomi.[56][57]\n",
      "\n",
      "\n",
      "\n",
      "Google's first servers, showing lots of exposed wiring and circuit boards\n",
      "\n",
      "Google's first production server[58]\n",
      "\n",
      "In 2003, after outgrowing two other locations, the company leased an office complex from Silicon Graphics, at 1600 Amphitheatre Parkway in Mountain View, California.[59] The complex became known as the Googleplex, a play on the word googolplex, the number one followed by a googol of zeroes. Three years later, Google bought the property from SGI for $319 million.[60] By that time, the name \"Google\" had found its way into everyday language, causing the verb \"google\" to be added to the Merriam-Webster Collegiate Dictionary and the Oxford English Dictionary, denoted as: \"to use the Google search engine to obtain information on the Internet\".[61][62] The first use of the verb on television appeared in an October 2002 episode of Buffy the Vampire Slayer.[63]\n",
      "\n",
      "\n",
      "\n",
      "Additionally, in 2001 Google's investors felt the need to have a strong internal management, and they agreed to hire Eric Schmidt as the chairman and CEO of Google.[47] Eric was proposed by John Doerr from Kleiner Perkins. He had been trying to find a CEO that Sergey and Larry would accept for several months, but they rejected several candidates because they wanted to retain control over the company. Michael Moritz from Sequoia Capital at one point even menaced requesting Google to immediately pay back Sequoia's $12.5m investment if they did not fulfill their promise to hire a chief executive officer, which had been made verbally during investment negotiations. Eric was not initially enthusiastic about joining Google either, as the company's full potential had not yet been widely recognized at the time, and as he was occupied with his responsibilities at Novell where he was CEO. As part of him joining, Eric agreed to buy $1 million of Google preferred stocks as a way to show his commitment and to provide funds Google needed.[64]\n"
     ]
    }
   ],
   "source": [
    "for i in read_file('ATUL.txt'):\n",
    "    print(i)"
   ]
  },
  {
   "cell_type": "code",
   "execution_count": 16,
   "id": "47b5c7f1-a48e-4a91-ae08-95a5eafdea83",
   "metadata": {},
   "outputs": [],
   "source": [
    "l=[\"sudha\",\"puja\",\"ATUL\"]"
   ]
  },
  {
   "cell_type": "code",
   "execution_count": 17,
   "id": "3a2a0a0a-06fa-477d-8f26-5578182dacdd",
   "metadata": {},
   "outputs": [
    {
     "data": {
      "text/plain": [
       "'sudha puja ATUL'"
      ]
     },
     "execution_count": 17,
     "metadata": {},
     "output_type": "execute_result"
    }
   ],
   "source": [
    "\" \".join(l)"
   ]
  },
  {
   "cell_type": "code",
   "execution_count": null,
   "id": "4a388786-3669-47eb-868c-7fbbccadd1ed",
   "metadata": {},
   "outputs": [],
   "source": []
  }
 ],
 "metadata": {
  "kernelspec": {
   "display_name": "Python 3 (ipykernel)",
   "language": "python",
   "name": "python3"
  },
  "language_info": {
   "codemirror_mode": {
    "name": "ipython",
    "version": 3
   },
   "file_extension": ".py",
   "mimetype": "text/x-python",
   "name": "python",
   "nbconvert_exporter": "python",
   "pygments_lexer": "ipython3",
   "version": "3.10.8"
  }
 },
 "nbformat": 4,
 "nbformat_minor": 5
}
