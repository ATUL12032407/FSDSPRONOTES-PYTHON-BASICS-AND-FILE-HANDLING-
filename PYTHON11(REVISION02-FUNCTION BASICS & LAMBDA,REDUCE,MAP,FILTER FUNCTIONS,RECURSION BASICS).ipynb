{
 "cells": [
  {
   "cell_type": "code",
   "execution_count": null,
   "id": "27721aca-e38f-4838-900c-7e8d18970bdf",
   "metadata": {},
   "outputs": [],
   "source": [
    "type()\n",
    "print()\n",
    "len()\n",
    "range()\n",
    "Someone has already created these functions for reusibility "
   ]
  },
  {
   "cell_type": "markdown",
   "id": "b00ad865-902c-4f92-8975-48e7bf235408",
   "metadata": {},
   "source": [
    "Creation of function "
   ]
  },
  {
   "cell_type": "code",
   "execution_count": 1,
   "id": "d722e0a1-291e-4dd5-b014-ff2b2d9c9260",
   "metadata": {},
   "outputs": [],
   "source": [
    "def test ():\n",
    "    print(\"this is my first functon \")"
   ]
  },
  {
   "cell_type": "code",
   "execution_count": 2,
   "id": "dfa8860e-8374-47bb-86fb-9156ed941ee0",
   "metadata": {},
   "outputs": [
    {
     "name": "stdout",
     "output_type": "stream",
     "text": [
      "this is my first functon \n"
     ]
    }
   ],
   "source": [
    "test()"
   ]
  },
  {
   "cell_type": "code",
   "execution_count": 3,
   "id": "5fe21507-ced5-4d87-b74a-2ac2952f3ed4",
   "metadata": {},
   "outputs": [
    {
     "name": "stdout",
     "output_type": "stream",
     "text": [
      "this is my first functon \n"
     ]
    }
   ],
   "source": [
    "test()"
   ]
  },
  {
   "cell_type": "code",
   "execution_count": 4,
   "id": "2267269a-33ba-416b-961f-55af479646ad",
   "metadata": {},
   "outputs": [],
   "source": [
    "def test1():\n",
    "    print(\"test\")"
   ]
  },
  {
   "cell_type": "code",
   "execution_count": 5,
   "id": "36d64a0c-c5c1-42a3-8dac-38449c62f04d",
   "metadata": {},
   "outputs": [
    {
     "name": "stdout",
     "output_type": "stream",
     "text": [
      "test\n"
     ]
    }
   ],
   "source": [
    "test1()"
   ]
  },
  {
   "cell_type": "code",
   "execution_count": 6,
   "id": "9c834cad-d234-42f6-b735-3fbc4a557985",
   "metadata": {},
   "outputs": [
    {
     "name": "stdout",
     "output_type": "stream",
     "text": [
      "test\n"
     ]
    },
    {
     "ename": "TypeError",
     "evalue": "unsupported operand type(s) for +: 'NoneType' and 'str'",
     "output_type": "error",
     "traceback": [
      "\u001b[0;31m---------------------------------------------------------------------------\u001b[0m",
      "\u001b[0;31mTypeError\u001b[0m                                 Traceback (most recent call last)",
      "Cell \u001b[0;32mIn[6], line 1\u001b[0m\n\u001b[0;32m----> 1\u001b[0m \u001b[43mtest1\u001b[49m\u001b[43m(\u001b[49m\u001b[43m)\u001b[49m\u001b[38;5;241;43m+\u001b[39;49m\u001b[38;5;124;43m\"\u001b[39;49m\u001b[38;5;124;43msudh\u001b[39;49m\u001b[38;5;124;43m\"\u001b[39;49m\n",
      "\u001b[0;31mTypeError\u001b[0m: unsupported operand type(s) for +: 'NoneType' and 'str'"
     ]
    }
   ],
   "source": [
    "test1()+\"sudh\""
   ]
  },
  {
   "cell_type": "markdown",
   "id": "3ce8408d-5a67-4aa2-8bbd-99f7c093b8bb",
   "metadata": {},
   "source": [
    "Reason behind this one "
   ]
  },
  {
   "cell_type": "code",
   "execution_count": 7,
   "id": "26bcba7a-e243-4c14-9997-8afc3effbe1c",
   "metadata": {},
   "outputs": [
    {
     "name": "stdout",
     "output_type": "stream",
     "text": [
      "test\n"
     ]
    }
   ],
   "source": [
    "test1()"
   ]
  },
  {
   "cell_type": "code",
   "execution_count": 9,
   "id": "d4cd4e78-a710-45c8-93de-599a4ebbe979",
   "metadata": {},
   "outputs": [
    {
     "name": "stdout",
     "output_type": "stream",
     "text": [
      "test\n"
     ]
    },
    {
     "data": {
      "text/plain": [
       "NoneType"
      ]
     },
     "execution_count": 9,
     "metadata": {},
     "output_type": "execute_result"
    }
   ],
   "source": [
    "type(test1())"
   ]
  },
  {
   "cell_type": "code",
   "execution_count": 11,
   "id": "e3b7312c-d391-4e91-94c1-ca4ca3f89fc6",
   "metadata": {},
   "outputs": [],
   "source": [
    "def test2():\n",
    "    print(1+2)"
   ]
  },
  {
   "cell_type": "code",
   "execution_count": 12,
   "id": "d4929140-f48a-4d3f-b10a-fb6c1d7e6b6b",
   "metadata": {},
   "outputs": [
    {
     "name": "stdout",
     "output_type": "stream",
     "text": [
      "3\n"
     ]
    },
    {
     "ename": "TypeError",
     "evalue": "unsupported operand type(s) for +: 'NoneType' and 'int'",
     "output_type": "error",
     "traceback": [
      "\u001b[0;31m---------------------------------------------------------------------------\u001b[0m",
      "\u001b[0;31mTypeError\u001b[0m                                 Traceback (most recent call last)",
      "Cell \u001b[0;32mIn[12], line 1\u001b[0m\n\u001b[0;32m----> 1\u001b[0m \u001b[43mtest2\u001b[49m\u001b[43m(\u001b[49m\u001b[43m)\u001b[49m\u001b[38;5;241;43m+\u001b[39;49m\u001b[38;5;241;43m10\u001b[39;49m\n",
      "\u001b[0;31mTypeError\u001b[0m: unsupported operand type(s) for +: 'NoneType' and 'int'"
     ]
    }
   ],
   "source": [
    "test2()+10"
   ]
  },
  {
   "cell_type": "code",
   "execution_count": 13,
   "id": "83ad3876-4388-48c3-bb6c-06c18a85cae7",
   "metadata": {},
   "outputs": [],
   "source": [
    "def test3():\n",
    "    return 1+2"
   ]
  },
  {
   "cell_type": "code",
   "execution_count": 14,
   "id": "ea40a38e-828b-47ff-b578-5d1ad49b09bb",
   "metadata": {},
   "outputs": [
    {
     "data": {
      "text/plain": [
       "3"
      ]
     },
     "execution_count": 14,
     "metadata": {},
     "output_type": "execute_result"
    }
   ],
   "source": [
    "test3()"
   ]
  },
  {
   "cell_type": "code",
   "execution_count": 15,
   "id": "7ef141da-4d2a-4b8b-838e-fe6318fb3c28",
   "metadata": {},
   "outputs": [
    {
     "data": {
      "text/plain": [
       "13"
      ]
     },
     "execution_count": 15,
     "metadata": {},
     "output_type": "execute_result"
    }
   ],
   "source": [
    "test3()+10"
   ]
  },
  {
   "cell_type": "code",
   "execution_count": 16,
   "id": "6f4396c2-e4c8-4f6b-84f3-c47269351ae9",
   "metadata": {},
   "outputs": [
    {
     "data": {
      "text/plain": [
       "int"
      ]
     },
     "execution_count": 16,
     "metadata": {},
     "output_type": "execute_result"
    }
   ],
   "source": [
    "type(test3())"
   ]
  },
  {
   "cell_type": "code",
   "execution_count": 31,
   "id": "16571bd6-9935-4cdf-98d8-7afda2b7f901",
   "metadata": {},
   "outputs": [],
   "source": [
    "def test4():\n",
    "    return 2,\"sudh\",True,[1,2,34,5]"
   ]
  },
  {
   "cell_type": "code",
   "execution_count": 32,
   "id": "4f400aac-05da-49fb-91e2-7e9ab2ad5396",
   "metadata": {},
   "outputs": [
    {
     "data": {
      "text/plain": [
       "(2, 'sudh', True, [1, 2, 34, 5])"
      ]
     },
     "execution_count": 32,
     "metadata": {},
     "output_type": "execute_result"
    }
   ],
   "source": [
    "test4()"
   ]
  },
  {
   "cell_type": "code",
   "execution_count": null,
   "id": "cdba4bb6-71f5-4b5d-8caf-ab89f5ae49e0",
   "metadata": {},
   "outputs": [],
   "source": [
    "Possible to return multiple variable and data type "
   ]
  },
  {
   "cell_type": "code",
   "execution_count": 33,
   "id": "e6f2537d-d8f7-4bc1-97a2-7b7df2a54373",
   "metadata": {},
   "outputs": [],
   "source": [
    "a,b,c,d = 1,\"sudh\",34,45"
   ]
  },
  {
   "cell_type": "code",
   "execution_count": 34,
   "id": "167786f8-bbee-4cc5-a48f-13867bd9b77d",
   "metadata": {},
   "outputs": [],
   "source": [
    "a=1\n",
    "b=\"sudh\"\n",
    "c=34\n",
    "d=45"
   ]
  },
  {
   "cell_type": "markdown",
   "id": "ca5bfd8e-54b7-4e33-a084-6a5a109d47f2",
   "metadata": {},
   "source": [
    "Multiple outcome then returns in tuples "
   ]
  },
  {
   "cell_type": "code",
   "execution_count": 35,
   "id": "21f7f131-b62b-41cd-b867-b0a23981e15f",
   "metadata": {},
   "outputs": [
    {
     "data": {
      "text/plain": [
       "tuple"
      ]
     },
     "execution_count": 35,
     "metadata": {},
     "output_type": "execute_result"
    }
   ],
   "source": [
    "type(test4())"
   ]
  },
  {
   "cell_type": "code",
   "execution_count": 36,
   "id": "ce790937-9b4e-4210-98d3-32ed87d7ebff",
   "metadata": {},
   "outputs": [],
   "source": [
    "m,n,o,p = test4()"
   ]
  },
  {
   "cell_type": "code",
   "execution_count": 37,
   "id": "49ba66a6-e11d-4ef9-8ad7-268a6c05a6d2",
   "metadata": {},
   "outputs": [
    {
     "data": {
      "text/plain": [
       "2"
      ]
     },
     "execution_count": 37,
     "metadata": {},
     "output_type": "execute_result"
    }
   ],
   "source": [
    "m"
   ]
  },
  {
   "cell_type": "code",
   "execution_count": 38,
   "id": "9c06c291-1265-46d9-a45d-7631769ebe64",
   "metadata": {},
   "outputs": [
    {
     "data": {
      "text/plain": [
       "'sudh'"
      ]
     },
     "execution_count": 38,
     "metadata": {},
     "output_type": "execute_result"
    }
   ],
   "source": [
    "n"
   ]
  },
  {
   "cell_type": "code",
   "execution_count": 39,
   "id": "c80ec68e-7679-4365-962a-3015c571f88e",
   "metadata": {},
   "outputs": [
    {
     "data": {
      "text/plain": [
       "True"
      ]
     },
     "execution_count": 39,
     "metadata": {},
     "output_type": "execute_result"
    }
   ],
   "source": [
    "o"
   ]
  },
  {
   "cell_type": "code",
   "execution_count": 40,
   "id": "fbeff608-5995-4dbf-9cf5-a585af9bf6d0",
   "metadata": {},
   "outputs": [
    {
     "data": {
      "text/plain": [
       "[1, 2, 34, 5]"
      ]
     },
     "execution_count": 40,
     "metadata": {},
     "output_type": "execute_result"
    }
   ],
   "source": [
    "p"
   ]
  },
  {
   "cell_type": "code",
   "execution_count": 41,
   "id": "4c011f53-0f1f-4089-86d1-fe382960e0d3",
   "metadata": {},
   "outputs": [],
   "source": [
    "def test5(x):\n",
    "    return x\n",
    "    "
   ]
  },
  {
   "cell_type": "code",
   "execution_count": 43,
   "id": "04fc19bb-f945-496c-948a-5a30858180cc",
   "metadata": {},
   "outputs": [
    {
     "data": {
      "text/plain": [
       "5"
      ]
     },
     "execution_count": 43,
     "metadata": {},
     "output_type": "execute_result"
    }
   ],
   "source": [
    "test5(5)"
   ]
  },
  {
   "cell_type": "markdown",
   "id": "e072e24f-f3f4-42bd-aaa5-6d3509467e17",
   "metadata": {},
   "source": [
    "Placeholder or argument "
   ]
  },
  {
   "cell_type": "code",
   "execution_count": 44,
   "id": "5f70af45-f1e5-4eb0-97ab-7fb16bf8c1cf",
   "metadata": {},
   "outputs": [
    {
     "data": {
      "text/plain": [
       "'sudh'"
      ]
     },
     "execution_count": 44,
     "metadata": {},
     "output_type": "execute_result"
    }
   ],
   "source": [
    "test5(\"sudh\")"
   ]
  },
  {
   "cell_type": "code",
   "execution_count": 45,
   "id": "b1945f23-aac6-4f8e-8197-26af78a90e2d",
   "metadata": {},
   "outputs": [
    {
     "data": {
      "text/plain": [
       "[1, 2, 3, 45]"
      ]
     },
     "execution_count": 45,
     "metadata": {},
     "output_type": "execute_result"
    }
   ],
   "source": [
    "test5([1,2,3,45])"
   ]
  },
  {
   "cell_type": "code",
   "execution_count": 46,
   "id": "b6d30bb1-a755-40c2-a581-fb602f96e0b8",
   "metadata": {},
   "outputs": [
    {
     "ename": "TypeError",
     "evalue": "test5() takes 1 positional argument but 2 were given",
     "output_type": "error",
     "traceback": [
      "\u001b[0;31m---------------------------------------------------------------------------\u001b[0m",
      "\u001b[0;31mTypeError\u001b[0m                                 Traceback (most recent call last)",
      "Cell \u001b[0;32mIn[46], line 1\u001b[0m\n\u001b[0;32m----> 1\u001b[0m \u001b[43mtest5\u001b[49m\u001b[43m(\u001b[49m\u001b[38;5;241;43m4\u001b[39;49m\u001b[43m,\u001b[49m\u001b[38;5;241;43m5\u001b[39;49m\u001b[43m)\u001b[49m\n",
      "\u001b[0;31mTypeError\u001b[0m: test5() takes 1 positional argument but 2 were given"
     ]
    }
   ],
   "source": [
    "test5(4,5)"
   ]
  },
  {
   "cell_type": "code",
   "execution_count": 47,
   "id": "df2b195b-63ac-48f2-9b41-5b01d6f31968",
   "metadata": {},
   "outputs": [
    {
     "ename": "TypeError",
     "evalue": "test5() missing 1 required positional argument: 'x'",
     "output_type": "error",
     "traceback": [
      "\u001b[0;31m---------------------------------------------------------------------------\u001b[0m",
      "\u001b[0;31mTypeError\u001b[0m                                 Traceback (most recent call last)",
      "Cell \u001b[0;32mIn[47], line 1\u001b[0m\n\u001b[0;32m----> 1\u001b[0m \u001b[43mtest5\u001b[49m\u001b[43m(\u001b[49m\u001b[43m)\u001b[49m\n",
      "\u001b[0;31mTypeError\u001b[0m: test5() missing 1 required positional argument: 'x'"
     ]
    }
   ],
   "source": [
    "test5()"
   ]
  },
  {
   "cell_type": "code",
   "execution_count": 48,
   "id": "24a43530-2d76-498d-b3f4-b77205a2a121",
   "metadata": {},
   "outputs": [],
   "source": [
    "def test6(x,y):\n",
    "    return(x,y)"
   ]
  },
  {
   "cell_type": "code",
   "execution_count": 49,
   "id": "28bc821b-a5b0-4436-bc79-0073092d3c2e",
   "metadata": {},
   "outputs": [
    {
     "data": {
      "text/plain": [
       "(4, 5)"
      ]
     },
     "execution_count": 49,
     "metadata": {},
     "output_type": "execute_result"
    }
   ],
   "source": [
    "test6(4,5)"
   ]
  },
  {
   "cell_type": "code",
   "execution_count": 50,
   "id": "34ef99b7-8367-43d8-b3ed-d52a05571067",
   "metadata": {},
   "outputs": [
    {
     "data": {
      "text/plain": [
       "('sudh', [4, 56, 45, 5])"
      ]
     },
     "execution_count": 50,
     "metadata": {},
     "output_type": "execute_result"
    }
   ],
   "source": [
    "test6(\"sudh\",[4,56,45,5])"
   ]
  },
  {
   "cell_type": "code",
   "execution_count": null,
   "id": "25613b12-41ff-4c4e-af90-61c21f4f84b0",
   "metadata": {},
   "outputs": [],
   "source": [
    "pass an argument idk what kind of data  type of these arguments "
   ]
  },
  {
   "cell_type": "code",
   "execution_count": null,
   "id": "7d782a0a-7900-4305-877d-177c376fbb70",
   "metadata": {},
   "outputs": [],
   "source": [
    "Data type of the arguments of the functions"
   ]
  },
  {
   "cell_type": "code",
   "execution_count": 51,
   "id": "ceed5cf8-4cde-4409-bca3-7ddcd497335f",
   "metadata": {},
   "outputs": [],
   "source": [
    "def test7(a:int,b:int):\n",
    "    return a,b"
   ]
  },
  {
   "cell_type": "code",
   "execution_count": 52,
   "id": "368e189f-5db8-4c4d-badf-0d918025b0f6",
   "metadata": {},
   "outputs": [
    {
     "data": {
      "text/plain": [
       "(4, 5)"
      ]
     },
     "execution_count": 52,
     "metadata": {},
     "output_type": "execute_result"
    }
   ],
   "source": [
    "test7(4,5)"
   ]
  },
  {
   "cell_type": "raw",
   "id": "6e3d8233-fa47-4480-881b-83bf1b76e68a",
   "metadata": {},
   "source": [
    "test7(\"sudh\",[4,5,6,7])"
   ]
  },
  {
   "cell_type": "raw",
   "id": "a1b1b612-0f8f-476b-b9bc-fe5c2475027c",
   "metadata": {},
   "source": [
    "Python is self typed language so u do not have to define data type u  can do notification of the data type "
   ]
  },
  {
   "cell_type": "code",
   "execution_count": 54,
   "id": "57872272-faa5-4bb4-9223-9bf1de72bb1b",
   "metadata": {},
   "outputs": [],
   "source": [
    "def test8(x:int,y:int):\n",
    "    return x/y"
   ]
  },
  {
   "cell_type": "code",
   "execution_count": 55,
   "id": "ea77c427-b335-4cc4-b597-c20f29642cb9",
   "metadata": {},
   "outputs": [
    {
     "data": {
      "text/plain": [
       "0.8"
      ]
     },
     "execution_count": 55,
     "metadata": {},
     "output_type": "execute_result"
    }
   ],
   "source": [
    "test8(4,5)"
   ]
  },
  {
   "cell_type": "code",
   "execution_count": 56,
   "id": "2e339c25-bab3-4ce1-9561-e25b0987da8f",
   "metadata": {},
   "outputs": [
    {
     "ename": "TypeError",
     "evalue": "unsupported operand type(s) for /: 'str' and 'str'",
     "output_type": "error",
     "traceback": [
      "\u001b[0;31m---------------------------------------------------------------------------\u001b[0m",
      "\u001b[0;31mTypeError\u001b[0m                                 Traceback (most recent call last)",
      "Cell \u001b[0;32mIn[56], line 1\u001b[0m\n\u001b[0;32m----> 1\u001b[0m \u001b[43mtest8\u001b[49m\u001b[43m(\u001b[49m\u001b[38;5;124;43m\"\u001b[39;49m\u001b[38;5;124;43msudh\u001b[39;49m\u001b[38;5;124;43m\"\u001b[39;49m\u001b[43m,\u001b[49m\u001b[38;5;124;43m\"\u001b[39;49m\u001b[38;5;124;43mkumar\u001b[39;49m\u001b[38;5;124;43m\"\u001b[39;49m\u001b[43m)\u001b[49m\n",
      "Cell \u001b[0;32mIn[54], line 2\u001b[0m, in \u001b[0;36mtest8\u001b[0;34m(x, y)\u001b[0m\n\u001b[1;32m      1\u001b[0m \u001b[38;5;28;01mdef\u001b[39;00m \u001b[38;5;21mtest8\u001b[39m(x:\u001b[38;5;28mint\u001b[39m,y:\u001b[38;5;28mint\u001b[39m):\n\u001b[0;32m----> 2\u001b[0m     \u001b[38;5;28;01mreturn\u001b[39;00m \u001b[43mx\u001b[49m\u001b[38;5;241;43m/\u001b[39;49m\u001b[43my\u001b[49m\n",
      "\u001b[0;31mTypeError\u001b[0m: unsupported operand type(s) for /: 'str' and 'str'"
     ]
    }
   ],
   "source": [
    "test8(\"sudh\",\"kumar\")"
   ]
  },
  {
   "cell_type": "code",
   "execution_count": 59,
   "id": "853b6d44-a1ea-4efb-89a9-c12e07640c4f",
   "metadata": {},
   "outputs": [],
   "source": [
    "def test9( c,d):\n",
    "    \"\"\"this is my functon which can takes input and return a addition or concatination \n",
    "    \"\"\"\n",
    "    return c+d"
   ]
  },
  {
   "cell_type": "code",
   "execution_count": null,
   "id": "886be801-84c4-421b-99c2-27e6d1528065",
   "metadata": {},
   "outputs": [],
   "source": [
    "type()\n",
    "print()\n",
    "len()\n",
    "list()"
   ]
  },
  {
   "cell_type": "code",
   "execution_count": 60,
   "id": "55009831-f1e6-4a89-aa04-db4dfc948399",
   "metadata": {},
   "outputs": [
    {
     "ename": "TypeError",
     "evalue": "test9() takes 2 positional arguments but 3 were given",
     "output_type": "error",
     "traceback": [
      "\u001b[0;31m---------------------------------------------------------------------------\u001b[0m",
      "\u001b[0;31mTypeError\u001b[0m                                 Traceback (most recent call last)",
      "Cell \u001b[0;32mIn[60], line 1\u001b[0m\n\u001b[0;32m----> 1\u001b[0m \u001b[43mtest9\u001b[49m\u001b[43m(\u001b[49m\u001b[38;5;241;43m4\u001b[39;49m\u001b[43m,\u001b[49m\u001b[38;5;241;43m5\u001b[39;49m\u001b[43m,\u001b[49m\u001b[38;5;241;43m6\u001b[39;49m\u001b[43m)\u001b[49m\n",
      "\u001b[0;31mTypeError\u001b[0m: test9() takes 2 positional arguments but 3 were given"
     ]
    }
   ],
   "source": [
    "test9(4,5,6)"
   ]
  },
  {
   "cell_type": "markdown",
   "id": "0152bb04-2e30-48b7-9348-a1875029be98",
   "metadata": {},
   "source": [
    "Docstring "
   ]
  },
  {
   "cell_type": "code",
   "execution_count": 61,
   "id": "9828c420-1bfd-4700-9a82-78b15a6e5abc",
   "metadata": {},
   "outputs": [],
   "source": [
    "def test10(*args):\n",
    "    return args"
   ]
  },
  {
   "cell_type": "code",
   "execution_count": 62,
   "id": "29bdb873-5294-422b-a9bc-5d452bb5a75e",
   "metadata": {},
   "outputs": [
    {
     "data": {
      "text/plain": [
       "(1, 23, 4)"
      ]
     },
     "execution_count": 62,
     "metadata": {},
     "output_type": "execute_result"
    }
   ],
   "source": [
    "test10(1,23,4)"
   ]
  },
  {
   "cell_type": "code",
   "execution_count": 63,
   "id": "e5210484-dd51-4a2d-a7ec-dfea469e5624",
   "metadata": {},
   "outputs": [
    {
     "data": {
      "text/plain": [
       "()"
      ]
     },
     "execution_count": 63,
     "metadata": {},
     "output_type": "execute_result"
    }
   ],
   "source": [
    "test10()"
   ]
  },
  {
   "cell_type": "code",
   "execution_count": 64,
   "id": "29355299-5a4e-44d8-af98-73d165ab6175",
   "metadata": {},
   "outputs": [
    {
     "data": {
      "text/plain": [
       "([2, 3, 4, 5, 6], 23, [2, 3, 4], 'sudh')"
      ]
     },
     "execution_count": 64,
     "metadata": {},
     "output_type": "execute_result"
    }
   ],
   "source": [
    "test10([2,3,4,5,6],23,[2,3,4],\"sudh\")"
   ]
  },
  {
   "cell_type": "code",
   "execution_count": 65,
   "id": "96647ad0-b232-4993-b7fc-aa5e7fbb36d7",
   "metadata": {},
   "outputs": [],
   "source": [
    "def test11(*sudh):\n",
    "    return sudh"
   ]
  },
  {
   "cell_type": "code",
   "execution_count": 67,
   "id": "879015c6-71da-4973-a248-a734996e5eef",
   "metadata": {},
   "outputs": [
    {
     "data": {
      "text/plain": [
       "({3, 4, 6},)"
      ]
     },
     "execution_count": 67,
     "metadata": {},
     "output_type": "execute_result"
    }
   ],
   "source": [
    "test11({3,4,6,6,4})"
   ]
  },
  {
   "cell_type": "code",
   "execution_count": 68,
   "id": "929ae831-026e-4eb4-965b-8620d0c02ee3",
   "metadata": {},
   "outputs": [
    {
     "data": {
      "text/plain": [
       "(3, 4, 6, 6, 4)"
      ]
     },
     "execution_count": 68,
     "metadata": {},
     "output_type": "execute_result"
    }
   ],
   "source": [
    "test11(3,4,6,6,4)"
   ]
  },
  {
   "cell_type": "code",
   "execution_count": 69,
   "id": "f73bf260-0430-4d19-94dc-b159965322be",
   "metadata": {},
   "outputs": [],
   "source": [
    "def test12(**kwargs):\n",
    "    return kwargs "
   ]
  },
  {
   "cell_type": "code",
   "execution_count": 70,
   "id": "96b92020-d98c-4761-8f4c-fa30fa230e80",
   "metadata": {},
   "outputs": [
    {
     "ename": "TypeError",
     "evalue": "test12() takes 0 positional arguments but 3 were given",
     "output_type": "error",
     "traceback": [
      "\u001b[0;31m---------------------------------------------------------------------------\u001b[0m",
      "\u001b[0;31mTypeError\u001b[0m                                 Traceback (most recent call last)",
      "Cell \u001b[0;32mIn[70], line 1\u001b[0m\n\u001b[0;32m----> 1\u001b[0m \u001b[43mtest12\u001b[49m\u001b[43m(\u001b[49m\u001b[38;5;241;43m4\u001b[39;49m\u001b[43m,\u001b[49m\u001b[38;5;241;43m5\u001b[39;49m\u001b[43m,\u001b[49m\u001b[38;5;241;43m6\u001b[39;49m\u001b[43m)\u001b[49m\n",
      "\u001b[0;31mTypeError\u001b[0m: test12() takes 0 positional arguments but 3 were given"
     ]
    }
   ],
   "source": [
    "test12(4,5,6)"
   ]
  },
  {
   "cell_type": "code",
   "execution_count": 74,
   "id": "9d2212d1-5589-48ae-8c17-8ba22109846f",
   "metadata": {},
   "outputs": [
    {
     "data": {
      "text/plain": [
       "{'a': 2, 'b': 5, 'c': 6}"
      ]
     },
     "execution_count": 74,
     "metadata": {},
     "output_type": "execute_result"
    }
   ],
   "source": [
    "test12(a=2,b=5,c=6)"
   ]
  },
  {
   "cell_type": "code",
   "execution_count": 76,
   "id": "86317060-dba4-4cc5-ae1c-67a040185d89",
   "metadata": {},
   "outputs": [
    {
     "data": {
      "text/plain": [
       "{'n': {'a': 2, 'b': 5, 'c': 6}}"
      ]
     },
     "execution_count": 76,
     "metadata": {},
     "output_type": "execute_result"
    }
   ],
   "source": [
    "test12(n={'a': 2, 'b': 5, 'c': 6})"
   ]
  },
  {
   "cell_type": "code",
   "execution_count": 77,
   "id": "9d2d6d7c-6a18-4f6d-9285-fedbd2f101ef",
   "metadata": {},
   "outputs": [
    {
     "data": {
      "text/plain": [
       "{'n': {}}"
      ]
     },
     "execution_count": 77,
     "metadata": {},
     "output_type": "execute_result"
    }
   ],
   "source": [
    "test12(n={})"
   ]
  },
  {
   "cell_type": "code",
   "execution_count": 79,
   "id": "5c12f550-4474-403a-a7f5-57efa651f201",
   "metadata": {},
   "outputs": [],
   "source": [
    "def test13(b,a=10,c=20,):\n",
    "    return a,b,c"
   ]
  },
  {
   "cell_type": "code",
   "execution_count": 80,
   "id": "ee5523d1-ace1-4421-8084-a2839ce8c943",
   "metadata": {},
   "outputs": [
    {
     "data": {
      "text/plain": [
       "(10, 1, 20)"
      ]
     },
     "execution_count": 80,
     "metadata": {},
     "output_type": "execute_result"
    }
   ],
   "source": [
    "test13(1)"
   ]
  },
  {
   "cell_type": "markdown",
   "id": "e73e8abd-62f7-4f53-b68f-e91ea756d6cf",
   "metadata": {},
   "source": [
    "Default variable "
   ]
  },
  {
   "cell_type": "markdown",
   "id": "a128e093-47b5-4193-8411-fa51e2cc94cd",
   "metadata": {},
   "source": [
    "Non default at first place Default argument "
   ]
  },
  {
   "cell_type": "code",
   "execution_count": 83,
   "id": "0f758ef4-96d0-4821-bcf9-7691674ddf04",
   "metadata": {},
   "outputs": [
    {
     "data": {
      "text/plain": [
       "(10, 45, 20)"
      ]
     },
     "execution_count": 83,
     "metadata": {},
     "output_type": "execute_result"
    }
   ],
   "source": [
    "test13(45)"
   ]
  },
  {
   "cell_type": "code",
   "execution_count": 84,
   "id": "37a0d5f0-ecea-47f9-bf1f-8d30b453afcf",
   "metadata": {},
   "outputs": [
    {
     "data": {
      "text/plain": [
       "(45, 34, 20)"
      ]
     },
     "execution_count": 84,
     "metadata": {},
     "output_type": "execute_result"
    }
   ],
   "source": [
    "test13(34,a=45)"
   ]
  },
  {
   "cell_type": "markdown",
   "id": "c0c050c8-e47e-4eb3-84a0-6cac6b149368",
   "metadata": {},
   "source": [
    "default value of a variable override it at time of function call "
   ]
  },
  {
   "cell_type": "markdown",
   "id": "ab9b2215-f442-435a-9790-7b209014612d",
   "metadata": {},
   "source": [
    "lambda function or anonymous function or a function without name "
   ]
  },
  {
   "cell_type": "code",
   "execution_count": 85,
   "id": "03eef097-69ec-4be8-915c-bad57f7454b0",
   "metadata": {},
   "outputs": [],
   "source": [
    "v=test13(4,5,67)"
   ]
  },
  {
   "cell_type": "code",
   "execution_count": 86,
   "id": "9a7c57bb-76d8-4f2b-a601-d8dcef1c7121",
   "metadata": {},
   "outputs": [
    {
     "data": {
      "text/plain": [
       "(5, 4, 67)"
      ]
     },
     "execution_count": 86,
     "metadata": {},
     "output_type": "execute_result"
    }
   ],
   "source": [
    "v"
   ]
  },
  {
   "cell_type": "code",
   "execution_count": 87,
   "id": "39480f1b-e22a-4956-88ea-bdb7adf30e18",
   "metadata": {},
   "outputs": [],
   "source": [
    "def test14(a,b):\n",
    "    return a+b"
   ]
  },
  {
   "cell_type": "code",
   "execution_count": 88,
   "id": "e85c9b2a-02e3-4258-be75-c6e5c46ea447",
   "metadata": {},
   "outputs": [
    {
     "data": {
      "text/plain": [
       "11"
      ]
     },
     "execution_count": 88,
     "metadata": {},
     "output_type": "execute_result"
    }
   ],
   "source": [
    "test14(5,6)"
   ]
  },
  {
   "cell_type": "code",
   "execution_count": 89,
   "id": "12985c6b-e621-4b49-bcad-e829c6d345cb",
   "metadata": {},
   "outputs": [],
   "source": [
    "m=lambda a,b:a+b"
   ]
  },
  {
   "cell_type": "code",
   "execution_count": 90,
   "id": "16a806b0-905c-4e7b-b621-d2ef8f363c95",
   "metadata": {},
   "outputs": [
    {
     "data": {
      "text/plain": [
       "<function __main__.test14(a, b)>"
      ]
     },
     "execution_count": 90,
     "metadata": {},
     "output_type": "execute_result"
    }
   ],
   "source": [
    "test14"
   ]
  },
  {
   "cell_type": "code",
   "execution_count": 91,
   "id": "76281bd1-523b-40c4-9c4b-34aad390830f",
   "metadata": {},
   "outputs": [
    {
     "data": {
      "text/plain": [
       "7"
      ]
     },
     "execution_count": 91,
     "metadata": {},
     "output_type": "execute_result"
    }
   ],
   "source": [
    "m(3,4)"
   ]
  },
  {
   "cell_type": "code",
   "execution_count": 93,
   "id": "91c74fe6-7004-42bf-9ad8-5e6e883a3d22",
   "metadata": {},
   "outputs": [],
   "source": [
    "def check_even(n):\n",
    "    if n%2==0:\n",
    "        return \"GIVEN NUMBER IS AN EVEN NUMBER\"\n",
    "    else:\n",
    "        return \"given numbr is not an even number\""
   ]
  },
  {
   "cell_type": "code",
   "execution_count": 97,
   "id": "6a0acbb5-b99a-41e1-a0d1-5c68197d6210",
   "metadata": {},
   "outputs": [
    {
     "data": {
      "text/plain": [
       "'given numbr is not an even number'"
      ]
     },
     "execution_count": 97,
     "metadata": {},
     "output_type": "execute_result"
    }
   ],
   "source": [
    "check_even(7)"
   ]
  },
  {
   "cell_type": "code",
   "execution_count": 98,
   "id": "61de083f-6846-4ed5-a2a7-62144f257b02",
   "metadata": {},
   "outputs": [
    {
     "data": {
      "text/plain": [
       "1"
      ]
     },
     "execution_count": 98,
     "metadata": {},
     "output_type": "execute_result"
    }
   ],
   "source": [
    "3%2"
   ]
  },
  {
   "cell_type": "code",
   "execution_count": 100,
   "id": "46dc4f32-5b7e-41e0-8780-aa6d7640b98b",
   "metadata": {},
   "outputs": [],
   "source": [
    "b = lambda n :\"Even\" if n%2==0 else \"odd\""
   ]
  },
  {
   "cell_type": "code",
   "execution_count": 101,
   "id": "dd003872-3f6e-4b7d-b376-0fee1d8d0ee5",
   "metadata": {},
   "outputs": [
    {
     "data": {
      "text/plain": [
       "'Even'"
      ]
     },
     "execution_count": 101,
     "metadata": {},
     "output_type": "execute_result"
    }
   ],
   "source": [
    "b(4)"
   ]
  },
  {
   "cell_type": "code",
   "execution_count": 102,
   "id": "d3d05e7d-3a24-4174-b715-1141b0a2ead5",
   "metadata": {},
   "outputs": [
    {
     "data": {
      "text/plain": [
       "'odd'"
      ]
     },
     "execution_count": 102,
     "metadata": {},
     "output_type": "execute_result"
    }
   ],
   "source": [
    "b(3)"
   ]
  },
  {
   "cell_type": "code",
   "execution_count": 103,
   "id": "e1579d91-8ddd-4ec2-8ccb-4b2e8d470bf9",
   "metadata": {},
   "outputs": [],
   "source": [
    "l=[3,4,5,6,6,7,7,8]\n",
    "min_list=lambda li:min(li)"
   ]
  },
  {
   "cell_type": "code",
   "execution_count": 105,
   "id": "f3a31016-770a-45c6-a5ce-4ae3df31e784",
   "metadata": {},
   "outputs": [
    {
     "data": {
      "text/plain": [
       "3"
      ]
     },
     "execution_count": 105,
     "metadata": {},
     "output_type": "execute_result"
    }
   ],
   "source": [
    "min_list(l)"
   ]
  },
  {
   "cell_type": "code",
   "execution_count": 106,
   "id": "39458e36-f902-4eac-b29d-f6fbbb4db6be",
   "metadata": {},
   "outputs": [],
   "source": [
    "div=lambda a,b:a/b"
   ]
  },
  {
   "cell_type": "code",
   "execution_count": 107,
   "id": "257f5912-bb45-48af-aa6a-390c2ce836f4",
   "metadata": {},
   "outputs": [
    {
     "data": {
      "text/plain": [
       "0.8333333333333334"
      ]
     },
     "execution_count": 107,
     "metadata": {},
     "output_type": "execute_result"
    }
   ],
   "source": [
    "div(5,6)"
   ]
  },
  {
   "cell_type": "code",
   "execution_count": 108,
   "id": "93b72344-adcb-42ee-9772-0f7bae9a640f",
   "metadata": {},
   "outputs": [],
   "source": [
    "upper =lambda s:s.upper()"
   ]
  },
  {
   "cell_type": "code",
   "execution_count": 109,
   "id": "c14076dc-87f0-4950-9838-714a54900cb6",
   "metadata": {},
   "outputs": [
    {
     "data": {
      "text/plain": [
       "'SUDH'"
      ]
     },
     "execution_count": 109,
     "metadata": {},
     "output_type": "execute_result"
    }
   ],
   "source": [
    "upper(\"sudh\")"
   ]
  },
  {
   "cell_type": "code",
   "execution_count": 110,
   "id": "83ccdc6f-3cf1-412f-9daa-b4eafd1ab57f",
   "metadata": {},
   "outputs": [],
   "source": [
    "l=[3,4,5,6,7,2,3,34,5,56]\n"
   ]
  },
  {
   "cell_type": "code",
   "execution_count": 111,
   "id": "778bccde-c7ea-4cbd-9e9b-72f17836ec66",
   "metadata": {},
   "outputs": [],
   "source": [
    "def sum_odd(b):\n",
    "    l1=[]\n",
    "    for i in b:\n",
    "        if i%2!=0:\n",
    "            l1.append(i)\n",
    "    return sum(l1)        "
   ]
  },
  {
   "cell_type": "code",
   "execution_count": 112,
   "id": "2402165c-f9d1-4e49-97f5-e43cc5c0ccdc",
   "metadata": {},
   "outputs": [
    {
     "data": {
      "text/plain": [
       "23"
      ]
     },
     "execution_count": 112,
     "metadata": {},
     "output_type": "execute_result"
    }
   ],
   "source": [
    "sum_odd(l)"
   ]
  },
  {
   "cell_type": "markdown",
   "id": "4e589345-0f87-4e63-ab39-43a1b0bfe5d8",
   "metadata": {},
   "source": [
    "Comprehension operation "
   ]
  },
  {
   "cell_type": "code",
   "execution_count": 118,
   "id": "26ef1a21-1cbd-452f-af1d-cb575a13bccf",
   "metadata": {},
   "outputs": [
    {
     "data": {
      "text/plain": [
       "23"
      ]
     },
     "execution_count": 118,
     "metadata": {},
     "output_type": "execute_result"
    }
   ],
   "source": [
    "sum([ i for i in l if i%2!=0])"
   ]
  },
  {
   "cell_type": "code",
   "execution_count": 121,
   "id": "5a088e05-3abe-4997-88fa-9264cd9630e2",
   "metadata": {},
   "outputs": [],
   "source": [
    "sum_off_lambda = lambda b:sum([ i for i in b if i%2!=0])"
   ]
  },
  {
   "cell_type": "code",
   "execution_count": 122,
   "id": "1e518505-0632-4637-b7cc-5d14a370bb78",
   "metadata": {},
   "outputs": [
    {
     "data": {
      "text/plain": [
       "23"
      ]
     },
     "execution_count": 122,
     "metadata": {},
     "output_type": "execute_result"
    }
   ],
   "source": [
    "sum_off_lambda(l)"
   ]
  },
  {
   "cell_type": "code",
   "execution_count": 124,
   "id": "1a3c3102-243a-497f-a0ac-576cc54bf200",
   "metadata": {},
   "outputs": [],
   "source": [
    "def fac_number(n):\n",
    "    if n == 0:\n",
    "        return 1\n",
    "    else:\n",
    "        return n*fac_number(n-1)\n",
    "        "
   ]
  },
  {
   "cell_type": "code",
   "execution_count": 130,
   "id": "9dfb20ed-6e85-4022-919d-d114cd6c54bc",
   "metadata": {},
   "outputs": [
    {
     "data": {
      "text/plain": [
       "120"
      ]
     },
     "execution_count": 130,
     "metadata": {},
     "output_type": "execute_result"
    }
   ],
   "source": [
    "fac_number(5)"
   ]
  },
  {
   "cell_type": "code",
   "execution_count": 134,
   "id": "19bff97e-6724-47bc-8b58-ef9006aaca77",
   "metadata": {},
   "outputs": [],
   "source": [
    "def fact_num(n):\n",
    "    a=1\n",
    "    for i in range(1,n+1):\n",
    "        a = i*a\n",
    "    return a"
   ]
  },
  {
   "cell_type": "code",
   "execution_count": 135,
   "id": "716e6372-8193-4454-a328-d730ff3460ee",
   "metadata": {},
   "outputs": [
    {
     "data": {
      "text/plain": [
       "24"
      ]
     },
     "execution_count": 135,
     "metadata": {},
     "output_type": "execute_result"
    }
   ],
   "source": [
    "fact_num(4)"
   ]
  },
  {
   "cell_type": "code",
   "execution_count": 136,
   "id": "59681925-db0a-406c-aa68-ecc11858fef8",
   "metadata": {},
   "outputs": [],
   "source": [
    "fact_num_lambda = lambda n: 1 if n==0 else n*fact_num_lambda(n-1)"
   ]
  },
  {
   "cell_type": "code",
   "execution_count": 137,
   "id": "64026bf1-4dd6-4e4d-b39e-b7bd0e9940c6",
   "metadata": {},
   "outputs": [
    {
     "data": {
      "text/plain": [
       "24"
      ]
     },
     "execution_count": 137,
     "metadata": {},
     "output_type": "execute_result"
    }
   ],
   "source": [
    "fact_num_lambda(4)"
   ]
  },
  {
   "cell_type": "code",
   "execution_count": 138,
   "id": "cef275dc-fe20-48b0-8dc5-a0331e2a83b2",
   "metadata": {},
   "outputs": [],
   "source": [
    "l=[5,6,7,8,89]\n",
    "l1=[]\n",
    "for i in l:\n",
    "    l1.append(i+2)\n",
    "    "
   ]
  },
  {
   "cell_type": "code",
   "execution_count": 139,
   "id": "ae8310ed-135c-409e-a477-7c181ea40b21",
   "metadata": {},
   "outputs": [
    {
     "data": {
      "text/plain": [
       "[7, 8, 9, 10, 91]"
      ]
     },
     "execution_count": 139,
     "metadata": {},
     "output_type": "execute_result"
    }
   ],
   "source": [
    "l1"
   ]
  },
  {
   "cell_type": "code",
   "execution_count": 140,
   "id": "a6aa9f75-8b61-4766-aaa0-07793b57c3a1",
   "metadata": {},
   "outputs": [],
   "source": [
    "def add_list(l):\n",
    "    l1=[]\n",
    "    for i in l:\n",
    "        l1.append(i+2)\n",
    "    return l1    "
   ]
  },
  {
   "cell_type": "code",
   "execution_count": 141,
   "id": "ac49bee2-a0cb-4d91-83a6-cd325813678f",
   "metadata": {},
   "outputs": [
    {
     "data": {
      "text/plain": [
       "[7, 8, 9, 10, 91]"
      ]
     },
     "execution_count": 141,
     "metadata": {},
     "output_type": "execute_result"
    }
   ],
   "source": [
    "add_list(l)"
   ]
  },
  {
   "cell_type": "code",
   "execution_count": 143,
   "id": "c174ee2f-eb92-4a9f-a584-a45521a34357",
   "metadata": {},
   "outputs": [],
   "source": [
    "v = lambda a:a+2"
   ]
  },
  {
   "cell_type": "code",
   "execution_count": 146,
   "id": "7ae78c34-f1f8-46a5-bb18-fba1ec9b67e9",
   "metadata": {},
   "outputs": [
    {
     "data": {
      "text/plain": [
       "6"
      ]
     },
     "execution_count": 146,
     "metadata": {},
     "output_type": "execute_result"
    }
   ],
   "source": [
    "v(4)"
   ]
  },
  {
   "cell_type": "code",
   "execution_count": 156,
   "id": "b8737edf-f335-42d9-b2b1-418f3ce7886e",
   "metadata": {},
   "outputs": [
    {
     "data": {
      "text/plain": [
       "[7, 8, 9, 10, 91]"
      ]
     },
     "execution_count": 156,
     "metadata": {},
     "output_type": "execute_result"
    }
   ],
   "source": [
    "list( map(lambda a:a+2,l))"
   ]
  },
  {
   "cell_type": "code",
   "execution_count": 157,
   "id": "4eaa1049-64d1-4f1f-84ac-ec86bd390a86",
   "metadata": {},
   "outputs": [
    {
     "data": {
      "text/plain": [
       "[5, 6, 7, 8, 89]"
      ]
     },
     "execution_count": 157,
     "metadata": {},
     "output_type": "execute_result"
    }
   ],
   "source": [
    "l"
   ]
  },
  {
   "cell_type": "code",
   "execution_count": 158,
   "id": "a897227f-033f-4a26-843a-f11a1c3dca5d",
   "metadata": {},
   "outputs": [],
   "source": [
    "def test34(c):\n",
    "    return c+2"
   ]
  },
  {
   "cell_type": "code",
   "execution_count": 160,
   "id": "e26ebd3b-fc35-487a-b8c8-ca7b35305427",
   "metadata": {},
   "outputs": [
    {
     "data": {
      "text/plain": [
       "[7, 8, 9, 10, 91]"
      ]
     },
     "execution_count": 160,
     "metadata": {},
     "output_type": "execute_result"
    }
   ],
   "source": [
    "list(map(test34,l))"
   ]
  },
  {
   "cell_type": "code",
   "execution_count": 164,
   "id": "c52d68a3-dc7a-4865-afb5-b69d87ae3f21",
   "metadata": {},
   "outputs": [
    {
     "data": {
      "text/plain": [
       "7"
      ]
     },
     "execution_count": 164,
     "metadata": {},
     "output_type": "execute_result"
    }
   ],
   "source": [
    "test34(5)"
   ]
  },
  {
   "cell_type": "code",
   "execution_count": 165,
   "id": "c93ba82b-771d-4a6d-9443-106c676482b3",
   "metadata": {},
   "outputs": [
    {
     "data": {
      "text/plain": [
       "8"
      ]
     },
     "execution_count": 165,
     "metadata": {},
     "output_type": "execute_result"
    }
   ],
   "source": [
    "test34(6)"
   ]
  },
  {
   "cell_type": "code",
   "execution_count": 166,
   "id": "344dbd3a-ccf8-4c15-aa7d-b7224dec0d7c",
   "metadata": {},
   "outputs": [
    {
     "data": {
      "text/plain": [
       "9"
      ]
     },
     "execution_count": 166,
     "metadata": {},
     "output_type": "execute_result"
    }
   ],
   "source": [
    "test34(7)"
   ]
  },
  {
   "cell_type": "code",
   "execution_count": 167,
   "id": "80867621-f0cd-44fd-b874-b45a3fe5b097",
   "metadata": {},
   "outputs": [
    {
     "data": {
      "text/plain": [
       "10"
      ]
     },
     "execution_count": 167,
     "metadata": {},
     "output_type": "execute_result"
    }
   ],
   "source": [
    "test34(8)"
   ]
  },
  {
   "cell_type": "code",
   "execution_count": 168,
   "id": "80b876da-3ab3-44a7-a904-c95cd3a6eb5d",
   "metadata": {},
   "outputs": [
    {
     "data": {
      "text/plain": [
       "91"
      ]
     },
     "execution_count": 168,
     "metadata": {},
     "output_type": "execute_result"
    }
   ],
   "source": [
    "test34(89)"
   ]
  },
  {
   "cell_type": "code",
   "execution_count": 1,
   "id": "9d18b860-6d11-4678-aefb-386f6fe2cc4e",
   "metadata": {},
   "outputs": [],
   "source": [
    "l=[\"sudh\",\"kumar\",\"pwskills\"]\n"
   ]
  },
  {
   "cell_type": "code",
   "execution_count": 2,
   "id": "fc8f32fd-95b4-4c4a-ab37-b80f90eb3aea",
   "metadata": {},
   "outputs": [
    {
     "data": {
      "text/plain": [
       "4"
      ]
     },
     "execution_count": 2,
     "metadata": {},
     "output_type": "execute_result"
    }
   ],
   "source": [
    "len(\"sudh\")"
   ]
  },
  {
   "cell_type": "code",
   "execution_count": 3,
   "id": "52f57c7e-5a0f-478a-a5a2-e79b006bb3f7",
   "metadata": {},
   "outputs": [
    {
     "data": {
      "text/plain": [
       "5"
      ]
     },
     "execution_count": 3,
     "metadata": {},
     "output_type": "execute_result"
    }
   ],
   "source": [
    "len(\"kumar\")"
   ]
  },
  {
   "cell_type": "code",
   "execution_count": 4,
   "id": "ce4f3f02-1cdf-4567-b443-ab38b5411e50",
   "metadata": {},
   "outputs": [
    {
     "data": {
      "text/plain": [
       "8"
      ]
     },
     "execution_count": 4,
     "metadata": {},
     "output_type": "execute_result"
    }
   ],
   "source": [
    "len(\"pwskills\")"
   ]
  },
  {
   "cell_type": "code",
   "execution_count": 5,
   "id": "ac138487-1822-409b-807f-240142ccea0b",
   "metadata": {},
   "outputs": [],
   "source": [
    "l1 =[]\n",
    "for i in l:\n",
    "    l1.append(len(i))"
   ]
  },
  {
   "cell_type": "code",
   "execution_count": 6,
   "id": "21111ea8-8268-4b72-844e-dca57156820d",
   "metadata": {},
   "outputs": [
    {
     "data": {
      "text/plain": [
       "[4, 5, 8]"
      ]
     },
     "execution_count": 6,
     "metadata": {},
     "output_type": "execute_result"
    }
   ],
   "source": [
    "l1"
   ]
  },
  {
   "cell_type": "code",
   "execution_count": 7,
   "id": "2068e55d-85ea-4a12-af3e-a2240f2a7c0c",
   "metadata": {},
   "outputs": [],
   "source": [
    "def test35(l):\n",
    "    l1=[]\n",
    "    for i in l:\n",
    "        l1.append(len(i))\n",
    "    return l1    "
   ]
  },
  {
   "cell_type": "code",
   "execution_count": 8,
   "id": "88dcd63f-fd25-4dd6-817f-a3ca7ccef985",
   "metadata": {},
   "outputs": [
    {
     "data": {
      "text/plain": [
       "[4, 5, 8]"
      ]
     },
     "execution_count": 8,
     "metadata": {},
     "output_type": "execute_result"
    }
   ],
   "source": [
    "test35(l)"
   ]
  },
  {
   "cell_type": "code",
   "execution_count": 9,
   "id": "d756d6e0-cf65-4a7f-931f-a7a659825b8d",
   "metadata": {},
   "outputs": [
    {
     "data": {
      "text/plain": [
       "[4, 5, 8]"
      ]
     },
     "execution_count": 9,
     "metadata": {},
     "output_type": "execute_result"
    }
   ],
   "source": [
    "list(map(lambda c:len(c),l))"
   ]
  },
  {
   "cell_type": "code",
   "execution_count": 10,
   "id": "1400a19f-323d-4104-89b1-4f9ba8c47be6",
   "metadata": {},
   "outputs": [],
   "source": [
    "def test36(c):\n",
    "    return len(c)"
   ]
  },
  {
   "cell_type": "code",
   "execution_count": 11,
   "id": "43142698-2ef7-4017-be81-efcc38f9e8e1",
   "metadata": {},
   "outputs": [
    {
     "data": {
      "text/plain": [
       "[4, 5, 8]"
      ]
     },
     "execution_count": 11,
     "metadata": {},
     "output_type": "execute_result"
    }
   ],
   "source": [
    "list(map(test36,l))"
   ]
  },
  {
   "cell_type": "code",
   "execution_count": 12,
   "id": "6b1f32fa-d077-4dde-b409-029896971658",
   "metadata": {},
   "outputs": [
    {
     "data": {
      "text/plain": [
       "['sudh', 'kumar', 'pwskills']"
      ]
     },
     "execution_count": 12,
     "metadata": {},
     "output_type": "execute_result"
    }
   ],
   "source": [
    "l"
   ]
  },
  {
   "cell_type": "code",
   "execution_count": 13,
   "id": "67982e3b-683f-446d-816b-b2c47fce80ec",
   "metadata": {},
   "outputs": [
    {
     "data": {
      "text/plain": [
       "['pwskills', 'kumar', 'sudh']"
      ]
     },
     "execution_count": 13,
     "metadata": {},
     "output_type": "execute_result"
    }
   ],
   "source": [
    "l[::-1]"
   ]
  },
  {
   "cell_type": "code",
   "execution_count": 185,
   "id": "2c3a2c8c-7e5c-49a6-a308-898e9ef7c1ab",
   "metadata": {},
   "outputs": [
    {
     "data": {
      "text/plain": [
       "['hdus', 'ramuk', 'sllikswp']"
      ]
     },
     "execution_count": 185,
     "metadata": {},
     "output_type": "execute_result"
    }
   ],
   "source": [
    "list(map(lambda a:a[::-1],l))"
   ]
  },
  {
   "cell_type": "markdown",
   "id": "1cdaa32d-7a41-4373-aeea-b996b87f38ba",
   "metadata": {},
   "source": [
    "Reduce "
   ]
  },
  {
   "cell_type": "code",
   "execution_count": 14,
   "id": "d6b66da5-1220-4d34-ad1a-bd893a33cc19",
   "metadata": {},
   "outputs": [],
   "source": [
    "l = [2,3,2,1,4]\n",
    "from functools import reduce "
   ]
  },
  {
   "cell_type": "code",
   "execution_count": 15,
   "id": "51c4f805-1ad0-4a27-acc1-419df0e9c01e",
   "metadata": {},
   "outputs": [
    {
     "data": {
      "text/plain": [
       "48"
      ]
     },
     "execution_count": 15,
     "metadata": {},
     "output_type": "execute_result"
    }
   ],
   "source": [
    "reduce(lambda a,b :a*b ,l)"
   ]
  },
  {
   "cell_type": "markdown",
   "id": "c98ba4aa-a2bf-4f4b-b5ee-b4d02f67a009",
   "metadata": {},
   "source": [
    "MAP WAS NOT TO COLLAPSE BUT TO MAP EVERY ELEMENT OF FUNCTION BUT REDUCE IS TRYING TO COLLAPSING IT UNLESS AND UNTILL IT WILL NOT EXHAUST THE LIST. "
   ]
  },
  {
   "cell_type": "code",
   "execution_count": 16,
   "id": "ee0d947e-79b3-4cce-9231-4c852c7216f2",
   "metadata": {},
   "outputs": [],
   "source": [
    "l=[2,3,2,1,4]"
   ]
  },
  {
   "cell_type": "code",
   "execution_count": 17,
   "id": "cab049a9-91c3-4065-9334-105d3b69a993",
   "metadata": {},
   "outputs": [
    {
     "data": {
      "text/plain": [
       "[2, 3, 2, 1, 4]"
      ]
     },
     "execution_count": 17,
     "metadata": {},
     "output_type": "execute_result"
    }
   ],
   "source": [
    "l"
   ]
  },
  {
   "cell_type": "code",
   "execution_count": 19,
   "id": "54a42221-a19a-4e3f-8542-01483f7fc23a",
   "metadata": {},
   "outputs": [
    {
     "data": {
      "text/plain": [
       "1"
      ]
     },
     "execution_count": 19,
     "metadata": {},
     "output_type": "execute_result"
    }
   ],
   "source": [
    "min(l)"
   ]
  },
  {
   "cell_type": "code",
   "execution_count": 22,
   "id": "88db447f-e132-48dd-8213-3996cbcc09cc",
   "metadata": {},
   "outputs": [
    {
     "data": {
      "text/plain": [
       "4"
      ]
     },
     "execution_count": 22,
     "metadata": {},
     "output_type": "execute_result"
    }
   ],
   "source": [
    "reduce(lambda a,b:a if a>b else b,l)"
   ]
  },
  {
   "cell_type": "code",
   "execution_count": 26,
   "id": "f0a50bdb-7bbc-429a-94c7-aa0a65b3f4fe",
   "metadata": {},
   "outputs": [
    {
     "name": "stdin",
     "output_type": "stream",
     "text": [
      "Enter the number: 2\n"
     ]
    }
   ],
   "source": [
    "n=int(input(\"Enter the number:\"))\n",
    "fact=reduce (lambda a,b:a*b,range(1,n+1))"
   ]
  },
  {
   "cell_type": "code",
   "execution_count": 27,
   "id": "aaee6fb2-8f77-48f2-a56b-32cdbd06541d",
   "metadata": {},
   "outputs": [
    {
     "data": {
      "text/plain": [
       "2"
      ]
     },
     "execution_count": 27,
     "metadata": {},
     "output_type": "execute_result"
    }
   ],
   "source": [
    "fact"
   ]
  },
  {
   "cell_type": "code",
   "execution_count": 28,
   "id": "eb10bef7-0a72-47f6-877a-c0960ef1fe55",
   "metadata": {},
   "outputs": [],
   "source": [
    "def test(a,b):\n",
    "    return a*b"
   ]
  },
  {
   "cell_type": "code",
   "execution_count": 29,
   "id": "4904528d-afe7-42cc-bd93-1b14754ef38e",
   "metadata": {},
   "outputs": [],
   "source": [
    "fact1= reduce(test,range(1,n+1))"
   ]
  },
  {
   "cell_type": "code",
   "execution_count": 30,
   "id": "c3bc4315-da09-4824-8bf8-7dd1ab124aa6",
   "metadata": {},
   "outputs": [
    {
     "data": {
      "text/plain": [
       "2"
      ]
     },
     "execution_count": 30,
     "metadata": {},
     "output_type": "execute_result"
    }
   ],
   "source": [
    "fact1"
   ]
  },
  {
   "cell_type": "code",
   "execution_count": 31,
   "id": "e14c7cd3-7072-493d-b0dc-21a6b9f05a16",
   "metadata": {},
   "outputs": [
    {
     "data": {
      "text/plain": [
       "[2, 3, 2, 1, 4]"
      ]
     },
     "execution_count": 31,
     "metadata": {},
     "output_type": "execute_result"
    }
   ],
   "source": [
    "l"
   ]
  },
  {
   "cell_type": "code",
   "execution_count": 32,
   "id": "a02cd5cb-e2b6-4f3f-a7cf-cf2af75ef3a7",
   "metadata": {},
   "outputs": [],
   "source": [
    "s=1\n",
    "mul=reduce(lambda a,b: s*a if a%2==0 else s*1 ,l) "
   ]
  },
  {
   "cell_type": "code",
   "execution_count": 33,
   "id": "3250e67a-a215-4ab6-9ecc-e5ea25ab398b",
   "metadata": {},
   "outputs": [
    {
     "data": {
      "text/plain": [
       "2"
      ]
     },
     "execution_count": 33,
     "metadata": {},
     "output_type": "execute_result"
    }
   ],
   "source": [
    "mul"
   ]
  },
  {
   "cell_type": "code",
   "execution_count": 35,
   "id": "c507e8cd-96da-4976-8b81-ca462977275b",
   "metadata": {},
   "outputs": [],
   "source": [
    "mul_even=reduce(lambda a,b:a*b,[i for i in l if i%2==0]) "
   ]
  },
  {
   "cell_type": "code",
   "execution_count": 36,
   "id": "3e232a57-8047-42e8-9f97-2341beb9a24f",
   "metadata": {},
   "outputs": [
    {
     "data": {
      "text/plain": [
       "16"
      ]
     },
     "execution_count": 36,
     "metadata": {},
     "output_type": "execute_result"
    }
   ],
   "source": [
    "mul_even"
   ]
  },
  {
   "cell_type": "raw",
   "id": "69f4e88c-741e-43ee-9e19-23ad27cb1c27",
   "metadata": {},
   "source": [
    "FILTER FUNCTION "
   ]
  },
  {
   "cell_type": "code",
   "execution_count": 37,
   "id": "d8b08564-a66e-4b18-ac34-157a4c4054f8",
   "metadata": {},
   "outputs": [],
   "source": [
    "l=[3,4,5,6,76,32,2,4,5,5,5]"
   ]
  },
  {
   "cell_type": "code",
   "execution_count": 39,
   "id": "bc57c37f-a9d3-47fb-90db-ba5de32ba9b0",
   "metadata": {},
   "outputs": [
    {
     "data": {
      "text/plain": [
       "[4, 6, 76, 32, 2, 4]"
      ]
     },
     "execution_count": 39,
     "metadata": {},
     "output_type": "execute_result"
    }
   ],
   "source": [
    "list(filter(lambda a:a %2==0,l))"
   ]
  },
  {
   "cell_type": "code",
   "execution_count": 40,
   "id": "49316079-54fe-4123-97bc-ab8e6e965a5d",
   "metadata": {},
   "outputs": [],
   "source": [
    "s=\"Pw skills\""
   ]
  },
  {
   "cell_type": "code",
   "execution_count": 43,
   "id": "559ab5fd-f3ec-4ad1-acfa-b66e5ad14ffb",
   "metadata": {},
   "outputs": [
    {
     "data": {
      "text/plain": [
       "['w', 's', 'k', 'i', 'l', 'l', 's']"
      ]
     },
     "execution_count": 43,
     "metadata": {},
     "output_type": "execute_result"
    }
   ],
   "source": [
    "list(filter(lambda s: s.islower(),s))"
   ]
  },
  {
   "cell_type": "code",
   "execution_count": 44,
   "id": "d877c66e-46cd-45a6-9a77-d235879fcb43",
   "metadata": {},
   "outputs": [],
   "source": [
    "l=[\"pw\",\"pwskills\",\"sudh\",\"Krish\"]"
   ]
  },
  {
   "cell_type": "code",
   "execution_count": 45,
   "id": "fbc5b9fa-af82-442b-8971-09db81b2adee",
   "metadata": {},
   "outputs": [
    {
     "data": {
      "text/plain": [
       "['pw', 'sudh']"
      ]
     },
     "execution_count": 45,
     "metadata": {},
     "output_type": "execute_result"
    }
   ],
   "source": [
    "list(filter(lambda a: len(a)<=4 ,l))"
   ]
  },
  {
   "cell_type": "code",
   "execution_count": 46,
   "id": "8d3deb6d-d3ac-423c-80e5-bc8eafb71e10",
   "metadata": {},
   "outputs": [
    {
     "data": {
      "text/plain": [
       "['pw', 'pwskills', 'sudh', 'Krish']"
      ]
     },
     "execution_count": 46,
     "metadata": {},
     "output_type": "execute_result"
    }
   ],
   "source": [
    "l"
   ]
  },
  {
   "cell_type": "code",
   "execution_count": 50,
   "id": "8de044df-6f78-4772-b4d7-7f5f03735458",
   "metadata": {},
   "outputs": [
    {
     "data": {
      "text/plain": [
       "['pw', 'pwskills']"
      ]
     },
     "execution_count": 50,
     "metadata": {},
     "output_type": "execute_result"
    }
   ],
   "source": [
    "list(filter(lambda a: a[0]=='p',l))"
   ]
  },
  {
   "cell_type": "markdown",
   "id": "cc76841e-7f29-4bb0-abea-f878916c88cf",
   "metadata": {},
   "source": [
    "Recursive Function :Calling a same function again and again and again "
   ]
  },
  {
   "cell_type": "markdown",
   "id": "3ac4ec16-6053-4745-92ee-e5f1789e5b6f",
   "metadata": {},
   "source": [
    "Fibonacci series "
   ]
  },
  {
   "cell_type": "code",
   "execution_count": 1,
   "id": "b2d061c3-1f38-4bd7-a439-ee3a406a0cdb",
   "metadata": {},
   "outputs": [],
   "source": [
    "def gen_fib(n):\n",
    "    if n<=1:\n",
    "        return n\n",
    "    else:\n",
    "        return gen_fib(n-1)+gen_fib(n-2)"
   ]
  },
  {
   "cell_type": "code",
   "execution_count": 2,
   "id": "1a7ff38e-befb-44b7-a4ca-67d5684888b9",
   "metadata": {},
   "outputs": [
    {
     "data": {
      "text/plain": [
       "1"
      ]
     },
     "execution_count": 2,
     "metadata": {},
     "output_type": "execute_result"
    }
   ],
   "source": [
    "gen_fib(1)"
   ]
  },
  {
   "cell_type": "code",
   "execution_count": 4,
   "id": "5c3c8317-33ec-42a4-bd0d-c1ea445b5a9b",
   "metadata": {},
   "outputs": [
    {
     "data": {
      "text/plain": [
       "100"
      ]
     },
     "execution_count": 4,
     "metadata": {},
     "output_type": "execute_result"
    }
   ],
   "source": [
    "100--"
   ]
  },
  {
   "cell_type": "code",
   "execution_count": 5,
   "id": "9447597a-ade6-4ce9-9f5f-edcfec14435c",
   "metadata": {},
   "outputs": [],
   "source": [
    "def sum_till_n(n):\n",
    "    if n==1:\n",
    "        return 1\n",
    "    else:\n",
    "        return n+sum_till_n(n-1)"
   ]
  },
  {
   "cell_type": "code",
   "execution_count": 6,
   "id": "60081f6d-7c3c-4d11-846d-13d3efc6ad53",
   "metadata": {},
   "outputs": [
    {
     "data": {
      "text/plain": [
       "15"
      ]
     },
     "execution_count": 6,
     "metadata": {},
     "output_type": "execute_result"
    }
   ],
   "source": [
    "sum_till_n(5)"
   ]
  },
  {
   "cell_type": "code",
   "execution_count": null,
   "id": "5216af95-ce98-42ac-abd9-7e0177603220",
   "metadata": {},
   "outputs": [],
   "source": [
    "Next Class Agenda\n",
    "recursion \n",
    "while loop\n",
    "iterator \n",
    "iterable\n",
    "generator(yield)\n",
    "zip\n",
    "enumeration \n",
    "Decorators \n",
    "comprehension "
   ]
  },
  {
   "cell_type": "code",
   "execution_count": 24,
   "id": "b0a1922e-aaee-4f14-a8b6-9aabb41568d1",
   "metadata": {},
   "outputs": [
    {
     "name": "stdin",
     "output_type": "stream",
     "text": [
      "enter a number 8\n"
     ]
    }
   ],
   "source": [
    "a=int(input(\"enter a number\"))\n",
    "\n"
   ]
  },
  {
   "cell_type": "code",
   "execution_count": 18,
   "id": "cd1a2027-b6c6-4630-98ad-78c3c960b048",
   "metadata": {},
   "outputs": [],
   "source": [
    "l=[]"
   ]
  },
  {
   "cell_type": "code",
   "execution_count": 25,
   "id": "b44acb37-42f1-4f94-873b-976e042f61e8",
   "metadata": {},
   "outputs": [],
   "source": [
    "l.append(a)"
   ]
  },
  {
   "cell_type": "code",
   "execution_count": 26,
   "id": "3d7d89ba-6a6f-4a7f-9550-32379cfa6ee6",
   "metadata": {},
   "outputs": [
    {
     "data": {
      "text/plain": [
       "[9, 9, 8]"
      ]
     },
     "execution_count": 26,
     "metadata": {},
     "output_type": "execute_result"
    }
   ],
   "source": [
    "l"
   ]
  },
  {
   "cell_type": "code",
   "execution_count": 31,
   "id": "4cd7db0e-c940-4a01-aca6-5bb911f510f7",
   "metadata": {},
   "outputs": [],
   "source": [
    "def check_prime(n):\n",
    "    if n<=1:\n",
    "        return False\n",
    "    elif n<=3:\n",
    "        return True\n",
    "    elif n%2==0 or n%3==0:\n",
    "        return False\n",
    "    i=5\n",
    "    while i*i<=n:\n",
    "        if n%i == 0 or n%(i+2)==0:\n",
    "            return False\n",
    "        i+=6\n",
    "    return True \n",
    "prime=[i for i in range(2,100) if check_prime(i) ]"
   ]
  },
  {
   "cell_type": "code",
   "execution_count": 32,
   "id": "26b549c7-90d3-4f3b-8a42-07f5d5cf3a70",
   "metadata": {},
   "outputs": [
    {
     "data": {
      "text/plain": [
       "[2,\n",
       " 3,\n",
       " 5,\n",
       " 7,\n",
       " 11,\n",
       " 13,\n",
       " 17,\n",
       " 19,\n",
       " 23,\n",
       " 29,\n",
       " 31,\n",
       " 37,\n",
       " 41,\n",
       " 43,\n",
       " 47,\n",
       " 53,\n",
       " 59,\n",
       " 61,\n",
       " 67,\n",
       " 71,\n",
       " 73,\n",
       " 79,\n",
       " 83,\n",
       " 89,\n",
       " 97]"
      ]
     },
     "execution_count": 32,
     "metadata": {},
     "output_type": "execute_result"
    }
   ],
   "source": [
    "prime"
   ]
  },
  {
   "cell_type": "code",
   "execution_count": null,
   "id": "8589c53a-7e09-46cd-ac41-85be2aa01494",
   "metadata": {},
   "outputs": [],
   "source": []
  }
 ],
 "metadata": {
  "kernelspec": {
   "display_name": "Python 3 (ipykernel)",
   "language": "python",
   "name": "python3"
  },
  "language_info": {
   "codemirror_mode": {
    "name": "ipython",
    "version": 3
   },
   "file_extension": ".py",
   "mimetype": "text/x-python",
   "name": "python",
   "nbconvert_exporter": "python",
   "pygments_lexer": "ipython3",
   "version": "3.10.8"
  }
 },
 "nbformat": 4,
 "nbformat_minor": 5
}
